{
 "cells": [
  {
   "cell_type": "markdown",
   "id": "cf1ba08f-e72b-4b87-9533-7dd2285f4e94",
   "metadata": {},
   "source": [
    "print('Hello World!')"
   ]
  },
  {
   "cell_type": "code",
   "execution_count": null,
   "id": "bf64d96e-52fe-4552-8979-a3b95b945505",
   "metadata": {},
   "outputs": [],
   "source": [
    "pri"
   ]
  },
  {
   "cell_type": "markdown",
   "id": "86101e87-70df-4ee5-871e-e77ba89e9daa",
   "metadata": {},
   "source": [
    "The ships hung in the sky in much the same way that bricks don’t."
   ]
  },
  {
   "cell_type": "markdown",
   "id": "3035efb3-f80a-4da1-bcc6-969e285442c5",
   "metadata": {},
   "source": [
    "print('Hello World!')"
   ]
  },
  {
   "cell_type": "markdown",
   "id": "c982b930-8727-4d16-a3b2-0bc8052d7e5e",
   "metadata": {},
   "source": [
    "`print('Hello World!')`"
   ]
  },
  {
   "cell_type": "markdown",
   "id": "22b669fc-4863-4b67-824e-60427c9994ba",
   "metadata": {},
   "source": [
    "[SP2273 Website](https://sps.nus.edu.sg/sp2273/docs/python_basics/01_using_jupyter/1_using-jupyter_need.html)"
   ]
  },
  {
   "cell_type": "markdown",
   "id": "f0c7ebaa-990c-446b-bbb5-9319c8566566",
   "metadata": {},
   "source": [
    "## **Quadratic Equations** ##\n",
    "\n",
    "### **Introduction** ###\n",
    "\n",
    "![ ](https://upload.wikimedia.org/wikipedia/commons/thumb/f/f8/Polynomialdeg2.svg/300px-Polynomialdeg2.svg.png)\n",
    "\n",
    "(_Image from the [Wikipedia page on Quadratic equations](https://en.wikipedia.org/wiki/Quadratic_equation)_\n",
    "\n",
    "The general form of a quadratic equation is:\n",
    "\n",
    "$$ax^2+bx+c=0$$\n",
    "\n",
    "### **Solutions** ###\n",
    "Provided $a \\ne 0 $, we can use an elementary algebraic method called [completing the square](https://en.wikipedia.org/wiki/Completing_the_square) to show that a quadratic equation has the following solution:\n",
    "\n",
    "$$ x = \\dfrac{-b\\pm\\sqrt{b^2-4ac}}{2a}$$\n",
    "\n",
    "### **Discriminant** ###\n",
    "The quantity $ \\Delta = b^2 -4ac $ is called the **discriminant** of the equation and decides the nature of its solutions. The table below shows the various possibilities.\n",
    "\n",
    "|**Discriminant**       |**Roots**           |\n",
    "|:--:                   |:---               | \n",
    "|$\\Delta=b^2-4ac=0$|A single solution of $-b/(2a)$|\n",
    "|$ \\Delta = b^2-4ac>0 $  | Two distinct solutions|\n",
    "|$ \\Delta = b^2 -4ac < 0 $  | No real solutions; both are complex.|"
   ]
  },
  {
   "cell_type": "markdown",
   "id": "291e3a96-4a68-4c72-8e6f-91fa1aa56cb3",
   "metadata": {},
   "source": [
    "What is a Git repository?\n",
    "A git repository is like a storage area for one to store code. \n",
    "\n",
    "Git keeps tracks of changes_ in the files in our repository.\n",
    "\n",
    "What is a commit?\n",
    "Commiting refers to letting GitHub track the changes you have made in the repository.\n",
    "\n",
    "What is a push?\n",
    "Pushing refers to \"uploading\" a file into GitHub.\n",
    "\n",
    "What is a pull?\n",
    "Pullng refers to downloading a file from GitHub\n",
    "\n",
    "What is the difference between GitHub and GitHub Desktop?\n",
    "GitHub is like Onedrive or Dropbox. It is online and people can collaborate. GitHub Desktop is local.\n",
    "\n",
    "\n"
   ]
  },
  {
   "cell_type": "markdown",
   "id": "5fb3f658-05e0-4d60-82dd-98a81edf84af",
   "metadata": {},
   "source": [
    "$$\\mu=\\dfrac{1}{n}\\sum_{i=1}^{n} x_i$$\n",
    "\t$$\\sigma=\\sqrt{\\dfrac{1}{n}\\sum_{i=1}^{n} (x_i-\\mu)^2}$$\n",
    "    $$\\tau=\\dfrac{\\sum_{i=1}^{n}(x_i-\\mu_X)(y_i-\\mu_Y)}{\\sqrt{\\sum_{i=1}^{n}(x_i-\\mu_X)^2\\sum_{i=1}^{n}(y_i-\\mu_Y)^2}}$$\n",
    "\n",
    "\n",
    "    "
   ]
  },
  {
   "cell_type": "code",
   "execution_count": null,
   "id": "63c8043a-0f72-48d9-a8e2-3bd897f2a6dc",
   "metadata": {},
   "outputs": [],
   "source": []
  }
 ],
 "metadata": {
  "kernelspec": {
   "display_name": "Python 3 (ipykernel)",
   "language": "python",
   "name": "python3"
  },
  "language_info": {
   "codemirror_mode": {
    "name": "ipython",
    "version": 3
   },
   "file_extension": ".py",
   "mimetype": "text/x-python",
   "name": "python",
   "nbconvert_exporter": "python",
   "pygments_lexer": "ipython3",
   "version": "3.12.3"
  }
 },
 "nbformat": 4,
 "nbformat_minor": 5
}
