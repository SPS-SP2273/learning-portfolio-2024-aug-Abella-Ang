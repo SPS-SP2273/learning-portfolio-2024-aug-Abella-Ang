{
 "cells": [
  {
   "cell_type": "markdown",
   "id": "cf1ba08f-e72b-4b87-9533-7dd2285f4e94",
   "metadata": {},
   "source": [
    "print('Hello World!')"
   ]
  },
  {
   "cell_type": "code",
   "execution_count": null,
   "id": "bf64d96e-52fe-4552-8979-a3b95b945505",
   "metadata": {},
   "outputs": [],
   "source": [
    "pri"
   ]
  },
  {
   "cell_type": "markdown",
   "id": "86101e87-70df-4ee5-871e-e77ba89e9daa",
   "metadata": {},
   "source": [
    "The ships hung in the sky in much the same way that bricks don’t."
   ]
  },
  {
   "cell_type": "markdown",
   "id": "3035efb3-f80a-4da1-bcc6-969e285442c5",
   "metadata": {},
   "source": [
    "print('Hello World!')"
   ]
  },
  {
   "cell_type": "markdown",
   "id": "c982b930-8727-4d16-a3b2-0bc8052d7e5e",
   "metadata": {},
   "source": [
    "`print('Hello World!')`"
   ]
  },
  {
   "cell_type": "markdown",
   "id": "22b669fc-4863-4b67-824e-60427c9994ba",
   "metadata": {},
   "source": [
    "[SP2273 Website](https://sps.nus.edu.sg/sp2273/docs/python_basics/01_using_jupyter/1_using-jupyter_need.html)"
   ]
  },
  {
   "cell_type": "markdown",
   "id": "f0c7ebaa-990c-446b-bbb5-9319c8566566",
   "metadata": {},
   "source": [
    "## **Quadratic Equations** ##\n",
    "\n",
    "### **Introduction** ###\n",
    "\n",
    "![ ](https://upload.wikimedia.org/wikipedia/commons/thumb/f/f8/Polynomialdeg2.svg/300px-Polynomialdeg2.svg.png)\n",
    "\n",
    "(_Image from the [Wikipedia page on Quadratic equations](https://en.wikipedia.org/wiki/Quadratic_equation)_\n",
    "\n",
    "The general form of a quadratic equation is:\n",
    "\n",
    "$$ax^2+bx+c=0$$\n",
    "\n",
    "### **Solutions** ###\n",
    "Provided $a \\ne 0 $, we can use an elementary algebraic method called [completing the square](https://en.wikipedia.org/wiki/Completing_the_square) to show that a quadratic equation has the following solution:\n",
    "\n",
    "$$ x = \\dfrac{-b\\pm\\sqrt{b^2-4ac}}{2a}$$\n",
    "\n",
    "### **Discriminant** ###\n",
    "The quantity $ \\Delta = b^2 -4ac $ is called the **discriminant** of the equation and decides the nature of its solutions. The table below shows the various possibilities.\n",
    "\n",
    "|**Discriminant**       |**Roots**           |\n",
    "|:--:                   |:---               | \n",
    "|$\\Delta=b^2-4ac=0$|A single solution of $-b/(2a)$|\n",
    "|$ \\Delta = b^2-4ac>0 $  | Two distinct solutions|\n",
    "|$ \\Delta = b^2 -4ac < 0 $  | No real solutions; both are complex.|"
   ]
  },
  {
   "cell_type": "code",
   "execution_count": null,
   "id": "5d0a3006-3821-46c8-8b3e-bc60e84e867a",
   "metadata": {},
   "outputs": [],
   "source": []
  }
 ],
 "metadata": {
  "kernelspec": {
   "display_name": "Python 3 (ipykernel)",
   "language": "python",
   "name": "python3"
  },
  "language_info": {
   "codemirror_mode": {
    "name": "ipython",
    "version": 3
   },
   "file_extension": ".py",
   "mimetype": "text/x-python",
   "name": "python",
   "nbconvert_exporter": "python",
   "pygments_lexer": "ipython3",
   "version": "3.12.3"
  }
 },
 "nbformat": 4,
 "nbformat_minor": 5
}
