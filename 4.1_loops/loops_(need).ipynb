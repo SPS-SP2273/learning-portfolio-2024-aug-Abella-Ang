{
 "cells": [
  {
   "attachments": {},
   "cell_type": "markdown",
   "id": "123456",
   "metadata": {},
   "source": [
    "<div style=\"text-align:left;font-size:2em\"><span style=\"font-weight:bolder;font-size:1.25em\">SP2273 | Learning Portfolio</span><br><br><span style=\"font-weight:bold;color:darkred\">Loops (Need)</span></div>"
   ]
  },
  {
   "attachments": {},
   "cell_type": "markdown",
   "id": "28bdb8ce",
   "metadata": {},
   "source": [
    "# What to expect in this chapter"
   ]
  },
  {
   "cell_type": "code",
   "execution_count": 1,
   "id": "298b4485-77b2-40cf-8b89-52759c9b905d",
   "metadata": {},
   "outputs": [],
   "source": [
    "super_names = [\"Black Widow\", \"Iron Man\", \"Doctor Strange\"]\n",
    "real_names = [\"Natasha Romanoff\", \"Tony Stark\", \"Stephen Strange\"]"
   ]
  },
  {
   "cell_type": "code",
   "execution_count": 4,
   "id": "ae00ad41-2119-4944-9199-e4fa84ab483a",
   "metadata": {},
   "outputs": [
    {
     "name": "stdout",
     "output_type": "stream",
     "text": [
      "Natasha Romanoff is a Marvel superhero!\n",
      "Tony Stark is a Marvel superhero!\n",
      "Stephen Strange is a Marvel superhero!\n"
     ]
    }
   ],
   "source": [
    "for name in real_names:\n",
    "    print(f\"{name} is a Marvel superhero!\")"
   ]
  },
  {
   "cell_type": "code",
   "execution_count": 7,
   "id": "51d01d65-ec47-4171-9779-6c759155d4f4",
   "metadata": {},
   "outputs": [
    {
     "ename": "NameError",
     "evalue": "name 'i' is not defined",
     "output_type": "error",
     "traceback": [
      "\u001b[1;31m---------------------------------------------------------------------------\u001b[0m",
      "\u001b[1;31mNameError\u001b[0m                                 Traceback (most recent call last)",
      "Cell \u001b[1;32mIn[7], line 1\u001b[0m\n\u001b[1;32m----> 1\u001b[0m \u001b[38;5;28;01mfor\u001b[39;00m i \u001b[38;5;129;01min\u001b[39;00m real_names(\u001b[43mi\u001b[49m):\n\u001b[0;32m      2\u001b[0m     \u001b[38;5;28mprint\u001b[39m(\u001b[38;5;124mf\u001b[39m\u001b[38;5;124m\"\u001b[39m\u001b[38;5;132;01m{\u001b[39;00mname\u001b[38;5;132;01m}\u001b[39;00m\u001b[38;5;124m is a Marvel superhero!\u001b[39m\u001b[38;5;124m\"\u001b[39m)\n",
      "\u001b[1;31mNameError\u001b[0m: name 'i' is not defined"
     ]
    }
   ],
   "source": [
    "for i in real_names(i):\n",
    "    print(f\"{name} is a Marvel superhero!\")\n",
    "#this shows that real_names(i) does not cycle through all of the indexes, but real_names do"
   ]
  },
  {
   "cell_type": "code",
   "execution_count": 9,
   "id": "7e12e502-888b-4bf9-b359-8eb7733d15c9",
   "metadata": {},
   "outputs": [
    {
     "name": "stdout",
     "output_type": "stream",
     "text": [
      "0: Natasha Romanoff is a Marvel superhero!\n",
      "1: Tony Stark is a Marvel superhero!\n",
      "2: Stephen Strange is a Marvel superhero!\n"
     ]
    }
   ],
   "source": [
    "for count, name in enumerate(real_names):\n",
    "    print(f'{count}: {name} is a Marvel superhero!')\n"
   ]
  },
  {
   "cell_type": "code",
   "execution_count": 10,
   "id": "4c7bfa22-eedd-45e3-bdf5-3824964a02c9",
   "metadata": {},
   "outputs": [
    {
     "ename": "ValueError",
     "evalue": "too many values to unpack (expected 2)",
     "output_type": "error",
     "traceback": [
      "\u001b[1;31m---------------------------------------------------------------------------\u001b[0m",
      "\u001b[1;31mValueError\u001b[0m                                Traceback (most recent call last)",
      "Cell \u001b[1;32mIn[10], line 1\u001b[0m\n\u001b[1;32m----> 1\u001b[0m \u001b[38;5;28;01mfor\u001b[39;00m count, name \u001b[38;5;129;01min\u001b[39;00m real_names: \u001b[38;5;66;03m#this shows you that enumerate allows you to add one more variable in your function, without it, you can't\u001b[39;00m\n\u001b[0;32m      2\u001b[0m     \u001b[38;5;28mprint\u001b[39m(\u001b[38;5;124mf\u001b[39m\u001b[38;5;124m'\u001b[39m\u001b[38;5;132;01m{\u001b[39;00mcount\u001b[38;5;132;01m}\u001b[39;00m\u001b[38;5;124m: \u001b[39m\u001b[38;5;132;01m{\u001b[39;00mname\u001b[38;5;132;01m}\u001b[39;00m\u001b[38;5;124m is a Marvel superhero!\u001b[39m\u001b[38;5;124m'\u001b[39m)\n",
      "\u001b[1;31mValueError\u001b[0m: too many values to unpack (expected 2)"
     ]
    }
   ],
   "source": [
    "for count, name in real_names: #this shows you that enumerate allows you to add one more variable in your function, without it, you can't\n",
    "    print(f'{count}: {name} is a Marvel superhero!')\n"
   ]
  },
  {
   "cell_type": "code",
   "execution_count": 11,
   "id": "cdb03a52-d365-4148-8114-b1edf6ff9003",
   "metadata": {},
   "outputs": [
    {
     "name": "stdout",
     "output_type": "stream",
     "text": [
      "Natasha Romanoff is Black Widow!\n",
      "Tony Stark is Iron Man!\n",
      "Stephen Strange is Doctor Strange!\n"
     ]
    }
   ],
   "source": [
    "for index, name in enumerate(real_names): #enumerate allows you to take in one more variable\n",
    "    superhero_name = super_names[index] #youc can use the variable to cycle through the 2nd list\n",
    "    print(f'{name} is {superhero_name}!')"
   ]
  },
  {
   "cell_type": "code",
   "execution_count": null,
   "id": "e3cedb3c-f458-4461-bcad-0ebb7e48ec30",
   "metadata": {},
   "outputs": [],
   "source": [
    "for i in range(len(real_names)):\n",
    "    real_name = real_names[i]\n",
    "    super_name = super_names[i] for eaac    \n",
    "    print(f\"{real_name} is Marvel's {super_name}!\")"
   ]
  },
  {
   "attachments": {},
   "cell_type": "markdown",
   "id": "066a2d90",
   "metadata": {},
   "source": [
    "# 1 The for iterator"
   ]
  },
  {
   "attachments": {},
   "cell_type": "markdown",
   "id": "b7490822",
   "metadata": {},
   "source": [
    "## 1.1 for with a list"
   ]
  },
  {
   "cell_type": "code",
   "execution_count": 2,
   "id": "a50954f1-ebd8-4b77-b22c-d6a5b8619e2e",
   "metadata": {},
   "outputs": [
    {
     "name": "stdout",
     "output_type": "stream",
     "text": [
      "a is an alphabet\n",
      "b is an alphabet\n",
      "c is an alphabet\n"
     ]
    }
   ],
   "source": [
    "list=['a','b','c']\n",
    "for element in list: #defines what the elements in list are\n",
    "    print (f\"{element} is an alphabet\") "
   ]
  },
  {
   "attachments": {},
   "cell_type": "markdown",
   "id": "b274b610",
   "metadata": {},
   "source": [
    "## 1.2 for with enumerate"
   ]
  },
  {
   "cell_type": "code",
   "execution_count": 1,
   "id": "00ae3b0f-f51f-4b91-aa8a-eb1a7692e8a0",
   "metadata": {},
   "outputs": [
    {
     "name": "stdout",
     "output_type": "stream",
     "text": [
      "0: Natasha Romanoff is a Marvel superhero!\n",
      "1: Tony Stark is a Marvel superhero!\n",
      "2: Stephen Strange is a Marvel superhero!\n",
      "Natasha Romanoff is Black Widow!\n",
      "Tony Stark is Iron Man!\n",
      "Stephen Strange is Doctor Strange!\n"
     ]
    }
   ],
   "source": [
    "# enumerate can call out more than 1 thing in the list\n",
    "real_names = [\"Natasha Romanoff\", \"Tony Stark\", \"Stephen Strange\"]\n",
    "for count, name in enumerate(real_names): #loop goes through list called real names. Enumerate mentions the count and name \n",
    "    print(f'{count}: {name} is a Marvel superhero!') \n",
    "\n",
    "#enumerate helps you access data from more than 1 list by indexing(position of elements), and even the entire index using [index]\n",
    "super_names = [\"Black Widow\", \"Iron Man\", \"Doctor Strange\"]\n",
    "for index, name in enumerate(real_names): #mentions the variable called 'index', which python does not care but is useful to us\n",
    "    superhero_name = super_names[index]\n",
    "    print(f'{name} is {superhero_name}!')"
   ]
  },
  {
   "attachments": {},
   "cell_type": "markdown",
   "id": "e4a1d574",
   "metadata": {},
   "source": [
    "## 1.3 for with range"
   ]
  },
  {
   "cell_type": "code",
   "execution_count": 2,
   "id": "971f8826-370e-49b4-aa06-340dff419ef8",
   "metadata": {},
   "outputs": [
    {
     "name": "stdout",
     "output_type": "stream",
     "text": [
      "Natasha Romanoff is Marvel's Black Widow!\n",
      "Tony Stark is Marvel's Iron Man!\n",
      "Stephen Strange is Marvel's Doctor Strange!\n"
     ]
    }
   ],
   "source": [
    "for i in range(len(real_names)): #range given by size of list\n",
    "    real_name = real_names[i] #loops through the list called real names \n",
    "    super_name = super_names[i] #loops through the list called super names      \n",
    "    print(f\"{real_name} is Marvel's {super_name}!\") \n"
   ]
  },
  {
   "attachments": {},
   "cell_type": "markdown",
   "id": "a1040b4c",
   "metadata": {},
   "source": [
    "# 2 while"
   ]
  },
  {
   "cell_type": "code",
   "execution_count": null,
   "id": "8bfdf831-9c33-4f21-884b-c7fbbe1fdce3",
   "metadata": {},
   "outputs": [],
   "source": [
    "number = 0\n",
    "#does the action until (while) the condition remains true\n",
    "while number < 5: #print the number +1 starting from 0 and stop when the number >5\n",
    "    print(number)\n",
    "    number += 1 \n"
   ]
  },
  {
   "cell_type": "code",
   "execution_count": 1,
   "id": "ac7eafd4-757e-4ede-9b6e-9a4683a6bbde",
   "metadata": {},
   "outputs": [
    {
     "name": "stdout",
     "output_type": "stream",
     "text": [
      "Experiment 1: No. of Heads: 5\n",
      "Experiment 2: No. of Heads: 3\n",
      "Experiment 3: No. of Heads: 5\n",
      "Experiment 4: No. of Heads: 5\n",
      "Experiment 5: No. of Heads: 7\n",
      "Experiment 6: No. of Heads: 5\n",
      "Experiment 7: No. of Heads: 5\n",
      "Experiment 8: No. of Heads: 6\n",
      "Experiment 9: No. of Heads: 3\n",
      "Experiment 10: No. of Heads: 1\n"
     ]
    }
   ],
   "source": [
    "import numpy as np\n",
    "\n",
    "for a in range (1,11): #no. of experiments\n",
    "    \n",
    "    tosses= np.random.rand(10) #generate 10 random numbers\n",
    "    heads = 0\n",
    "    for i in range(1,10): #sorting into heads/ tails\n",
    "    \n",
    "        if tosses[i] > 0.5 : #heads in 1 throw\n",
    "        \n",
    "            heads = heads +1 #counts the heads\n",
    "    print(f'Experiment {a}: No. of Heads: {heads}' )\n",
    "     "
   ]
  },
  {
   "cell_type": "code",
   "execution_count": 2,
   "id": "91190af4-e079-4a03-87db-9fc7ba887ab1",
   "metadata": {},
   "outputs": [
    {
     "ename": "TypeError",
     "evalue": "can't multiply sequence by non-int of type 'numpy.str_'",
     "output_type": "error",
     "traceback": [
      "\u001b[1;31m---------------------------------------------------------------------------\u001b[0m",
      "\u001b[1;31mTypeError\u001b[0m                                 Traceback (most recent call last)",
      "Cell \u001b[1;32mIn[2], line 8\u001b[0m\n\u001b[0;32m      6\u001b[0m \u001b[38;5;28;01mfor\u001b[39;00m number \u001b[38;5;129;01min\u001b[39;00m array1: \u001b[38;5;66;03m#for each of the numbers in array 1\u001b[39;00m\n\u001b[0;32m      7\u001b[0m     \u001b[38;5;28;01mfor\u001b[39;00m multiplier \u001b[38;5;129;01min\u001b[39;00m array2:\n\u001b[1;32m----> 8\u001b[0m      multiplication\u001b[38;5;241m=\u001b[39m \u001b[43mnumber\u001b[49m\u001b[38;5;241;43m*\u001b[39;49m\u001b[43mmultiplier\u001b[49m   \n\u001b[0;32m      9\u001b[0m     \u001b[38;5;28mprint\u001b[39m(\u001b[38;5;124mf\u001b[39m\u001b[38;5;124m'\u001b[39m\u001b[38;5;132;01m{\u001b[39;00mmultiplication\u001b[38;5;132;01m}\u001b[39;00m\u001b[38;5;124m'\u001b[39m, end\u001b[38;5;241m=\u001b[39m\u001b[38;5;124m'\u001b[39m\u001b[38;5;130;01m\\t\u001b[39;00m\u001b[38;5;124m'\u001b[39m)\n\u001b[0;32m     10\u001b[0m \u001b[38;5;28mprint\u001b[39m(\u001b[38;5;124mf\u001b[39m\u001b[38;5;124m'\u001b[39m\u001b[38;5;132;01m{\u001b[39;00mnumber\u001b[38;5;132;01m}\u001b[39;00m\u001b[38;5;124m:\u001b[39m\u001b[38;5;124m'\u001b[39m, end\u001b[38;5;241m=\u001b[39m\u001b[38;5;124m'\u001b[39m\u001b[38;5;130;01m\\n\u001b[39;00m\u001b[38;5;124m'\u001b[39m)\n",
      "\u001b[1;31mTypeError\u001b[0m: can't multiply sequence by non-int of type 'numpy.str_'"
     ]
    }
   ],
   "source": [
    "list1 = ['1', '2', '3'] \n",
    "array1 = np.array(list1)\n",
    "list2 = ['1', '2', '3'] \n",
    "array2 = np.array(list2)\n",
    "\n",
    "for number in array1: #for each of the numbers in array 1\n",
    "    for multiplier in array2:\n",
    "     multiplication= number*multiplier   \n",
    "    print(f'{multiplication}', end='\\t')\n",
    "print(f'{number}:', end='\\n')\n",
    "#doesnt work because its kinda tricky? but i already tried to isolate the elements"
   ]
  },
  {
   "cell_type": "code",
   "execution_count": 7,
   "id": "be49bf3c-a988-4c7a-be01-101fbfee2044",
   "metadata": {},
   "outputs": [
    {
     "name": "stdout",
     "output_type": "stream",
     "text": [
      "1\t2\t3\t4\t5\t1:\n",
      "2\t4\t6\t8\t10\t2:\n",
      "3\t6\t9\t12\t15\t3:\n",
      "4\t8\t12\t16\t20\t4:\n",
      "5\t10\t15\t20\t25\t5:\n"
     ]
    }
   ],
   "source": [
    "for number in range(1,6): #for each number \n",
    "    for multiplier in range(1,6):\n",
    "        multiplication= number*multiplier   \n",
    "        print(f'{multiplication}', end='\\t')\n",
    "    \n",
    "    print(f'{number}:', end='\\n') #loops with the 1st for. you realise that it adds onto the current table \n"
   ]
  },
  {
   "cell_type": "code",
   "execution_count": null,
   "id": "a9ea3de2-8d7d-44b6-bac3-288673e86072",
   "metadata": {},
   "outputs": [],
   "source": []
  }
 ],
 "metadata": {
  "kernelspec": {
   "display_name": "Python 3 (ipykernel)",
   "language": "python",
   "name": "python3"
  },
  "language_info": {
   "codemirror_mode": {
    "name": "ipython",
    "version": 3
   },
   "file_extension": ".py",
   "mimetype": "text/x-python",
   "name": "python",
   "nbconvert_exporter": "python",
   "pygments_lexer": "ipython3",
   "version": "3.12.3"
  },
  "toc": {
   "base_numbering": 1,
   "nav_menu": {},
   "number_sections": true,
   "sideBar": true,
   "skip_h1_title": false,
   "title_cell": "Table of Contents",
   "title_sidebar": "Contents",
   "toc_cell": false,
   "toc_position": {},
   "toc_section_display": true,
   "toc_window_display": false
  },
  "vscode": {
   "interpreter": {
    "hash": "31f2aee4e71d21fbe5cf8b01ff0e069b9275f58929596ceb00d14d90e3e16cd6"
   }
  }
 },
 "nbformat": 4,
 "nbformat_minor": 5
}
