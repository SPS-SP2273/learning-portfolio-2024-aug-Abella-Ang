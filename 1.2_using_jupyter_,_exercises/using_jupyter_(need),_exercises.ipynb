{
 "cells": [
  {
   "attachments": {},
   "cell_type": "markdown",
   "id": "123456",
   "metadata": {},
   "source": [
    "<div style=\"text-align:left;font-size:2em\"><span style=\"font-weight:bolder;font-size:1.25em\">SP2273 | Learning Portfolio</span><br><br><span style=\"font-weight:bold;color:darkred\">Using Jupyter (Need), Exercises</span></div>"
   ]
  },
  {
   "attachments": {},
   "cell_type": "markdown",
   "id": "7ba0d6c2",
   "metadata": {},
   "source": [
    "## 1 Quadratic Equations"
   ]
  },
  {
   "attachments": {},
   "cell_type": "markdown",
   "id": "45363134",
   "metadata": {},
   "source": [
    "### Introduction"
   ]
  },
  {
   "cell_type": "markdown",
   "id": "cdd14968-2414-4655-8844-fa772defc69e",
   "metadata": {},
   "source": [
    "\n",
    "## **Quadratic Equations** ##\n",
    "\n",
    "### **Introduction** ###\n",
    "\n",
    "![ ](https://upload.wikimedia.org/wikipedia/commons/thumb/f/f8/Polynomialdeg2.svg/300px-Polynomialdeg2.svg.png)\n",
    "\n",
    "(_Image from the [Wikipedia page on Quadratic equations](https://en.wikipedia.org/wiki/Quadratic_equation)_\n",
    "\n",
    "The general form of a quadratic equation is:\n",
    "\n",
    "$$ax^2+bx+c=0$$\n"
   ]
  },
  {
   "cell_type": "markdown",
   "id": "9e846c35-72d5-4646-89cb-246e0073e0d2",
   "metadata": {},
   "source": [
    "### **Solutions** ###\n",
    "Provided $a \\ne 0 $, we can use an elementary algebraic method called [completing the square](https://en.wikipedia.org/wiki/Completing_the_square) to show that a quadratic equation has the following solution:\n",
    "\n",
    "$$ x = \\dfrac{-b\\pm\\sqrt{b^2-4ac}}{2a}$$\n"
   ]
  },
  {
   "cell_type": "markdown",
   "id": "b260745e-8e04-482f-90a2-61e5be9a5f13",
   "metadata": {},
   "source": [
    "\n",
    "### **Discriminant** ###\n",
    "The quantity $ \\Delta = b^2 -4ac $ is called the **discriminant** of the equation and decides the nature of its solutions. The table below shows the various possibilities.\n",
    "\n",
    "|**Discriminant**       |**Roots**           |\n",
    "|:--:                   |:---               | \n",
    "|$\\Delta=b^2-4ac=0$|A single solution of $-b/(2a)$|\n",
    "|$ \\Delta = b^2-4ac>0 $  | Two distinct solutions|\n",
    "|$ \\Delta = b^2 -4ac < 0 $  | No real solutions; both are complex.|\n"
   ]
  },
  {
   "attachments": {},
   "cell_type": "markdown",
   "id": "c3631f4e",
   "metadata": {},
   "source": [
    "### Exercise 2"
   ]
  },
  {
   "cell_type": "markdown",
   "id": "e3b08459-c177-49fc-8146-fd289f82280a",
   "metadata": {},
   "source": [
    "What is a Git repository?\n",
    "A git repository is like a storage area for one to store code. \n",
    "\n",
    "Git keeps tracks of changes_ in the files in our repository.\n",
    "\n",
    "What is a commit?\n",
    "Commiting refers to letting GitHub track the changes you have made in the repository.\n",
    "\n",
    "What is a push?\n",
    "Pushing refers to \"uploading\" a file into GitHub.\n",
    "\n",
    "What is a pull?\n",
    "Pullng refers to downloading a file from GitHub\n",
    "\n",
    "What is the difference between GitHub and GitHub Desktop?\n",
    "GitHub is like Onedrive or Dropbox. It is online and people can collaborate. GitHub Desktop is local."
   ]
  },
  {
   "attachments": {},
   "cell_type": "markdown",
   "id": "9989221f",
   "metadata": {},
   "source": [
    "### Exercise 3"
   ]
  },
  {
   "cell_type": "markdown",
   "id": "c09a0ea1-f638-400f-8bc8-76c8d5e93a8c",
   "metadata": {},
   "source": [
    "$$\\mu=\\dfrac{1}{n}\\sum_{i=1}^{n} x_i$$\n",
    "\t$$\\sigma=\\sqrt{\\dfrac{1}{n}\\sum_{i=1}^{n} (x_i-\\mu)^2}$$\n",
    "    $$\\tau=\\dfrac{\\sum_{i=1}^{n}(x_i-\\mu_X)(y_i-\\mu_Y)}{\\sqrt{\\sum_{i=1}^{n}(x_i-\\mu_X)^2\\sum_{i=1}^{n}(y_i-\\mu_Y)^2}}$$\n"
   ]
  },
  {
   "cell_type": "code",
   "execution_count": null,
   "id": "d56b29a0-20e1-4bea-a672-87bd838302da",
   "metadata": {},
   "outputs": [],
   "source": []
  }
 ],
 "metadata": {
  "kernelspec": {
   "display_name": "Python 3 (ipykernel)",
   "language": "python",
   "name": "python3"
  },
  "language_info": {
   "codemirror_mode": {
    "name": "ipython",
    "version": 3
   },
   "file_extension": ".py",
   "mimetype": "text/x-python",
   "name": "python",
   "nbconvert_exporter": "python",
   "pygments_lexer": "ipython3",
   "version": "3.12.3"
  },
  "toc": {
   "base_numbering": 1,
   "nav_menu": {},
   "number_sections": true,
   "sideBar": true,
   "skip_h1_title": false,
   "title_cell": "Table of Contents",
   "title_sidebar": "Contents",
   "toc_cell": false,
   "toc_position": {},
   "toc_section_display": true,
   "toc_window_display": false
  },
  "vscode": {
   "interpreter": {
    "hash": "31f2aee4e71d21fbe5cf8b01ff0e069b9275f58929596ceb00d14d90e3e16cd6"
   }
  }
 },
 "nbformat": 4,
 "nbformat_minor": 5
}
