{
 "cells": [
  {
   "attachments": {},
   "cell_type": "markdown",
   "id": "123456",
   "metadata": {},
   "source": [
    "<div style=\"text-align:left;font-size:2em\"><span style=\"font-weight:bolder;font-size:1.25em\">SP2273 | Learning Portfolio</span><br><br><span style=\"font-weight:bold;color:darkred\">Fundamentals (Good) Exercises</span></div>"
   ]
  },
  {
   "cell_type": "markdown",
   "id": "cf3c6284-e94e-4039-8d10-65edb82df0be",
   "metadata": {},
   "source": [
    "## **Exercise 1** ##"
   ]
  },
  {
   "cell_type": "markdown",
   "id": "1f680601-cfe1-42de-9dae-9493b3ad884c",
   "metadata": {},
   "source": [
    "### **Example** ###"
   ]
  },
  {
   "cell_type": "code",
   "execution_count": 1,
   "id": "efa2ee5c-2698-4e1f-8d2e-d7dcdda39a9d",
   "metadata": {},
   "outputs": [
    {
     "name": "stdin",
     "output_type": "stream",
     "text": [
      "Please provide me with a number? 5\n"
     ]
    },
    {
     "name": "stdout",
     "output_type": "stream",
     "text": [
      "You entered 5\n"
     ]
    }
   ],
   "source": [
    "user_input = input('Please provide me with a number?')\n",
    "print('You entered', user_input)"
   ]
  },
  {
   "cell_type": "markdown",
   "id": "d856a950-18fc-4e36-bd2f-e39e21589704",
   "metadata": {},
   "source": [
    "### **Task 1** ###"
   ]
  },
  {
   "cell_type": "code",
   "execution_count": 12,
   "id": "fe9d8ab3-c4a5-4f98-9fab-de4c741982a9",
   "metadata": {},
   "outputs": [
    {
     "name": "stdin",
     "output_type": "stream",
     "text": [
      "Tell me your name: abella\n"
     ]
    },
    {
     "name": "stdout",
     "output_type": "stream",
     "text": [
      "How you doin, \u001b[1mABELLA\u001b[0m!\n"
     ]
    }
   ],
   "source": [
    "user_input= input('Tell me your name:')\n",
    "print(f'How you doin, \\033[1m{user_input.upper()}\\033[0m!') #use an f string with \\033[1m bold text \\033[0m "
   ]
  },
  {
   "cell_type": "markdown",
   "id": "3c0f5b26-d7d0-4df9-99ce-f5c06147b7a7",
   "metadata": {},
   "source": [
    "### **Task 2** ###"
   ]
  },
  {
   "cell_type": "code",
   "execution_count": 14,
   "id": "db479f44-2980-494d-932c-e694e2165521",
   "metadata": {},
   "outputs": [
    {
     "name": "stdin",
     "output_type": "stream",
     "text": [
      "What is your name: alex\n",
      "What is your age: 314\n"
     ]
    },
    {
     "name": "stdout",
     "output_type": "stream",
     "text": [
      "My name is \u001b[1mALEX\u001b[0m and I am \u001b[1m314\u001b[0m years old.\n"
     ]
    }
   ],
   "source": [
    "NAME = input('What is your name:') #user_input is the variable and it can be changed. input()is the function that asks for the user's input\n",
    "AGE = input('What is your age:')\n",
    "print(f'My name is \\033[1m{NAME.upper()}\\033[0m and I am \\033[1m{AGE}\\033[0m years old.') "
   ]
  },
  {
   "cell_type": "markdown",
   "id": "ea15d92b-c22e-4a2c-a7d6-2bb354eaa6f8",
   "metadata": {},
   "source": [
    "### **Task 3** ###"
   ]
  },
  {
   "cell_type": "code",
   "execution_count": 52,
   "id": "3f89eb1c-af39-4b67-9c45-387320114d4e",
   "metadata": {},
   "outputs": [
    {
     "name": "stdout",
     "output_type": "stream",
     "text": [
      "The value of pi to 2 decimal places is: 3.14\n",
      "The value of pi to 3 decimal places is: 3.142\n",
      "The value of pi to 4 decimal places is: 3.1416\n"
     ]
    }
   ],
   "source": [
    "pi=3.141592653589793\n",
    "print(f'The value of pi to 2 decimal places is: {pi:.2f}') # the f-string is used to insert a variable into the string.\n",
    "print(f'The value of pi to 3 decimal places is: {pi:.3f}') \n",
    "print(f'The value of pi to 4 decimal places is: {pi:.4f}')"
   ]
  },
  {
   "cell_type": "code",
   "execution_count": 1,
   "id": "c30ba89e-b2d7-4294-b505-c212fe1c6a36",
   "metadata": {},
   "outputs": [],
   "source": [
    "import numpy as np"
   ]
  },
  {
   "cell_type": "code",
   "execution_count": 2,
   "id": "ff6d86bf-1ca6-48c6-bafb-ee7ee6673b35",
   "metadata": {},
   "outputs": [
    {
     "name": "stdout",
     "output_type": "stream",
     "text": [
      "The value of pi to 2 decimal places is: 3.14\n",
      "The value of pi to 3 decimal places is: 3.142\n",
      "The value of pi to 4 decimal places is: 3.1416\n"
     ]
    }
   ],
   "source": [
    "pi=3.141592653589793\n",
    "print(f'The value of pi to 2 decimal places is: {np.pi:.2f}') # the f-string is used to insert a variable into the string.\n",
    "print(f'The value of pi to 3 decimal places is: {np.pi:.3f}') \n",
    "print(f'The value of pi to 4 decimal places is: {np.pi:.4f}')"
   ]
  },
  {
   "cell_type": "code",
   "execution_count": 45,
   "id": "84e57236-15c0-477f-847c-914ddfdc0b3e",
   "metadata": {},
   "outputs": [
    {
     "name": "stdout",
     "output_type": "stream",
     "text": [
      "The value of pi to 2 decimal places is: {pi:.6f}\n",
      "The value of pi is 3\n"
     ]
    },
    {
     "ename": "ValueError",
     "evalue": "Precision not allowed in integer format specifier",
     "output_type": "error",
     "traceback": [
      "\u001b[1;31m---------------------------------------------------------------------------\u001b[0m",
      "\u001b[1;31mValueError\u001b[0m                                Traceback (most recent call last)",
      "Cell \u001b[1;32mIn[45], line 8\u001b[0m\n\u001b[0;32m      5\u001b[0m \u001b[38;5;28mprint\u001b[39m(\u001b[38;5;124mf\u001b[39m\u001b[38;5;124m'\u001b[39m\u001b[38;5;124mThe value of pi is \u001b[39m\u001b[38;5;132;01m{\u001b[39;00m\u001b[38;5;28mint\u001b[39m(pi)\u001b[38;5;132;01m}\u001b[39;00m\u001b[38;5;124m'\u001b[39m)\n\u001b[0;32m      7\u001b[0m \u001b[38;5;66;03m#you cannot specify the number of decimal places (precision) for an integer\u001b[39;00m\n\u001b[1;32m----> 8\u001b[0m \u001b[38;5;28mprint\u001b[39m(\u001b[38;5;124mf\u001b[39m\u001b[38;5;124m'\u001b[39m\u001b[38;5;124mThe value of pi is \u001b[39m\u001b[38;5;132;43;01m{\u001b[39;49;00m\u001b[38;5;28;43mint\u001b[39;49m\u001b[43m(\u001b[49m\u001b[43mpi\u001b[49m\u001b[43m)\u001b[49m\u001b[38;5;132;43;01m:\u001b[39;49;00m\u001b[38;5;124;43m.5\u001b[39;49m\u001b[38;5;132;43;01m}\u001b[39;49;00m\u001b[38;5;124m'\u001b[39m)\n",
      "\u001b[1;31mValueError\u001b[0m: Precision not allowed in integer format specifier"
     ]
    }
   ],
   "source": [
    "#note the difference when you don't put the f string function \n",
    "print('The value of pi to 2 decimal places is: {pi:.6f}')\n",
    "\n",
    "#f in 6f tells the f string format the number as a float in 6 decimal places. To print an integer you can specify the format with the type int())\n",
    "print(f'The value of pi is {int(pi)}')\n",
    "\n",
    "#you cannot specify the number of decimal places (precision) for an integer\n",
    "print(f'The value of pi is {int(pi):.5}')"
   ]
  },
  {
   "cell_type": "markdown",
   "id": "1cf113d0-53f7-4019-9c0c-f80f0693251f",
   "metadata": {},
   "source": [
    "### **Task 4** ###"
   ]
  },
  {
   "cell_type": "code",
   "execution_count": 4,
   "id": "b64add18-bcde-42ba-b38b-8f902d42dddf",
   "metadata": {},
   "outputs": [
    {
     "name": "stdout",
     "output_type": "stream",
     "text": [
      "The value of pi is     3\n"
     ]
    }
   ],
   "source": [
    "#5d is also a format specifier and it specifies that the integer (denoted by d) should take up to 5 digits. Since 3 is shorter than 5 digits, it will be right-aligned and padded with spaces on the left.\n",
    "print(f'The value of pi is {int(pi):5d}')"
   ]
  },
  {
   "cell_type": "code",
   "execution_count": 3,
   "id": "f1fdab17-1e10-4038-bafc-6fdbc1493381",
   "metadata": {},
   "outputs": [
    {
     "name": "stdout",
     "output_type": "stream",
     "text": [
      "Apple     $0.99 \n",
      "Banana    $0.59 \n",
      "Orange    $0.59 \n"
     ]
    }
   ],
   "source": [
    "Apple_price = '$0.99'\n",
    "Banana_price = '$0.59'\n",
    "Orange_price = '$1.29'\n",
    "\n",
    "print(f'{'Apple':<10}{Apple_price:>5}') #use the inverted commas so that the variable is printed\n",
    "print(f'{'Banana':<10}{Banana_price:>5}') \n",
    "print(f'{'Orange':<10}{Banana_price:>5}') "
   ]
  },
  {
   "cell_type": "code",
   "execution_count": null,
   "id": "5e9a1a53-99f2-4f2e-a5cb-f74b50e999cb",
   "metadata": {},
   "outputs": [],
   "source": [
    "#Corrections:"
   ]
  },
  {
   "cell_type": "code",
   "execution_count": 12,
   "id": "4b807760-fa7b-4af1-a93e-2d783a5bcd2d",
   "metadata": {},
   "outputs": [
    {
     "name": "stdout",
     "output_type": "stream",
     "text": [
      "Apple     $ 0.99\n",
      "Banana    $ 0.59\n",
      "Orange    $ 0.59\n"
     ]
    }
   ],
   "source": [
    "Apple_price = '0.99'\n",
    "Banana_price = '0.59'\n",
    "Orange_price = '1.29'\n",
    "\n",
    "print(f'{\"Apple\":<10}${Apple_price:>5}') #use the inverted commas so that the variable is printed\n",
    "print(f'{\"Banana\":<10}${Banana_price:>5}') \n",
    "print(f'{\"Orange\":<10}${Banana_price:>5}')"
   ]
  },
  {
   "cell_type": "markdown",
   "id": "22bbb59b-26ab-4b77-8b01-4f0314a2cf0f",
   "metadata": {},
   "source": [
    "## **Exercise 2** ##"
   ]
  },
  {
   "cell_type": "code",
   "execution_count": 1,
   "id": "42a2492e-2606-4f5c-9a9a-64301f680f77",
   "metadata": {},
   "outputs": [
    {
     "name": "stdin",
     "output_type": "stream",
     "text": [
      "Enter the student's score: 89\n"
     ]
    },
    {
     "name": "stdout",
     "output_type": "stream",
     "text": [
      "The grade is A.\n"
     ]
    }
   ],
   "source": [
    "x = int(input('Enter the student\\'s score:')) #x is an integer, ask for the user's input x\n",
    "\n",
    "if 70 <= x <= 100:\n",
    "    print('The grade is A.')\n",
    "elif  50 <= x <= 69:\n",
    "    print('The grade is B.')\n",
    "elif  35 <= x <= 49:\n",
    "    print('The grade is C.')\n",
    "elif  0 <= x <= 34:\n",
    "    print('Fail.')\n",
    "else:\n",
    "    print('Invalid input')"
   ]
  },
  {
   "cell_type": "code",
   "execution_count": 22,
   "id": "ec38613e-f7a5-46fb-ba07-28a852b0a11e",
   "metadata": {},
   "outputs": [],
   "source": [
    "#Corrections with isnumeric()"
   ]
  },
  {
   "cell_type": "code",
   "execution_count": 21,
   "id": "b056a3eb-48a0-4bb5-91d6-ba9e38834a29",
   "metadata": {},
   "outputs": [
    {
     "name": "stdin",
     "output_type": "stream",
     "text": [
      "Enter the student's score: hahah\n"
     ]
    },
    {
     "name": "stdout",
     "output_type": "stream",
     "text": [
      "False\n",
      "Invalid input: Please enter a valid numeric score.\n"
     ]
    }
   ],
   "source": [
    "x = input('Enter the student\\'s score:') \n",
    "\n",
    "print(x.isnumeric())\n",
    "\n",
    "if not x.isnumeric():\n",
    "    print('Invalid input: Please enter a valid numeric score.')\n",
    "else:\n",
    "    x = int(x)\n",
    "    \n",
    "    if 70 <= x <= 100:\n",
    "        print('The grade is A.')\n",
    "    elif  50 <= x <= 69:\n",
    "        print('The grade is B.')\n",
    "    elif  35 <= x <= 49:\n",
    "        print('The grade is C.')\n",
    "    elif  0 <= x <= 34:\n",
    "        print('Fail.')\n",
    "    else:\n",
    "        print('Invalid input: Please enter a number from 0 to 100') #updated the print statements to match the error in the input"
   ]
  },
  {
   "cell_type": "code",
   "execution_count": 26,
   "id": "fadef0f3-3d7f-4f0c-88b4-02cadf3615e5",
   "metadata": {},
   "outputs": [],
   "source": [
    "#Corrections: nested if-else block and updated print statements to match the error in the input"
   ]
  },
  {
   "cell_type": "code",
   "execution_count": 25,
   "id": "83099a86-cd11-4435-9133-0f4efacd70a0",
   "metadata": {},
   "outputs": [
    {
     "name": "stdin",
     "output_type": "stream",
     "text": [
      "Enter the student's score:  999\n"
     ]
    },
    {
     "name": "stdout",
     "output_type": "stream",
     "text": [
      "Invalid input: Please enter a number from 0 to 100.\n"
     ]
    }
   ],
   "source": [
    "x = input('Enter the student\\'s score: ')\n",
    "\n",
    "if not x.isnumeric():\n",
    "    print('Invalid input: Please enter a valid numeric score.')\n",
    "else:\n",
    "    x = int(x)\n",
    "    \n",
    "    if 0 <= x <= 100:  # Check if the score is within the valid range\n",
    "        if x >= 70:\n",
    "            print('The grade is A.')\n",
    "        elif x >= 50:\n",
    "            print('The grade is B.')\n",
    "        elif x >= 35:\n",
    "            print('The grade is C.')\n",
    "        else:  \n",
    "            print('Fail.')\n",
    "    else:\n",
    "        print('Invalid input: Please enter a number from 0 to 100.')\n"
   ]
  },
  {
   "cell_type": "markdown",
   "id": "ccfea679-c5fe-46af-8030-413e8671e36d",
   "metadata": {},
   "source": [
    "## **Exercise 3** ##"
   ]
  },
  {
   "cell_type": "code",
   "execution_count": 108,
   "id": "754cc8f1-b8fa-4cc0-b1b1-c7c9dbc669af",
   "metadata": {},
   "outputs": [
    {
     "name": "stdout",
     "output_type": "stream",
     "text": [
      "Invalid input\n",
      "1\n"
     ]
    }
   ],
   "source": [
    "def factorial(n): \n",
    "    if n>0: # Error 1: you cannot only find the factorial of a negative number\n",
    "        return \"Invalid input\" \n",
    "    elif n != 0: #Error 2: Factorial of a nonzero number is not equals to 1\n",
    "        return 1\n",
    "    else:\n",
    "        result = 1\n",
    "        for number in range(1, n+1): \n",
    "            result += number #Error 3: The result should be n x n-1 x n-2 \n",
    "        return result\n",
    "\n",
    "\n",
    "print(factorial(5))   # Testing, expected output: 120 (corrected in line 4 and 9)\n",
    "print(factorial(-1))  # Testing, expected output: Invalid input (corrected in line 2)"
   ]
  },
  {
   "cell_type": "code",
   "execution_count": 109,
   "id": "6ca9a5ee-bac0-4d7c-a413-d2ac1e99543e",
   "metadata": {},
   "outputs": [
    {
     "name": "stdout",
     "output_type": "stream",
     "text": [
      "120\n",
      "Invalid input\n"
     ]
    }
   ],
   "source": [
    "def factorial(n): \n",
    "    if n<0: # Error 1: you cannot only find the factorial of a negative number\n",
    "        return \"Invalid input\" \n",
    "    elif n == 0: \n",
    "        return 1\n",
    "    else:\n",
    "        result = 1\n",
    "        for number in range(1, n+1): #for a range of numbers from 1 to n+1, python will generate a number of 1 to n (ie stops 1 number before the limit)\n",
    "            result *= number #number was defined in the line above. this is shorthand for results = results x number from 1 to n (stops before n+1) \n",
    "        return result\n",
    "\n",
    "\n",
    "print(factorial(5)) \n",
    "print(factorial(-1))  "
   ]
  },
  {
   "cell_type": "code",
   "execution_count": 27,
   "id": "e490278a-2335-46f7-8bed-8d7af6b8e972",
   "metadata": {},
   "outputs": [
    {
     "name": "stdout",
     "output_type": "stream",
     "text": [
      "[1, 2, 3, 4, 5, 6, 7, 8, 9]\n"
     ]
    }
   ],
   "source": [
    "print(list(range(1,10)))\n"
   ]
  },
  {
   "cell_type": "code",
   "execution_count": null,
   "id": "587a916b-8ea8-446e-967e-1c89e2921fc4",
   "metadata": {},
   "outputs": [],
   "source": []
  }
 ],
 "metadata": {
  "kernelspec": {
   "display_name": "Python 3 (ipykernel)",
   "language": "python",
   "name": "python3"
  },
  "language_info": {
   "codemirror_mode": {
    "name": "ipython",
    "version": 3
   },
   "file_extension": ".py",
   "mimetype": "text/x-python",
   "name": "python",
   "nbconvert_exporter": "python",
   "pygments_lexer": "ipython3",
   "version": "3.12.3"
  },
  "toc": {
   "base_numbering": 1,
   "nav_menu": {},
   "number_sections": true,
   "sideBar": true,
   "skip_h1_title": false,
   "title_cell": "Table of Contents",
   "title_sidebar": "Contents",
   "toc_cell": false,
   "toc_position": {},
   "toc_section_display": true,
   "toc_window_display": false
  },
  "vscode": {
   "interpreter": {
    "hash": "31f2aee4e71d21fbe5cf8b01ff0e069b9275f58929596ceb00d14d90e3e16cd6"
   }
  }
 },
 "nbformat": 4,
 "nbformat_minor": 5
}
