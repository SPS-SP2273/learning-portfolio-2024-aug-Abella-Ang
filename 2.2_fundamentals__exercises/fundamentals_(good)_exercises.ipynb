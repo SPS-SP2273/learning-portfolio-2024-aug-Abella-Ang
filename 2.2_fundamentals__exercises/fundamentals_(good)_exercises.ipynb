{
 "cells": [
  {
   "attachments": {},
   "cell_type": "markdown",
   "id": "123456",
   "metadata": {},
   "source": [
    "<div style=\"text-align:left;font-size:2em\"><span style=\"font-weight:bolder;font-size:1.25em\">SP2273 | Learning Portfolio</span><br><br><span style=\"font-weight:bold;color:darkred\">Fundamentals (Good) Exercises</span></div>"
   ]
  },
  {
   "cell_type": "markdown",
   "id": "cf3c6284-e94e-4039-8d10-65edb82df0be",
   "metadata": {},
   "source": [
    "## **Exercise 1** ##"
   ]
  },
  {
   "cell_type": "markdown",
   "id": "1f680601-cfe1-42de-9dae-9493b3ad884c",
   "metadata": {},
   "source": [
    "### **Example** ###"
   ]
  },
  {
   "cell_type": "code",
   "execution_count": 1,
   "id": "efa2ee5c-2698-4e1f-8d2e-d7dcdda39a9d",
   "metadata": {},
   "outputs": [
    {
     "name": "stdin",
     "output_type": "stream",
     "text": [
      "Please provide me with a number? 5\n"
     ]
    },
    {
     "name": "stdout",
     "output_type": "stream",
     "text": [
      "You entered 5\n"
     ]
    }
   ],
   "source": [
    "user_input = input('Please provide me with a number?')\n",
    "print('You entered', user_input)"
   ]
  },
  {
   "cell_type": "markdown",
   "id": "d856a950-18fc-4e36-bd2f-e39e21589704",
   "metadata": {},
   "source": [
    "### **Task 1** ###"
   ]
  },
  {
   "cell_type": "code",
   "execution_count": 2,
   "id": "e8cec85d-da9e-4324-883f-e2afd8d7c6f5",
   "metadata": {},
   "outputs": [
    {
     "name": "stdin",
     "output_type": "stream",
     "text": [
      "Tell me your name: abella\n"
     ]
    },
    {
     "name": "stdout",
     "output_type": "stream",
     "text": [
      "How you doin, abella\n"
     ]
    }
   ],
   "source": [
    "user_input= input('Tell me your name:')\n",
    "print('How you doin,',user_input)"
   ]
  },
  {
   "cell_type": "markdown",
   "id": "3c0f5b26-d7d0-4df9-99ce-f5c06147b7a7",
   "metadata": {},
   "source": [
    "### **Task 2** ###"
   ]
  },
  {
   "cell_type": "code",
   "execution_count": 6,
   "id": "db479f44-2980-494d-932c-e694e2165521",
   "metadata": {},
   "outputs": [
    {
     "name": "stdin",
     "output_type": "stream",
     "text": [
      "What is your name: alex\n",
      "What is your age: 314\n"
     ]
    },
    {
     "name": "stdout",
     "output_type": "stream",
     "text": [
      "My name is alex and I am 314 years old.\n"
     ]
    }
   ],
   "source": [
    "NAME = input('What is your name:') #user_input is the variable and it can be changed. input()is the function that asks for the user's input\n",
    "AGE = input('What is your age:')\n",
    "print('My name is',NAME, 'and I am',AGE, 'years old.') "
   ]
  },
  {
   "cell_type": "markdown",
   "id": "ea15d92b-c22e-4a2c-a7d6-2bb354eaa6f8",
   "metadata": {},
   "source": [
    "### **Task 3** ###"
   ]
  },
  {
   "cell_type": "code",
   "execution_count": 52,
   "id": "3f89eb1c-af39-4b67-9c45-387320114d4e",
   "metadata": {},
   "outputs": [
    {
     "name": "stdout",
     "output_type": "stream",
     "text": [
      "The value of pi to 2 decimal places is: 3.14\n",
      "The value of pi to 3 decimal places is: 3.142\n",
      "The value of pi to 4 decimal places is: 3.1416\n"
     ]
    }
   ],
   "source": [
    "pi=3.141592653589793\n",
    "print(f'The value of pi to 2 decimal places is: {pi:.2f}') # the f-string is used to insert a variable into the string.\n",
    "print(f'The value of pi to 3 decimal places is: {pi:.3f}') \n",
    "print(f'The value of pi to 4 decimal places is: {pi:.4f}')"
   ]
  },
  {
   "cell_type": "code",
   "execution_count": 45,
   "id": "84e57236-15c0-477f-847c-914ddfdc0b3e",
   "metadata": {},
   "outputs": [
    {
     "name": "stdout",
     "output_type": "stream",
     "text": [
      "The value of pi to 2 decimal places is: {pi:.6f}\n",
      "The value of pi is 3\n"
     ]
    },
    {
     "ename": "ValueError",
     "evalue": "Precision not allowed in integer format specifier",
     "output_type": "error",
     "traceback": [
      "\u001b[1;31m---------------------------------------------------------------------------\u001b[0m",
      "\u001b[1;31mValueError\u001b[0m                                Traceback (most recent call last)",
      "Cell \u001b[1;32mIn[45], line 8\u001b[0m\n\u001b[0;32m      5\u001b[0m \u001b[38;5;28mprint\u001b[39m(\u001b[38;5;124mf\u001b[39m\u001b[38;5;124m'\u001b[39m\u001b[38;5;124mThe value of pi is \u001b[39m\u001b[38;5;132;01m{\u001b[39;00m\u001b[38;5;28mint\u001b[39m(pi)\u001b[38;5;132;01m}\u001b[39;00m\u001b[38;5;124m'\u001b[39m)\n\u001b[0;32m      7\u001b[0m \u001b[38;5;66;03m#you cannot specify the number of decimal places (precision) for an integer\u001b[39;00m\n\u001b[1;32m----> 8\u001b[0m \u001b[38;5;28mprint\u001b[39m(\u001b[38;5;124mf\u001b[39m\u001b[38;5;124m'\u001b[39m\u001b[38;5;124mThe value of pi is \u001b[39m\u001b[38;5;132;43;01m{\u001b[39;49;00m\u001b[38;5;28;43mint\u001b[39;49m\u001b[43m(\u001b[49m\u001b[43mpi\u001b[49m\u001b[43m)\u001b[49m\u001b[38;5;132;43;01m:\u001b[39;49;00m\u001b[38;5;124;43m.5\u001b[39;49m\u001b[38;5;132;43;01m}\u001b[39;49;00m\u001b[38;5;124m'\u001b[39m)\n",
      "\u001b[1;31mValueError\u001b[0m: Precision not allowed in integer format specifier"
     ]
    }
   ],
   "source": [
    "#note the difference when you don't put the f string function \n",
    "print('The value of pi to 2 decimal places is: {pi:.6f}')\n",
    "\n",
    "#f in 6f tells the f string format the number as a float in 6 decimal places. To print an integer you can specify the format with the type int())\n",
    "print(f'The value of pi is {int(pi)}')\n",
    "\n",
    "#you cannot specify the number of decimal places (precision) for an integer\n",
    "print(f'The value of pi is {int(pi):.5}')"
   ]
  },
  {
   "cell_type": "markdown",
   "id": "1cf113d0-53f7-4019-9c0c-f80f0693251f",
   "metadata": {},
   "source": [
    "### **Task 4** ###"
   ]
  },
  {
   "cell_type": "code",
   "execution_count": 46,
   "id": "b64add18-bcde-42ba-b38b-8f902d42dddf",
   "metadata": {},
   "outputs": [
    {
     "name": "stdout",
     "output_type": "stream",
     "text": [
      "The value of pi is     3\n"
     ]
    }
   ],
   "source": [
    "#5d is also a format specifier and it specifies that the integer (denoted by d) should take up to 5 digits. Since 3 is shorter than 5 digits, it will be right-aligned and padded with spaces on the left.\n",
    "print(f'The value of pi is {int(pi):5d}')"
   ]
  },
  {
   "cell_type": "code",
   "execution_count": 81,
   "id": "f1fdab17-1e10-4038-bafc-6fdbc1493381",
   "metadata": {},
   "outputs": [
    {
     "name": "stdout",
     "output_type": "stream",
     "text": [
      "Apple     $0.99 \n",
      "Banana    $0.59 \n",
      "Orange    $0.59 \n"
     ]
    }
   ],
   "source": [
    "Apple_price = '$0.99'\n",
    "Banana_price = '$0.59'\n",
    "Orange_price = '$1.29'\n",
    "\n",
    "print(f'{'Apple':<10}{Apple_price:>5} ') #use the inverted commas so that the variable is printed\n",
    "print(f'{'Banana':<10}{Banana_price:>5} ') \n",
    "print(f'{'Orange':<10}{Banana_price:>5} ') "
   ]
  },
  {
   "cell_type": "markdown",
   "id": "22bbb59b-26ab-4b77-8b01-4f0314a2cf0f",
   "metadata": {},
   "source": [
    "## **Exercise 2** ##"
   ]
  },
  {
   "cell_type": "code",
   "execution_count": 104,
   "id": "42a2492e-2606-4f5c-9a9a-64301f680f77",
   "metadata": {},
   "outputs": [
    {
     "name": "stdin",
     "output_type": "stream",
     "text": [
      "Please provide me with a number? 89\n"
     ]
    },
    {
     "name": "stdout",
     "output_type": "stream",
     "text": [
      "The grade is A.\n"
     ]
    }
   ],
   "source": [
    "x = int(input('Please provide me with a number?')) #x is an integer, ask for the user's input x\n",
    "\n",
    "if 70 <= x <= 100:\n",
    "    print('The grade is A.')\n",
    "elif  50 <= x <= 69:\n",
    "    print('The grade is B.')\n",
    "elif  35 <= x <= 49:\n",
    "    print('The grade is C.')\n",
    "elif  0 <= x <= 34:\n",
    "    print('Fail.')\n",
    "else:\n",
    "    print('Invalid input')"
   ]
  },
  {
   "cell_type": "code",
   "execution_count": 110,
   "id": "b613c6b8-d393-4be0-b714-eb48ac87ad1e",
   "metadata": {},
   "outputs": [
    {
     "ename": "SyntaxError",
     "evalue": "invalid syntax. Perhaps you forgot a comma? (3707952301.py, line 1)",
     "output_type": "error",
     "traceback": [
      "\u001b[1;36m  Cell \u001b[1;32mIn[110], line 1\u001b[1;36m\u001b[0m\n\u001b[1;33m    x = int(input('Enter the student's score:')) #x is an integer, ask for the user's input x\u001b[0m\n\u001b[1;37m                  ^\u001b[0m\n\u001b[1;31mSyntaxError\u001b[0m\u001b[1;31m:\u001b[0m invalid syntax. Perhaps you forgot a comma?\n"
     ]
    }
   ],
   "source": [
    "x = int(input('Enter the student's score:')) #x is an integer, ask for the user's input x\n",
    "\n",
    "if 70 <= x <= 100:\n",
    "    print('The grade is A.')\n",
    "elif  50 <= x <= 69:\n",
    "    print('The grade is B.')\n",
    "elif  35 <= x <= 49:\n",
    "    print('The grade is C.')\n",
    "elif  0 <= x <= 34:\n",
    "    print('Fail.')\n",
    "else:\n",
    "    print('Invalid input')"
   ]
  },
  {
   "cell_type": "markdown",
   "id": "ccfea679-c5fe-46af-8030-413e8671e36d",
   "metadata": {},
   "source": [
    "## **Exercise 3** ##"
   ]
  },
  {
   "cell_type": "code",
   "execution_count": 108,
   "id": "754cc8f1-b8fa-4cc0-b1b1-c7c9dbc669af",
   "metadata": {},
   "outputs": [
    {
     "name": "stdout",
     "output_type": "stream",
     "text": [
      "Invalid input\n",
      "1\n"
     ]
    }
   ],
   "source": [
    "def factorial(n): \n",
    "    if n>0: # Error 1: you cannot only find the factorial of a negative number\n",
    "        return \"Invalid input\" \n",
    "    elif n != 0: #Error 2: Factorial of a nonzero number is not equals to 1\n",
    "        return 1\n",
    "    else:\n",
    "        result = 1\n",
    "        for number in range(1, n+1): \n",
    "            result += number #Error 3: The result should be n x n-1 x n-2 \n",
    "        return result\n",
    "\n",
    "\n",
    "print(factorial(5))   # Testing, expected output: 120 (corrected in line 4 and 9)\n",
    "print(factorial(-1))  # Testing, expected output: Invalid input (corrected in line 2)"
   ]
  },
  {
   "cell_type": "code",
   "execution_count": 109,
   "id": "6ca9a5ee-bac0-4d7c-a413-d2ac1e99543e",
   "metadata": {},
   "outputs": [
    {
     "name": "stdout",
     "output_type": "stream",
     "text": [
      "120\n",
      "Invalid input\n"
     ]
    }
   ],
   "source": [
    "def factorial(n): \n",
    "    if n<0: # Error 1: you cannot only find the factorial of a negative number\n",
    "        return \"Invalid input\" \n",
    "    elif n == 0: \n",
    "        return 1\n",
    "    else:\n",
    "        result = 1\n",
    "        for number in range(1, n+1): #generates numbers from 1 to n; in python, the range function will generate numbers from 1 to n+1 and stop just before n+1, so if n=5 it will generate a numbers 1,2,3,4,5 (stops before n+1)\n",
    "            result *= number #number was defined in the line above. this is shorthand for results = results + number \n",
    "        return result\n",
    "\n",
    "\n",
    "print(factorial(5)) \n",
    "print(factorial(-1))  "
   ]
  },
  {
   "cell_type": "code",
   "execution_count": null,
   "id": "587a916b-8ea8-446e-967e-1c89e2921fc4",
   "metadata": {},
   "outputs": [],
   "source": []
  }
 ],
 "metadata": {
  "kernelspec": {
   "display_name": "Python 3 (ipykernel)",
   "language": "python",
   "name": "python3"
  },
  "language_info": {
   "codemirror_mode": {
    "name": "ipython",
    "version": 3
   },
   "file_extension": ".py",
   "mimetype": "text/x-python",
   "name": "python",
   "nbconvert_exporter": "python",
   "pygments_lexer": "ipython3",
   "version": "3.12.3"
  },
  "toc": {
   "base_numbering": 1,
   "nav_menu": {},
   "number_sections": true,
   "sideBar": true,
   "skip_h1_title": false,
   "title_cell": "Table of Contents",
   "title_sidebar": "Contents",
   "toc_cell": false,
   "toc_position": {},
   "toc_section_display": true,
   "toc_window_display": false
  },
  "vscode": {
   "interpreter": {
    "hash": "31f2aee4e71d21fbe5cf8b01ff0e069b9275f58929596ceb00d14d90e3e16cd6"
   }
  }
 },
 "nbformat": 4,
 "nbformat_minor": 5
}
