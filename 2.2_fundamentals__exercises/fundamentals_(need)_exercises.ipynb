{
 "cells": [
  {
   "attachments": {},
   "cell_type": "markdown",
   "id": "123456",
   "metadata": {},
   "source": [
    "<div style=\"text-align:left;font-size:2em\"><span style=\"font-weight:bolder;font-size:1.25em\">SP2273 | Learning Portfolio</span><br><br><span style=\"font-weight:bold;color:darkred\">Fundamentals (Need) Exercises</span></div>"
   ]
  },
  {
   "cell_type": "markdown",
   "id": "eb8c2eb5-9b63-49e9-bdba-76907234d903",
   "metadata": {},
   "source": [
    "## Exericse 1 ##"
   ]
  },
  {
   "cell_type": "markdown",
   "id": "457fcf49-8eed-4d24-972f-de268259a790",
   "metadata": {},
   "source": [
    "Functions\\\n",
    "Arguments\\\n",
    "Parenthesis\\\n",
    "Indentations #indentations differentiate between true and false blocks\\\n",
    "_Dictionary_ #It stores information(value) and it can be accessed by calling out their respective keys\\\n",
    "_Dots(.)_  #It tells you that a function belongs to a certain module. "
   ]
  },
  {
   "cell_type": "markdown",
   "id": "379d36b3-4102-45cb-b13b-fb55e6350e1f",
   "metadata": {},
   "source": [
    "## Exercise 2 ##\n",
    "\n"
   ]
  },
  {
   "cell_type": "code",
   "execution_count": 8,
   "id": "f5413247-e46a-48a8-b7b8-b2edd97231d4",
   "metadata": {},
   "outputs": [
    {
     "ename": "IndentationError",
     "evalue": "unindent does not match any outer indentation level (<string>, line 3)",
     "output_type": "error",
     "traceback": [
      "\u001b[1;36m  File \u001b[1;32m<string>:3\u001b[1;36m\u001b[0m\n\u001b[1;33m    Print(x, y, z) #there is no function for 'Print'. The actual function is 'print'\u001b[0m\n\u001b[1;37m                                                                                    ^\u001b[0m\n\u001b[1;31mIndentationError\u001b[0m\u001b[1;31m:\u001b[0m unindent does not match any outer indentation level\n"
     ]
    }
   ],
   "source": [
    "x, y = 3, 4\n",
    "        z = sqrt(x*2 + y**2) #line 2 should be flushed. math.sqrt should also be used, and it should be x**2, not x*2 (x times 2)\n",
    "    Print(x, y, z) #there is no function for 'Print'. The actual function is 'print'\n",
    "#the sqrt function is from the math package and needs to be imported"
   ]
  },
  {
   "cell_type": "code",
   "execution_count": 9,
   "id": "e7cfebb5-8ae0-4ff4-a360-cd15e9eef6c8",
   "metadata": {},
   "outputs": [
    {
     "name": "stdout",
     "output_type": "stream",
     "text": [
      "3 4 5.0\n"
     ]
    }
   ],
   "source": [
    "import math\n",
    "x, y = 3, 4\n",
    "z = math.sqrt(x**2 + y**2) #instructs the code to find the square root of the sum of x squared and y squared, and that the 'square root' function is obtained from the 'math' module (as denoted by the dot (.).\n",
    "print(x, y, z) "
   ]
  },
  {
   "cell_type": "code",
   "execution_count": 10,
   "id": "68f064f8-fd68-4c2a-9ede-7f12c2809f34",
   "metadata": {},
   "outputs": [],
   "source": [
    "#when you calculate using the math module, the answer is always a 'float' ie contains decimals. thats why the 5.0 appears as it is instead of just 5. To make the output a whole number, you can use the \"int\" function"
   ]
  },
  {
   "cell_type": "code",
   "execution_count": 11,
   "id": "c43ce7c0-63e0-481f-b608-4bfeab4883a3",
   "metadata": {},
   "outputs": [
    {
     "name": "stdout",
     "output_type": "stream",
     "text": [
      "3 4 5\n"
     ]
    }
   ],
   "source": [
    "import math\n",
    "x, y = 3, 4\n",
    "z = int(math.sqrt(x**2 + y**2)) #instructs the code to find the square root of the sum of x squared and y squared, and that the 'square root' function is obtained from the 'math' module (as denoted by the dot (.).\n",
    "print(x, y, z) "
   ]
  },
  {
   "cell_type": "markdown",
   "id": "362418ac-5c21-44b9-92a6-502467e184a5",
   "metadata": {},
   "source": [
    "## Exercise 3 ##\n",
    "\n"
   ]
  },
  {
   "cell_type": "markdown",
   "id": "26c3f5f6-a406-4153-b621-5f0fa799f802",
   "metadata": {},
   "source": [
    "|#|**Term**|**Description**|\n",
    "|:--:|:--|:--|\n",
    "|1|Function| |\n",
    "|2|Arguments| |\n",
    "|3|Comments| |\n",
    "|4|Indentations| |\n",
    "|5|Packages| |\n",
    "|6|.| |\n",
    "|7|:| |\n",
    "|8|[]| |\n",
    "|9|[[],[]]| |\n",
    "|10|{| |"
   ]
  },
  {
   "cell_type": "markdown",
   "id": "34965705-ea4b-4262-854a-a3300819e3a7",
   "metadata": {},
   "source": [
    "## Exercise 4 ##\n",
    "\n"
   ]
  },
  {
   "cell_type": "code",
   "execution_count": 15,
   "id": "fbf86473-3fc4-4937-89ef-0a4ba78704fd",
   "metadata": {},
   "outputs": [
    {
     "data": {
      "text/plain": [
       "2.5"
      ]
     },
     "execution_count": 15,
     "metadata": {},
     "output_type": "execute_result"
    }
   ],
   "source": [
    "5/2           # This means 5 divided by 2. The output is a floating point number"
   ]
  },
  {
   "cell_type": "code",
   "execution_count": 16,
   "id": "cf44356f-15ac-4e04-87a4-4500f914b3ae",
   "metadata": {},
   "outputs": [
    {
     "data": {
      "text/plain": [
       "2"
      ]
     },
     "execution_count": 16,
     "metadata": {},
     "output_type": "execute_result"
    }
   ],
   "source": [
    "5//2          # This finds the nearest integer that is less than or equals to the result of 5 divided by 2"
   ]
  },
  {
   "cell_type": "code",
   "execution_count": 17,
   "id": "6660e0af-7af4-48bc-a295-9d7ffa078372",
   "metadata": {},
   "outputs": [
    {
     "data": {
      "text/plain": [
       "1"
      ]
     },
     "execution_count": 17,
     "metadata": {},
     "output_type": "execute_result"
    }
   ],
   "source": [
    "5%2           # This finds the remainder of the division. 5 divided by 2 is 2 with a remainder as 1. "
   ]
  },
  {
   "cell_type": "code",
   "execution_count": null,
   "id": "a2517877-0a18-4c12-852b-2320f81b8513",
   "metadata": {},
   "outputs": [],
   "source": []
  }
 ],
 "metadata": {
  "kernelspec": {
   "display_name": "Python 3 (ipykernel)",
   "language": "python",
   "name": "python3"
  },
  "language_info": {
   "codemirror_mode": {
    "name": "ipython",
    "version": 3
   },
   "file_extension": ".py",
   "mimetype": "text/x-python",
   "name": "python",
   "nbconvert_exporter": "python",
   "pygments_lexer": "ipython3",
   "version": "3.12.3"
  },
  "toc": {
   "base_numbering": 1,
   "nav_menu": {},
   "number_sections": true,
   "sideBar": true,
   "skip_h1_title": false,
   "title_cell": "Table of Contents",
   "title_sidebar": "Contents",
   "toc_cell": false,
   "toc_position": {},
   "toc_section_display": true,
   "toc_window_display": false
  },
  "vscode": {
   "interpreter": {
    "hash": "31f2aee4e71d21fbe5cf8b01ff0e069b9275f58929596ceb00d14d90e3e16cd6"
   }
  }
 },
 "nbformat": 4,
 "nbformat_minor": 5
}
