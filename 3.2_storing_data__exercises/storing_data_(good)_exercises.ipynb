{
 "cells": [
  {
   "attachments": {},
   "cell_type": "markdown",
   "id": "123456",
   "metadata": {},
   "source": [
    "<div style=\"text-align:left;font-size:2em\"><span style=\"font-weight:bolder;font-size:1.25em\">SP2273 | Learning Portfolio</span><br><br><span style=\"font-weight:bold;color:darkred\">Storing Data (Good) Exercises</span></div>"
   ]
  },
  {
   "cell_type": "markdown",
   "id": "ca1dadab-c2ac-4b72-9903-5858a9f8c0bd",
   "metadata": {},
   "source": [
    "## **Exercises 1** ##"
   ]
  },
  {
   "cell_type": "markdown",
   "id": "b19b0286-41cb-45e9-b371-a7b850d7813e",
   "metadata": {},
   "source": [
    "## **Exercises 2** ##"
   ]
  },
  {
   "cell_type": "code",
   "execution_count": 15,
   "id": "9bdc3f4d-e70f-4666-a110-7f20a8da6dd4",
   "metadata": {},
   "outputs": [
    {
     "data": {
      "text/plain": [
       "array(['1', '3', '2', '4', '5', '7', '6', '8', '10', '9'], dtype='<U21')"
      ]
     },
     "execution_count": 15,
     "metadata": {},
     "output_type": "execute_result"
    }
   ],
   "source": [
    "import numpy as np\n",
    "np_array_2d = np.array([[1, \"A\"], [3, \"C\"], [2, \"B\"], [4, \"D\"],\n",
    "                        [5, \"E\"], [7, \"G\"], [6, \"F\"], [8, \"H\"],\n",
    "                        [10, \"J\"], [9, \"I\"]])\n",
    "x= np_array_2d\n",
    "\n",
    "x[:,0]"
   ]
  },
  {
   "cell_type": "code",
   "execution_count": 16,
   "id": "e4e52083-a4db-4c6e-8900-2a338d9ba118",
   "metadata": {},
   "outputs": [
    {
     "ename": "ValueError",
     "evalue": "invalid literal for int() with base 10: np.str_('A')",
     "output_type": "error",
     "traceback": [
      "\u001b[1;31m---------------------------------------------------------------------------\u001b[0m",
      "\u001b[1;31mValueError\u001b[0m                                Traceback (most recent call last)",
      "Cell \u001b[1;32mIn[16], line 1\u001b[0m\n\u001b[1;32m----> 1\u001b[0m \u001b[43mx\u001b[49m\u001b[38;5;241;43m.\u001b[39;49m\u001b[43mastype\u001b[49m\u001b[43m(\u001b[49m\u001b[38;5;28;43mint\u001b[39;49m\u001b[43m)\u001b[49m\n",
      "\u001b[1;31mValueError\u001b[0m: invalid literal for int() with base 10: np.str_('A')"
     ]
    }
   ],
   "source": [
    "x.astype(int)"
   ]
  },
  {
   "cell_type": "markdown",
   "id": "f82d4696-c225-4fe0-bf0c-9f46737a9198",
   "metadata": {},
   "source": [
    "## **Exercises 3** ##"
   ]
  },
  {
   "cell_type": "code",
   "execution_count": null,
   "id": "ecc16731-527a-405f-89da-5cf7d7a6cefa",
   "metadata": {},
   "outputs": [],
   "source": [
    "astype"
   ]
  }
 ],
 "metadata": {
  "kernelspec": {
   "display_name": "Python 3 (ipykernel)",
   "language": "python",
   "name": "python3"
  },
  "language_info": {
   "codemirror_mode": {
    "name": "ipython",
    "version": 3
   },
   "file_extension": ".py",
   "mimetype": "text/x-python",
   "name": "python",
   "nbconvert_exporter": "python",
   "pygments_lexer": "ipython3",
   "version": "3.12.3"
  },
  "toc": {
   "base_numbering": 1,
   "nav_menu": {},
   "number_sections": true,
   "sideBar": true,
   "skip_h1_title": false,
   "title_cell": "Table of Contents",
   "title_sidebar": "Contents",
   "toc_cell": false,
   "toc_position": {},
   "toc_section_display": true,
   "toc_window_display": false
  },
  "vscode": {
   "interpreter": {
    "hash": "31f2aee4e71d21fbe5cf8b01ff0e069b9275f58929596ceb00d14d90e3e16cd6"
   }
  }
 },
 "nbformat": 4,
 "nbformat_minor": 5
}
