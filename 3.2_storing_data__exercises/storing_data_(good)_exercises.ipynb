{
 "cells": [
  {
   "attachments": {},
   "cell_type": "markdown",
   "id": "123456",
   "metadata": {},
   "source": [
    "#### <div style=\"text-align:left;font-size:2em\"><span style=\"font-weight:bolder;font-size:1.25em\">SP2273 | Learning Portfolio</span><br><br><span style=\"font-weight:bold;color:darkred\">Storing Data (Good) Exercises</span></div>"
   ]
  },
  {
   "cell_type": "markdown",
   "id": "ca1dadab-c2ac-4b72-9903-5858a9f8c0bd",
   "metadata": {},
   "source": [
    "## **Exercises 1** ##"
   ]
  },
  {
   "cell_type": "markdown",
   "id": "81b1ae7b-3d14-42fa-b358-bc2da2e03a49",
   "metadata": {},
   "source": [
    "|Term |Brief Description| \n",
    "|:----|:-----|\n",
    "|Subsetting |Subsetting is a general term used to call out elements in a list/array  |\n",
    "|Indexing|Indexing calls out a single element|\n",
    "|Slicing|Slicing calls out a range of elements|\n",
    "|Masking|Masking calls out a range of elements, while hiding those that aren't called out. This only works in arrays|"
   ]
  },
  {
   "cell_type": "markdown",
   "id": "b19b0286-41cb-45e9-b371-a7b850d7813e",
   "metadata": {},
   "source": [
    "## **Exercises 2** ##"
   ]
  },
  {
   "cell_type": "code",
   "execution_count": 1,
   "id": "7f008a99-a01e-4959-97cb-e98dff2b06c1",
   "metadata": {},
   "outputs": [
    {
     "data": {
      "text/plain": [
       "array(['1', '3', '2', '4', '5', '7', '6', '8', '10', '9'], dtype='<U21')"
      ]
     },
     "execution_count": 1,
     "metadata": {},
     "output_type": "execute_result"
    }
   ],
   "source": [
    "# arrays are fussy about type and will convert all things to a single type if they can\n",
    "import numpy as np\n",
    "np_array_2d = np.array([[1, \"A\"], [3, \"C\"], [2, \"B\"], [4, \"D\"],\n",
    "                        [5, \"E\"], [7, \"G\"], [6, \"F\"], [8, \"H\"],\n",
    "                        [10, \"J\"], [9, \"I\"]])\n",
    "#the alphabet are strings (denoted by\"\") while the numbers are something else\n",
    "np_array_2d[:,0] #this gives an array of the 1st elements in the table"
   ]
  },
  {
   "cell_type": "code",
   "execution_count": 2,
   "id": "7d487309-6deb-473f-b944-03927a2ca199",
   "metadata": {},
   "outputs": [
    {
     "ename": "ValueError",
     "evalue": "invalid literal for int() with base 10: np.str_('A')",
     "output_type": "error",
     "traceback": [
      "\u001b[1;31m---------------------------------------------------------------------------\u001b[0m",
      "\u001b[1;31mValueError\u001b[0m                                Traceback (most recent call last)",
      "Cell \u001b[1;32mIn[2], line 2\u001b[0m\n\u001b[0;32m      1\u001b[0m np_array_2d[:,\u001b[38;5;241m0\u001b[39m]\n\u001b[1;32m----> 2\u001b[0m \u001b[43mnp_array_2d\u001b[49m\u001b[38;5;241;43m.\u001b[39;49m\u001b[43mastype\u001b[49m\u001b[43m(\u001b[49m\u001b[38;5;28;43mint\u001b[39;49m\u001b[43m)\u001b[49m \u001b[38;5;66;03m#this will not work because you are finding the integer of the entire array, including the alphabets\u001b[39;00m\n\u001b[0;32m      3\u001b[0m \u001b[38;5;66;03m#you have to store the data somewhere\u001b[39;00m\n",
      "\u001b[1;31mValueError\u001b[0m: invalid literal for int() with base 10: np.str_('A')"
     ]
    }
   ],
   "source": [
    "np_array_2d[:,0]\n",
    "np_array_2d.astype(int) #this will not work because you are finding the integer of the entire array, including the alphabets\n",
    "#you have to store the data somewhere"
   ]
  },
  {
   "cell_type": "code",
   "execution_count": 3,
   "id": "e4e52083-a4db-4c6e-8900-2a338d9ba118",
   "metadata": {},
   "outputs": [
    {
     "name": "stdout",
     "output_type": "stream",
     "text": [
      "[ 1  3  2  4  5  7  6  8 10  9]\n"
     ]
    }
   ],
   "source": [
    "first_elements= np_array_2d[:,0] #this defines a new array has the first elements\n",
    "integer_array = first_elements.astype(int)  #makes the first elements into integers, and stores the data in integer_array\n",
    "print(integer_array)"
   ]
  },
  {
   "cell_type": "code",
   "execution_count": 4,
   "id": "e241e28d-51ca-4896-bcc6-6eecd5e1c8f1",
   "metadata": {},
   "outputs": [
    {
     "name": "stdout",
     "output_type": "stream",
     "text": [
      "[1 1 0 0 1 1 0 0 0 1]\n"
     ]
    }
   ],
   "source": [
    "# Separate the numbers into odd and even using modulo (%). % finds the remainder \n",
    "remainder = integer_array% 2\n",
    "print(remainder)"
   ]
  },
  {
   "cell_type": "code",
   "execution_count": 5,
   "id": "75695353-03f0-4d95-8252-7279544ffb6a",
   "metadata": {},
   "outputs": [
    {
     "data": {
      "text/plain": [
       "array([0, 1, 4, 5, 9])"
      ]
     },
     "execution_count": 5,
     "metadata": {},
     "output_type": "execute_result"
    }
   ],
   "source": [
    "#Locate the position(Index) of all of the odd numbers. \n",
    "#Note that you cannot mask a\n",
    "np.where(remainder==1)[0]"
   ]
  },
  {
   "cell_type": "code",
   "execution_count": 6,
   "id": "1d08f34f-3c6d-4671-ab70-2fd06c55cc32",
   "metadata": {},
   "outputs": [
    {
     "data": {
      "text/plain": [
       "array(['A', 'C', 'B', 'D', 'E', 'G', 'F', 'H', 'J', 'I'], dtype='<U21')"
      ]
     },
     "execution_count": 6,
     "metadata": {},
     "output_type": "execute_result"
    }
   ],
   "source": [
    "np_array_2d[:,1]"
   ]
  },
  {
   "cell_type": "code",
   "execution_count": 7,
   "id": "c25e5ce6-a391-4a75-9a5b-df63746c41bc",
   "metadata": {},
   "outputs": [
    {
     "data": {
      "text/plain": [
       "array(['A', 'C', 'E', 'G', 'I'], dtype='<U21')"
      ]
     },
     "execution_count": 7,
     "metadata": {},
     "output_type": "execute_result"
    }
   ],
   "source": [
    "letters= np_array_2d[:,1]\n",
    "integer_array[np.where(remainder==1)[0]]\n",
    "letters[np.where(remainder==1)[0]]"
   ]
  },
  {
   "cell_type": "markdown",
   "id": "dbccfc6a-addc-4d51-905f-cfdda9592111",
   "metadata": {},
   "source": [
    "For this exercise, you want to find the position of all odd numbers and list down the corresponding alphabets.\n",
    "To do so, you have to find a way to isolate the odd numbers, which we did using modulo (%).\n",
    "Now that we have identified which positions contain the odd numbers, you need to insert the array that contains the positions into ()() im confused\n"
   ]
  },
  {
   "cell_type": "code",
   "execution_count": 5,
   "id": "815ce01c-db24-43cf-b204-ca947e6c243a",
   "metadata": {},
   "outputs": [],
   "source": [
    "#corrections"
   ]
  },
  {
   "cell_type": "code",
   "execution_count": 9,
   "id": "474638c1-31b4-4b39-9d5e-d40328890f27",
   "metadata": {},
   "outputs": [
    {
     "data": {
      "text/plain": [
       "array([ True,  True, False, False,  True,  True, False, False, False,\n",
       "        True])"
      ]
     },
     "execution_count": 9,
     "metadata": {},
     "output_type": "execute_result"
    }
   ],
   "source": [
    "import numpy as np\n",
    "np_array_2d = np.array([[1, \"A\"], [3, \"C\"], [2, \"B\"], [4, \"D\"],\n",
    "                        [5, \"E\"], [7, \"G\"], [6, \"F\"], [8, \"H\"],\n",
    "                        [10, \"J\"], [9, \"I\"]])\n",
    "first_elements= np_array_2d[:,0] #defines a new array containing the first elements\n",
    "integer_array = first_elements.astype(int)  #makes the first elements into integers, and stores the data in integer_array\n",
    "odd_mask= integer_array% 2==1\n",
    "odd_mask"
   ]
  },
  {
   "cell_type": "code",
   "execution_count": 13,
   "id": "8612ac13-dd9c-4c88-b5c7-b7ee1c615264",
   "metadata": {},
   "outputs": [
    {
     "data": {
      "text/plain": [
       "array([['1', 'A'],\n",
       "       ['3', 'C'],\n",
       "       ['5', 'E'],\n",
       "       ['7', 'G'],\n",
       "       ['9', 'I']], dtype='<U21')"
      ]
     },
     "execution_count": 13,
     "metadata": {},
     "output_type": "execute_result"
    }
   ],
   "source": [
    "np_array_2d[odd_mask] #show only those that are true (ie those that are odd) "
   ]
  },
  {
   "cell_type": "code",
   "execution_count": 16,
   "id": "271e6383-f385-4818-a0c1-2ff935a14be4",
   "metadata": {},
   "outputs": [
    {
     "data": {
      "text/plain": [
       "array(['A', 'C', 'E', 'G', 'I'], dtype='<U21')"
      ]
     },
     "execution_count": 16,
     "metadata": {},
     "output_type": "execute_result"
    }
   ],
   "source": [
    "odd = np_array_2d[odd_mask] #store the mask\n",
    "odd_letters= odd[:,1] #show only the letters \n",
    "odd_letters"
   ]
  },
  {
   "cell_type": "markdown",
   "id": "f82d4696-c225-4fe0-bf0c-9f46737a9198",
   "metadata": {},
   "source": [
    "## **Exercises 3** ##"
   ]
  },
  {
   "cell_type": "code",
   "execution_count": 12,
   "id": "ecc16731-527a-405f-89da-5cf7d7a6cefa",
   "metadata": {},
   "outputs": [
    {
     "name": "stdout",
     "output_type": "stream",
     "text": [
      "[[66 50 57 -1 -1]\n",
      " [92 -1 88 -1 -1]\n",
      " [75 -1 -1 76 -1]\n",
      " [-1 51 87 -1 -1]\n",
      " [71 -1 67 -1 69]]\n"
     ]
    }
   ],
   "source": [
    "import numpy as np\n",
    "\n",
    "np_array= np.array([[66, 50, 57, -1, -1],\n",
    " [92, -1, 88, -1, -1],\n",
    " [75, -1, -1, 76, -1],\n",
    " [-1, 51, 87, -1, -1],\n",
    " [71, -1, 67, -1, 69]])\n",
    "\n",
    "\n",
    "np_array[np_array < 50] = -1 #identifies all elements in np_array that are less than 50 and makes the elements into -1\n",
    "print (np_array) #the format for showing an array that meets the conditions is array[condition]"
   ]
  },
  {
   "cell_type": "code",
   "execution_count": 1,
   "id": "ac829725-3e37-4cf2-b425-c3f47d9f8f76",
   "metadata": {},
   "outputs": [
    {
     "name": "stdout",
     "output_type": "stream",
     "text": [
      "[[66 50 57 -1 -1]\n",
      " [92 -1 88 -1 -1]\n",
      " [75 -1 -1 76 -1]\n",
      " [-1 51 87 -1 -1]\n",
      " [71 -1 67 -1 69]]\n",
      "[[ 1 50  1 -1 -1]\n",
      " [ 1 -1  1 -1 -1]\n",
      " [ 1 -1 -1  1 -1]\n",
      " [-1  1  1 -1 -1]\n",
      " [ 1 -1  1 -1  1]]\n",
      "[[ 1  0  1 -1 -1]\n",
      " [ 1 -1  1 -1 -1]\n",
      " [ 1 -1 -1  1 -1]\n",
      " [-1  1  1 -1 -1]\n",
      " [ 1 -1  1 -1  1]]\n"
     ]
    }
   ],
   "source": [
    "import numpy as np\n",
    "\n",
    "np_array= np.array([[66, 50, 57, -1, -1],\n",
    " [92, -1, 88, -1, -1],\n",
    " [75, -1, -1, 76, -1],\n",
    " [-1, 51, 87, -1, -1],\n",
    " [71, -1, 67, -1, 69]])\n",
    "\n",
    "mask1=np_array < 50\n",
    "np_array[mask1] = -1 #identifies all elements in np_array that are less than 50 and makes the elements into -1\n",
    "print(np_array) #note the difference when you print a mask\n",
    "\n",
    "mask2=np_array>50\n",
    "np_array[mask2]=1\n",
    "print(np_array)\n",
    "\n",
    "mask3=np_array==50 #why is it that = doesn't work but == works\n",
    "np_array[mask3]= 0\n",
    "print(np_array)\n"
   ]
  }
 ],
 "metadata": {
  "kernelspec": {
   "display_name": "Python 3 (ipykernel)",
   "language": "python",
   "name": "python3"
  },
  "language_info": {
   "codemirror_mode": {
    "name": "ipython",
    "version": 3
   },
   "file_extension": ".py",
   "mimetype": "text/x-python",
   "name": "python",
   "nbconvert_exporter": "python",
   "pygments_lexer": "ipython3",
   "version": "3.12.3"
  },
  "toc": {
   "base_numbering": 1,
   "nav_menu": {},
   "number_sections": true,
   "sideBar": true,
   "skip_h1_title": false,
   "title_cell": "Table of Contents",
   "title_sidebar": "Contents",
   "toc_cell": false,
   "toc_position": {},
   "toc_section_display": true,
   "toc_window_display": false
  },
  "vscode": {
   "interpreter": {
    "hash": "31f2aee4e71d21fbe5cf8b01ff0e069b9275f58929596ceb00d14d90e3e16cd6"
   }
  }
 },
 "nbformat": 4,
 "nbformat_minor": 5
}
