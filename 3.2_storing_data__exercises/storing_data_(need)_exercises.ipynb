{
 "cells": [
  {
   "attachments": {},
   "cell_type": "markdown",
   "id": "123456",
   "metadata": {},
   "source": [
    "<div style=\"text-align:left;font-size:2em\"><span style=\"font-weight:bolder;font-size:1.25em\">SP2273 | Learning Portfolio</span><br><br><span style=\"font-weight:bold;color:darkred\">Storing Data (Need) Exercises</span></div>"
   ]
  },
  {
   "cell_type": "markdown",
   "id": "053b2cd0-2a09-4407-a9a9-4937904267eb",
   "metadata": {},
   "source": [
    "## **Exercise 1** ##"
   ]
  },
  {
   "cell_type": "markdown",
   "id": "59fe8f1c-5eca-43ae-956c-b6b566099e20",
   "metadata": {},
   "source": [
    "1. Similar:\n",
    "Both use indexing to locate the position of an element.\n",
    "Both are used to store data,\n",
    "3. 2 differences:\n",
    "You cannot find the number of elements in a 2d list but you can in an array. For a 10x2 table, len(py_list_2d) will give an output of 10 (ie the rows). While len(np_array_2d) gives an output of 10 as well, if you use the attribute 'shape' ie np_array-2d.shape, it will give you the dimensions and consequently the number of elements in the array in the form of (rows,column) ie (10,2). \n",
    "In general, python lists approach math by doing the operation to the entire list while arrays approaches each and every element. The format for maths in lists is sum(py_list) while the format for arrays is np.array.sum\n",
    "4. A dictionary is a storage system that contains a key and value separated by \":\". Dictionaries use {} instead of [ ]You can call out the value using dictionary=['key']."
   ]
  },
  {
   "cell_type": "markdown",
   "id": "242044b6-8b37-43a4-bdfa-e060d647f408",
   "metadata": {},
   "source": [
    "Question 3:\n",
    "It is not neccessary to use '=' to call out values in a dictionary. The syntax for calling out a value is\n",
    "\n",
    "dictionary[\"key\"]\n",
    "\n",
    "e.g\n",
    "\n",
    "superhero_name[\"Natasha Romanoff\"]\n",
    "\n",
    "which returns \"Black Widow\"."
   ]
  },
  {
   "cell_type": "markdown",
   "id": "fde32d36-dd02-471b-958e-cb44ed8eedc4",
   "metadata": {},
   "source": [
    "## **Exercise 2** ##"
   ]
  },
  {
   "cell_type": "code",
   "execution_count": 1,
   "id": "bbf726d0-bee4-4a45-874a-207850e7d2d7",
   "metadata": {},
   "outputs": [
    {
     "name": "stdout",
     "output_type": "stream",
     "text": [
      "a1\n",
      "c3\n",
      "e5\n",
      "g7\n",
      "i9\n"
     ]
    }
   ],
   "source": [
    "py_list = [\"a1\", \"b2\", \"c3\", \"d4\", \"e5\", \"f6\", \"g7\", \"h8\", \"i9\", \"j10\"]\n",
    "print(py_list[0])   # Prints 'a1'\n",
    "print(py_list[2])   # Prints 'c3'\n",
    "print(py_list[4])   # Prints 'e5'\n",
    "print(py_list[6])   # Prints 'g7'\n",
    "print(py_list[8])   # Prints 'i9'"
   ]
  },
  {
   "cell_type": "markdown",
   "id": "ca732eef-cd9a-489e-ba1e-b11b30171207",
   "metadata": {},
   "source": [
    "## **Exercise 3** ##"
   ]
  },
  {
   "cell_type": "code",
   "execution_count": 5,
   "id": "40c92a6b-e9f2-4a4a-8b8f-19f6b0be714c",
   "metadata": {},
   "outputs": [
    {
     "name": "stdout",
     "output_type": "stream",
     "text": [
      "Boron\n",
      "Boron\n"
     ]
    }
   ],
   "source": [
    "elements = ['Hydrogen',\n",
    "            'Helium', 'Lithium',\n",
    "            'Beryllium', 'Boron', 'Carbon',\n",
    "            'Nitrogen', 'Oxygen',\n",
    "            'Fluorine',\n",
    "            'Neon'] #neon is index 9 and index -1\n",
    "\n",
    "print(elements[4])\n",
    "print(elements[-6])"
   ]
  },
  {
   "cell_type": "markdown",
   "id": "95a0c697-6642-425f-8520-3c9c81ac27ea",
   "metadata": {},
   "source": [
    "## **Exercise 4** ##"
   ]
  },
  {
   "cell_type": "code",
   "execution_count": 3,
   "id": "162919b3-e740-47d6-bd86-af470db5914a",
   "metadata": {},
   "outputs": [
    {
     "name": "stdout",
     "output_type": "stream",
     "text": [
      "50\n"
     ]
    },
    {
     "data": {
      "text/plain": [
       "(50,)"
      ]
     },
     "execution_count": 3,
     "metadata": {},
     "output_type": "execute_result"
    }
   ],
   "source": [
    "numbers=[45, 60, 1, 30, 96, 1, 96, 57, 16, 1,\n",
    "        99, 62, 86, 43, 42, 60, 59, 1, 1, 35,\n",
    "        83, 47, 34, 28, 68, 23, 22, 92, 1, 79,\n",
    "        1, 29, 94, 72, 46, 47, 1, 74, 32, 20,\n",
    "        8, 37, 35, 1, 89, 29, 86, 19, 43, 61]   \n",
    "\n",
    "import numpy as np\n",
    "np_array = np.array(numbers) #note: make sure you don't use np.array when redefining your array because it is a function \n",
    "                             #the function is no longer callable\n",
    "                             #use smth else like array or np_array. \n",
    "                             #if you made a non-callable function you have to restart the kernel\n",
    "print(len(np_array)) #or\n",
    "np_array.shape #format:variable.attribute. you realise that the output will be in the form of (rows,column)"
   ]
  },
  {
   "cell_type": "code",
   "execution_count": 8,
   "id": "71ab20a7-35a0-40a9-ab7b-5ba5a13a7e51",
   "metadata": {},
   "outputs": [
    {
     "data": {
      "text/plain": [
       "array([False, False,  True, False, False,  True, False, False, False,\n",
       "        True, False, False, False, False, False, False, False,  True,\n",
       "        True, False, False, False, False, False, False, False, False,\n",
       "       False,  True, False,  True, False, False, False, False, False,\n",
       "        True, False, False, False, False, False, False,  True, False,\n",
       "       False, False, False, False, False])"
      ]
     },
     "execution_count": 8,
     "metadata": {},
     "output_type": "execute_result"
    }
   ],
   "source": [
    "numbers=[45, 60, 1, 30, 96, 1, 96, 57, 16, 1,\n",
    "        99, 62, 86, 43, 42, 60, 59, 1, 1, 35,\n",
    "        83, 47, 34, 28, 68, 23, 22, 92, 1, 79,\n",
    "        1, 29, 94, 72, 46, 47, 1, 74, 32, 20,\n",
    "        8, 37, 35, 1, 89, 29, 86, 19, 43, 61]   \n",
    "\n",
    "import numpy as np\n",
    "np_array = np.array(numbers) #note: make sure you don't use np.array when redefining your array because it is a function \n",
    "                             #the function is no longer callable\n",
    "                             #use smth else like array or np_array. \n",
    "                             #if you made a non callable function you have to restart the kernal\n",
    "np_array == 1"
   ]
  },
  {
   "cell_type": "code",
   "execution_count": 9,
   "id": "49d42db6-4368-4dd0-a879-804cedf6a9f4",
   "metadata": {},
   "outputs": [
    {
     "name": "stdout",
     "output_type": "stream",
     "text": [
      "9\n"
     ]
    }
   ],
   "source": [
    "ones= np_array ==1 #which element in the array = to 1? these elements will be group together into the variable 'ones'\n",
    "print(sum(ones))"
   ]
  },
  {
   "cell_type": "code",
   "execution_count": 10,
   "id": "ed01cb1c-1b91-49ca-9ee3-09341b9eb725",
   "metadata": {},
   "outputs": [
    {
     "data": {
      "text/plain": [
       "array([False, False,  True, False, False,  True, False, False, False,\n",
       "        True, False, False, False, False, False, False, False,  True,\n",
       "        True, False, False, False, False, False, False, False, False,\n",
       "       False,  True, False,  True, False, False, False, False, False,\n",
       "        True, False, False, False, False, False, False,  True, False,\n",
       "       False, False, False, False, False])"
      ]
     },
     "execution_count": 10,
     "metadata": {},
     "output_type": "execute_result"
    }
   ],
   "source": [
    "ones"
   ]
  },
  {
   "cell_type": "markdown",
   "id": "403789d8-9d02-42e3-acd9-34f6fcbed265",
   "metadata": {},
   "source": [
    "## **Exercise 5** ##"
   ]
  },
  {
   "cell_type": "code",
   "execution_count": 3,
   "id": "60d9dbe3-0f9a-4553-bd18-0bc8e09544d9",
   "metadata": {},
   "outputs": [],
   "source": [
    "import numpy as np"
   ]
  },
  {
   "cell_type": "code",
   "execution_count": 4,
   "id": "76129ed6-d932-4234-9241-f170511b2097",
   "metadata": {},
   "outputs": [],
   "source": [
    "x_1 = [1, 4, 9, 16, 25, 36, 49, 64, 81, 100]\n",
    "x_2 = [1, 8, 27, 64, 125, 216, 343, 512, 729, 1000]\n",
    "\n",
    "array1 = np.array(x_1) #array of x1\n",
    "array2 = np.array(x_2) #array of x2"
   ]
  },
  {
   "cell_type": "markdown",
   "id": "09169c50-f74a-48eb-a622-7a7a99520f9f",
   "metadata": {},
   "source": [
    "### 1. Find the mean of x_1 and x_2 ###"
   ]
  },
  {
   "cell_type": "code",
   "execution_count": 5,
   "id": "7bdf1855-7226-4ed6-8f21-5d0463ceaa8e",
   "metadata": {},
   "outputs": [
    {
     "name": "stdout",
     "output_type": "stream",
     "text": [
      "The mean of x_1 is 38.5\n",
      "The mean of x_2 is 302.5\n"
     ]
    }
   ],
   "source": [
    "array1.mean() \n",
    "print('The mean of x_1 is',array1.mean())\n",
    "array2.mean() #Finds E(Y)\n",
    "print('The mean of x_2 is',array2.mean()) "
   ]
  },
  {
   "cell_type": "markdown",
   "id": "545d0e96-e827-47fa-a99d-184cf0b9b706",
   "metadata": {},
   "source": [
    "### 2. Find the standard deviation of x_1 and x_2 ###\n"
   ]
  },
  {
   "cell_type": "code",
   "execution_count": 6,
   "id": "5afc76da-3890-4ff3-a8ab-05d23a6b8bc8",
   "metadata": {},
   "outputs": [
    {
     "name": "stdout",
     "output_type": "stream",
     "text": [
      "The standard deviation of x_1 is 32.41990129534635\n",
      "The standard deviation of x_2 is 326.0893282522444\n"
     ]
    }
   ],
   "source": [
    "array1.std() #Finds std of x1\n",
    "print('The standard deviation of x_1 is',array1.std())\n",
    "array2.std() #Finds std of x2\n",
    "print('The standard deviation of x_2 is',array2.std())"
   ]
  },
  {
   "cell_type": "markdown",
   "id": "9e12df71-1c67-4e4a-a381-b11f26415148",
   "metadata": {},
   "source": [
    "### 3. Find the standard deviation of x_1 and x_2 ###"
   ]
  },
  {
   "cell_type": "markdown",
   "id": "2479f38f-5b32-421c-b694-5df2af5f826a",
   "metadata": {},
   "source": [
    "The formulas for covariance and correlation were used.\n",
    "![ ](https://miro.medium.com/v2/resize:fit:1100/format:webp/1*T52-LSuLQyq-6I2c1lkj-A.png)\n",
    "\n"
   ]
  },
  {
   "cell_type": "code",
   "execution_count": 59,
   "id": "7ab41a86-0cd3-43ef-9a89-23811787f749",
   "metadata": {},
   "outputs": [
    {
     "name": "stdout",
     "output_type": "stream",
     "text": [
      "The mean of x_1 is 38.5\n",
      "The mean of x_2 is 302.5\n",
      "array1_1 = [-37.5 -34.5 -29.5 -22.5 -13.5  -2.5  10.5  25.5  42.5  61.5]\n",
      "array2_1 = [-301.5 -294.5 -275.5 -238.5 -177.5  -86.5   40.5  209.5  426.5  697.5]\n",
      "product =  [11306.25 10160.25  8127.25  5366.25  2396.25   216.25   425.25  5342.25\n",
      " 18126.25 42896.25]\n",
      "sum_ofproduct = 104362.5\n",
      "cov = 10436.25\n"
     ]
    }
   ],
   "source": [
    "#Finding covariance\n",
    "\n",
    "array1.mean() #Finds E(X)\n",
    "print('The mean of x_1 is',array1.mean())\n",
    "array2.mean() #Finds E(Y)\n",
    "print('The mean of x_2 is',array2.mean()) #the comma has to be present\n",
    "\n",
    "array1_1 = array1 - array1.mean() #Finds x-E(X)\n",
    "print('array1_1 =', array1_1) \n",
    "\n",
    "array2_1 = array2 - array2.mean() #Finds y-E(Y)\n",
    "print('array2_1 =', array2_1)\n",
    "\n",
    "product= (array1_1*array2_1) #finds (x-E(X))( y-E(Y))\n",
    "print('product = ', product)\n",
    "\n",
    "sum_ofproduct = np.sum(product)\n",
    "print('sum_ofproduct =',sum_ofproduct)\n",
    "\n",
    "cov=(1/10)*sum_ofproduct #numpy uses n and not n-1\n",
    "print('cov =',cov)"
   ]
  },
  {
   "cell_type": "code",
   "execution_count": 60,
   "id": "218841e4-a0fa-4740-943b-9471d3230bdc",
   "metadata": {},
   "outputs": [
    {
     "name": "stdout",
     "output_type": "stream",
     "text": [
      "cor = 0.9871796626270702\n"
     ]
    }
   ],
   "source": [
    "#Finding correlation\n",
    "\n",
    "array1.std() #Finds std of x1\n",
    "array2.std() #Finds std of x2\n",
    "\n",
    "cor=cov/(array1.std()*array2.std())\n",
    "print('cor =', cor)"
   ]
  },
  {
   "cell_type": "code",
   "execution_count": 48,
   "id": "2ee17f4b-c4e4-4085-bea8-c0338d28a868",
   "metadata": {},
   "outputs": [
    {
     "name": "stdout",
     "output_type": "stream",
     "text": [
      "[[1.         0.98717966]\n",
      " [0.98717966 1.        ]]\n"
     ]
    }
   ],
   "source": [
    "print(np.corrcoef(x_1,x_2)) #the output will find the correlation value of all possible computations\n",
    "                            # the correlation of x_1 and itself is 1"
   ]
  }
 ],
 "metadata": {
  "kernelspec": {
   "display_name": "Python 3 (ipykernel)",
   "language": "python",
   "name": "python3"
  },
  "language_info": {
   "codemirror_mode": {
    "name": "ipython",
    "version": 3
   },
   "file_extension": ".py",
   "mimetype": "text/x-python",
   "name": "python",
   "nbconvert_exporter": "python",
   "pygments_lexer": "ipython3",
   "version": "3.12.3"
  },
  "toc": {
   "base_numbering": 1,
   "nav_menu": {},
   "number_sections": true,
   "sideBar": true,
   "skip_h1_title": false,
   "title_cell": "Table of Contents",
   "title_sidebar": "Contents",
   "toc_cell": false,
   "toc_position": {},
   "toc_section_display": true,
   "toc_window_display": false
  },
  "vscode": {
   "interpreter": {
    "hash": "31f2aee4e71d21fbe5cf8b01ff0e069b9275f58929596ceb00d14d90e3e16cd6"
   }
  }
 },
 "nbformat": 4,
 "nbformat_minor": 5
}
