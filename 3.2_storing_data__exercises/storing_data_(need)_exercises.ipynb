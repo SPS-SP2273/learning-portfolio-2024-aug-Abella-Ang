{
 "cells": [
  {
   "attachments": {},
   "cell_type": "markdown",
   "id": "123456",
   "metadata": {},
   "source": [
    "<div style=\"text-align:left;font-size:2em\"><span style=\"font-weight:bolder;font-size:1.25em\">SP2273 | Learning Portfolio</span><br><br><span style=\"font-weight:bold;color:darkred\">Storing Data (Need) Exercises</span></div>"
   ]
  },
  {
   "cell_type": "markdown",
   "id": "053b2cd0-2a09-4407-a9a9-4937904267eb",
   "metadata": {},
   "source": [
    "## **Exercise 1** ##"
   ]
  },
  {
   "cell_type": "markdown",
   "id": "59fe8f1c-5eca-43ae-956c-b6b566099e20",
   "metadata": {},
   "source": [
    "1. You cannot find the number of elements in a 2d list but you can in an array. For a 10x2 table, len(py_list_2d) will give an output of 10 (ie the rows). While len(np_array_2d) gives an output of 10 as well, if you use the attribute 'shape' ie np_array-2d.shape, it will give you the dimensions and consequently the number of elements in the array in the form of (rows,column) ie (10,2)\n",
    "2. In general, python lists approach math by doing the operation to the entire list while arrays approaches each and every element. The format for maths in lists is sum(py_list) while the format for arrays is np.array.sum\n",
    "3. A dictionary is a storage system that contains a key and value separated by \":\". Dictionaries use {} instead of [ ]You can call out the value using dictionary=['key']."
   ]
  },
  {
   "cell_type": "markdown",
   "id": "fde32d36-dd02-471b-958e-cb44ed8eedc4",
   "metadata": {},
   "source": [
    "## **Exercise 2** ##"
   ]
  },
  {
   "cell_type": "code",
   "execution_count": 1,
   "id": "bbf726d0-bee4-4a45-874a-207850e7d2d7",
   "metadata": {},
   "outputs": [
    {
     "name": "stdout",
     "output_type": "stream",
     "text": [
      "a1\n",
      "c3\n",
      "e5\n",
      "g7\n",
      "i9\n"
     ]
    }
   ],
   "source": [
    "py_list = [\"a1\", \"b2\", \"c3\", \"d4\", \"e5\", \"f6\", \"g7\", \"h8\", \"i9\", \"j10\"]\n",
    "print(py_list[0])   # Prints 'a1'\n",
    "print(py_list[2])   # Prints 'c3'\n",
    "print(py_list[4])   # Prints 'e5'\n",
    "print(py_list[6])   # Prints 'g7'\n",
    "print(py_list[8])   # Prints 'i9'"
   ]
  },
  {
   "cell_type": "markdown",
   "id": "ca732eef-cd9a-489e-ba1e-b11b30171207",
   "metadata": {},
   "source": [
    "## **Exercise 3** ##"
   ]
  },
  {
   "cell_type": "code",
   "execution_count": 5,
   "id": "40c92a6b-e9f2-4a4a-8b8f-19f6b0be714c",
   "metadata": {},
   "outputs": [
    {
     "name": "stdout",
     "output_type": "stream",
     "text": [
      "Boron\n",
      "Boron\n"
     ]
    }
   ],
   "source": [
    "elements = ['Hydrogen',\n",
    "            'Helium', 'Lithium',\n",
    "            'Beryllium', 'Boron', 'Carbon',\n",
    "            'Nitrogen', 'Oxygen',\n",
    "            'Fluorine',\n",
    "            'Neon'] #neon is index 9 and index -1\n",
    "\n",
    "print(elements[4])\n",
    "print(elements[-6])"
   ]
  },
  {
   "cell_type": "markdown",
   "id": "95a0c697-6642-425f-8520-3c9c81ac27ea",
   "metadata": {},
   "source": [
    "## **Exercise 4** ##"
   ]
  },
  {
   "cell_type": "code",
   "execution_count": 3,
   "id": "162919b3-e740-47d6-bd86-af470db5914a",
   "metadata": {},
   "outputs": [
    {
     "name": "stdout",
     "output_type": "stream",
     "text": [
      "50\n"
     ]
    },
    {
     "data": {
      "text/plain": [
       "(50,)"
      ]
     },
     "execution_count": 3,
     "metadata": {},
     "output_type": "execute_result"
    }
   ],
   "source": [
    "numbers=[45, 60, 1, 30, 96, 1, 96, 57, 16, 1,\n",
    "        99, 62, 86, 43, 42, 60, 59, 1, 1, 35,\n",
    "        83, 47, 34, 28, 68, 23, 22, 92, 1, 79,\n",
    "        1, 29, 94, 72, 46, 47, 1, 74, 32, 20,\n",
    "        8, 37, 35, 1, 89, 29, 86, 19, 43, 61]   \n",
    "\n",
    "import numpy as np\n",
    "np_array = np.array(numbers) #note: make sure you don't use np.array when redefining your array because it is a function \n",
    "                             #the function is no longer callable\n",
    "                             #use smth else like array or np_array. \n",
    "                             #if you made a non-callable function you have to restart the kernel\n",
    "print(len(np_array)) #or\n",
    "np_array.shape #format:variable.attribute. you realise that the output will be in the form of (rows,column)"
   ]
  },
  {
   "cell_type": "code",
   "execution_count": 22,
   "id": "71ab20a7-35a0-40a9-ab7b-5ba5a13a7e51",
   "metadata": {},
   "outputs": [
    {
     "data": {
      "text/plain": [
       "array([False, False,  True, False, False,  True, False, False, False,\n",
       "        True, False, False, False, False, False, False, False,  True,\n",
       "        True, False, False, False, False, False, False, False, False,\n",
       "       False,  True, False,  True, False, False, False, False, False,\n",
       "        True, False, False, False, False, False, False,  True, False,\n",
       "       False, False, False, False, False])"
      ]
     },
     "execution_count": 22,
     "metadata": {},
     "output_type": "execute_result"
    }
   ],
   "source": [
    "numbers=[45, 60, 1, 30, 96, 1, 96, 57, 16, 1,\n",
    "        99, 62, 86, 43, 42, 60, 59, 1, 1, 35,\n",
    "        83, 47, 34, 28, 68, 23, 22, 92, 1, 79,\n",
    "        1, 29, 94, 72, 46, 47, 1, 74, 32, 20,\n",
    "        8, 37, 35, 1, 89, 29, 86, 19, 43, 61]   \n",
    "\n",
    "import numpy as np\n",
    "np_array = np.array(numbers) #note: make sure you don't use np.array when redefining your array because it is a function \n",
    "                             #the function is no longer callable\n",
    "                             #use smth else like array or np_array. \n",
    "                             #if you made a non callable function you have to restart the kernal\n",
    "np_array == 1"
   ]
  },
  {
   "cell_type": "code",
   "execution_count": 25,
   "id": "49d42db6-4368-4dd0-a879-804cedf6a9f4",
   "metadata": {},
   "outputs": [
    {
     "name": "stdout",
     "output_type": "stream",
     "text": [
      "9\n"
     ]
    }
   ],
   "source": [
    "ones= np_array ==1 #which element in the array = to 1? these elements will be group together into the variable 'ones'\n",
    "print(sum(ones))"
   ]
  },
  {
   "cell_type": "markdown",
   "id": "403789d8-9d02-42e3-acd9-34f6fcbed265",
   "metadata": {},
   "source": [
    "## **Exercise 5** ##"
   ]
  },
  {
   "cell_type": "code",
   "execution_count": 34,
   "id": "76129ed6-d932-4234-9241-f170511b2097",
   "metadata": {},
   "outputs": [
    {
     "name": "stdout",
     "output_type": "stream",
     "text": [
      "The mean of x_1 is 38.5\n",
      "The mean of x_2 is 302.5\n",
      "The standard deviation x_1 is 32.41990129534635\n",
      "The standard deviation x_2 is 326.0893282522444\n"
     ]
    }
   ],
   "source": [
    "x_1 = [1, 4, 9, 16, 25, 36, 49, 64, 81, 100]\n",
    "x_2 = [1, 8, 27, 64, 125, 216, 343, 512, 729, 1000]\n",
    "\n",
    "array1 = np.array(x_1) #array of x1\n",
    "array2 = np.array(x_2) #array of x2\n",
    "\n",
    "print('The mean of x_1 is',array1.mean())\n",
    "print('The mean of x_2 is',array2.mean()) #the comma has to be present\n",
    "\n",
    "print('The standard deviation x_1 is',array1.std())\n",
    "print('The standard deviation x_2 is',array2.std())"
   ]
  },
  {
   "cell_type": "code",
   "execution_count": null,
   "id": "ea55242c-6412-4c3c-953a-da63f20b6a66",
   "metadata": {},
   "outputs": [],
   "source": [
    "np"
   ]
  },
  {
   "cell_type": "code",
   "execution_count": null,
   "id": "7ab41a86-0cd3-43ef-9a89-23811787f749",
   "metadata": {},
   "outputs": [],
   "source": [
    "array2.mean() # why is it that this will be the output? why does the output change when you use the word print"
   ]
  },
  {
   "cell_type": "code",
   "execution_count": null,
   "id": "ef354d4f-05c3-4b95-8f4b-4f7c30544981",
   "metadata": {},
   "outputs": [],
   "source": []
  }
 ],
 "metadata": {
  "kernelspec": {
   "display_name": "Python 3 (ipykernel)",
   "language": "python",
   "name": "python3"
  },
  "language_info": {
   "codemirror_mode": {
    "name": "ipython",
    "version": 3
   },
   "file_extension": ".py",
   "mimetype": "text/x-python",
   "name": "python",
   "nbconvert_exporter": "python",
   "pygments_lexer": "ipython3",
   "version": "3.12.3"
  },
  "toc": {
   "base_numbering": 1,
   "nav_menu": {},
   "number_sections": true,
   "sideBar": true,
   "skip_h1_title": false,
   "title_cell": "Table of Contents",
   "title_sidebar": "Contents",
   "toc_cell": false,
   "toc_position": {},
   "toc_section_display": true,
   "toc_window_display": false
  },
  "vscode": {
   "interpreter": {
    "hash": "31f2aee4e71d21fbe5cf8b01ff0e069b9275f58929596ceb00d14d90e3e16cd6"
   }
  }
 },
 "nbformat": 4,
 "nbformat_minor": 5
}
