{
 "cells": [
  {
   "attachments": {},
   "cell_type": "markdown",
   "id": "123456",
   "metadata": {},
   "source": [
    "<div style=\"text-align:left;font-size:2em\"><span style=\"font-weight:bolder;font-size:1.25em\">SP2273 | Learning Portfolio</span><br><br><span style=\"font-weight:bold;color:darkred\">Files, Folders & OS (Need)</span></div>"
   ]
  },
  {
   "attachments": {},
   "cell_type": "markdown",
   "id": "a18cc66c",
   "metadata": {},
   "source": [
    "# What to expect in this chapter"
   ]
  },
  {
   "cell_type": "markdown",
   "id": "21359706-99bd-46cf-b402-1db4d991a310",
   "metadata": {},
   "source": [
    "Operating systems(OS): Windows, Macs, Linux"
   ]
  },
  {
   "attachments": {},
   "cell_type": "markdown",
   "id": "413f4cba",
   "metadata": {},
   "source": [
    "# 1 Important concepts"
   ]
  },
  {
   "attachments": {},
   "cell_type": "markdown",
   "id": "285bd50d",
   "metadata": {},
   "source": [
    "## 1.1 Path"
   ]
  },
  {
   "attachments": {},
   "cell_type": "markdown",
   "id": "89d11124",
   "metadata": {},
   "source": [
    "## 1.2 More about relative paths"
   ]
  },
  {
   "cell_type": "markdown",
   "id": "398a6dd4-6b49-4d6e-a505-1c1064fff125",
   "metadata": {},
   "source": [
    ".\\data-files\\data-01.txt means the file data-01.txt in the folder data-files in the current folder.\n",
    "..\\data-files\\data-01.txt means the file data-01.txt in the folder data-files located in the folder above."
   ]
  },
  {
   "attachments": {},
   "cell_type": "markdown",
   "id": "ede6d089",
   "metadata": {},
   "source": [
    "### macOS or Linux"
   ]
  },
  {
   "cell_type": "markdown",
   "id": "762bfa76-53d3-4469-b00b-7286c4c0f6cc",
   "metadata": {},
   "source": [
    "#home directory\n",
    "~\\Desktop\\data-01.txt"
   ]
  },
  {
   "cell_type": "code",
   "execution_count": null,
   "id": "540ce75f",
   "metadata": {},
   "outputs": [],
   "source": [
    "\n",
    "# Your code here\n"
   ]
  },
  {
   "attachments": {},
   "cell_type": "markdown",
   "id": "d7a113f2",
   "metadata": {},
   "source": [
    "## 1.3 Path separator"
   ]
  },
  {
   "attachments": {},
   "cell_type": "markdown",
   "id": "749fa26e",
   "metadata": {},
   "source": [
    "## 1.4 Text files vs. Binary files"
   ]
  },
  {
   "cell_type": "markdown",
   "id": "1da6879f-d06a-4ecc-8e27-ee309c52235e",
   "metadata": {},
   "source": [
    "File type! -> denonted by extensions\n",
    "text files can be opened and read easily, binary files require an app\n"
   ]
  },
  {
   "attachments": {},
   "cell_type": "markdown",
   "id": "b17a6f10",
   "metadata": {},
   "source": [
    "## 1.5 Extensions"
   ]
  },
  {
   "attachments": {},
   "cell_type": "markdown",
   "id": "a7ec7497",
   "metadata": {},
   "source": [
    "# 2 Opening and closing files"
   ]
  },
  {
   "attachments": {},
   "cell_type": "markdown",
   "id": "50f51e4f",
   "metadata": {},
   "source": [
    "## 2.1 Reading data"
   ]
  },
  {
   "cell_type": "code",
   "execution_count": null,
   "id": "6191f16d-f089-48bd-92e6-bed959ae9510",
   "metadata": {},
   "outputs": [],
   "source": [
    "with open('spectrum-01.txt', 'r') as file:\n",
    "    file_content = file.read()\n",
    "\n",
    "print(file_content)\n",
    "\n",
    "#The open() function ‘opens’ your file. \n",
    "#The 'r' specifies that I only want to read from the file. \n",
    "#Using with frees you from worrying about closing the file after you are done."
   ]
  },
  {
   "attachments": {},
   "cell_type": "markdown",
   "id": "ec858828",
   "metadata": {},
   "source": [
    "## 2.2 Writing data"
   ]
  },
  {
   "cell_type": "code",
   "execution_count": null,
   "id": "c1db3347-f901-4d46-badc-056f7581ae26",
   "metadata": {},
   "outputs": [],
   "source": [
    "text = 'Far out in the uncharted backwaters of the unfashionable end of the western spiral arm of the Galaxy lies a small unregarded yellow sun.\\nOrbiting this at a distance of roughly ninety-two million miles is an utterly insignificant little blue green planet whose ape-descended life forms are so amazingly primitive that they still think digital watches are a pretty neat idea.'\n",
    "with open('my-text-once.txt', 'w') as file:\n",
    "    file.write(text)\n",
    "#You should now have a file my-text-once.txt in your directory. You should open it to take a look. By the way, the 'w' indicates that I am opening the file for writing."
   ]
  },
  {
   "attachments": {},
   "cell_type": "markdown",
   "id": "c371273a",
   "metadata": {},
   "source": [
    "### Writing to a file in one go"
   ]
  },
  {
   "cell_type": "code",
   "execution_count": null,
   "id": "c93a1966",
   "metadata": {},
   "outputs": [],
   "source": [
    "#to write in one go, write ur text 'text=', then open the file, with 'w', thne file.write(text)\n"
   ]
  },
  {
   "attachments": {},
   "cell_type": "markdown",
   "id": "93976a49",
   "metadata": {},
   "source": [
    "### Writing to a file, line by line"
   ]
  },
  {
   "cell_type": "code",
   "execution_count": null,
   "id": "93403327",
   "metadata": {},
   "outputs": [],
   "source": [
    "\n",
    "with open('my-text-lines.txt', 'w') as file:\n",
    "    for line in text.splitlines():\n",
    "        file.writelines(line)\n"
   ]
  },
  {
   "attachments": {},
   "cell_type": "markdown",
   "id": "d635cac0",
   "metadata": {},
   "source": [
    "# 3 Some useful packages"
   ]
  },
  {
   "cell_type": "code",
   "execution_count": null,
   "id": "f3e772a8-77ae-41cd-a376-75568607c09e",
   "metadata": {},
   "outputs": [],
   "source": [
    "import os #used to modify ,create, delete files,\n",
    "import glob #search for files\n",
    "import shutil #copy files"
   ]
  },
  {
   "attachments": {},
   "cell_type": "markdown",
   "id": "5593869f",
   "metadata": {},
   "source": [
    "# 4 OS safe paths"
   ]
  },
  {
   "cell_type": "code",
   "execution_count": null,
   "id": "1a72a262-cd24-4bc9-b50f-73af4631da49",
   "metadata": {},
   "outputs": [],
   "source": [
    "os.path.join() to access data"
   ]
  },
  {
   "attachments": {},
   "cell_type": "markdown",
   "id": "62112da3",
   "metadata": {},
   "source": [
    "# 5 Folders"
   ]
  },
  {
   "attachments": {},
   "cell_type": "markdown",
   "id": "c2c4bd25",
   "metadata": {},
   "source": [
    "## 5.1 Creating folders"
   ]
  },
  {
   "cell_type": "code",
   "execution_count": 2,
   "id": "14e0f679-24f0-4bca-b319-a7a3937255a0",
   "metadata": {},
   "outputs": [
    {
     "ename": "NameError",
     "evalue": "name 'os' is not defined",
     "output_type": "error",
     "traceback": [
      "\u001b[1;31m-------------------------------------------------------------------------\u001b[0m",
      "\u001b[1;31mNameError\u001b[0m                               Traceback (most recent call last)",
      "Cell \u001b[1;32mIn[2], line 1\u001b[0m\n\u001b[1;32m----> 1\u001b[0m \u001b[43mos\u001b[49m\u001b[38;5;241m.\u001b[39mmkdir(\u001b[38;5;124m'\u001b[39m\u001b[38;5;124m'\u001b[39m) \u001b[38;5;66;03m#creates folders\u001b[39;00m\n\u001b[0;32m      3\u001b[0m os\u001b[38;5;241m.\u001b[39mmkdir(\u001b[38;5;124m'\u001b[39m\u001b[38;5;124mpeople\u001b[39m\u001b[38;5;124m'\u001b[39m) \n\u001b[0;32m      5\u001b[0m \u001b[38;5;28;01mfor\u001b[39;00m person \u001b[38;5;129;01min\u001b[39;00m [\u001b[38;5;124m'\u001b[39m\u001b[38;5;124mJohn\u001b[39m\u001b[38;5;124m'\u001b[39m, \u001b[38;5;124m'\u001b[39m\u001b[38;5;124mPaul\u001b[39m\u001b[38;5;124m'\u001b[39m, \u001b[38;5;124m'\u001b[39m\u001b[38;5;124mRingo\u001b[39m\u001b[38;5;124m'\u001b[39m]:\n",
      "\u001b[1;31mNameError\u001b[0m: name 'os' is not defined"
     ]
    }
   ],
   "source": [
    "os.mkdir('') #creates folders\n",
    "\n",
    "os.mkdir('people') \n",
    "\n",
    "for person in ['John', 'Paul', 'Ringo']:\n",
    "    path = os.path.join('people', person)\n",
    "    print(f'Creating {path}')\n",
    "    os.mkdir(path)"
   ]
  },
  {
   "attachments": {},
   "cell_type": "markdown",
   "id": "739f225e",
   "metadata": {},
   "source": [
    "## 5.2 Checking for existence"
   ]
  },
  {
   "attachments": {},
   "cell_type": "markdown",
   "id": "d83976fa",
   "metadata": {},
   "source": [
    "### Using try-except"
   ]
  },
  {
   "cell_type": "code",
   "execution_count": null,
   "id": "8bd433b2",
   "metadata": {},
   "outputs": [],
   "source": [
    "\n",
    "# Your code here\n"
   ]
  },
  {
   "attachments": {},
   "cell_type": "markdown",
   "id": "d15860ac",
   "metadata": {},
   "source": [
    "### Using os.path.exists()"
   ]
  },
  {
   "cell_type": "code",
   "execution_count": null,
   "id": "396ef3a9",
   "metadata": {},
   "outputs": [],
   "source": [
    "\n",
    "# Your code here\n"
   ]
  },
  {
   "attachments": {},
   "cell_type": "markdown",
   "id": "88c7bb0e",
   "metadata": {},
   "source": [
    "## 5.3 Copying files"
   ]
  },
  {
   "attachments": {},
   "cell_type": "markdown",
   "id": "ec27af45",
   "metadata": {},
   "source": [
    "# 6 Listing and looking for files"
   ]
  },
  {
   "attachments": {},
   "cell_type": "markdown",
   "id": "8d8e1d7e",
   "metadata": {},
   "source": [
    "# 7 Extracting file info"
   ]
  },
  {
   "cell_type": "code",
   "execution_count": null,
   "id": "3c46304c-7d31-4fdf-9a7d-700649736376",
   "metadata": {},
   "outputs": [],
   "source": [
    "filename.split #splits based on delimiter -_ or .\n",
    "os.path.split()   #splits stuff\n",
    "os.path.split(path)      # Split filename from the rest\n",
    "os.path.splitext(path)   # Split extension"
   ]
  },
  {
   "cell_type": "code",
   "execution_count": 4,
   "id": "aa49178b-5c62-4122-96f8-fb4a861b11d7",
   "metadata": {},
   "outputs": [
    {
     "ename": "NameError",
     "evalue": "name 'month_split' is not defined",
     "output_type": "error",
     "traceback": [
      "\u001b[1;31m-------------------------------------------------------------------------\u001b[0m",
      "\u001b[1;31mNameError\u001b[0m                               Traceback (most recent call last)",
      "Cell \u001b[1;32mIn[4], line 1\u001b[0m\n\u001b[1;32m----> 1\u001b[0m datesplit\u001b[38;5;241m=\u001b[39m \u001b[43mmonth_split\u001b[49m[\u001b[38;5;241m1\u001b[39m]\u001b[38;5;241m.\u001b[39msplit(\u001b[38;5;124m'\u001b[39m\u001b[38;5;124m_\u001b[39m\u001b[38;5;124m'\u001b[39m) \u001b[38;5;66;03m#synthax is to split[position, if applicable].split(split where)\u001b[39;00m\n\u001b[0;32m      2\u001b[0m \u001b[38;5;28mprint\u001b[39m (datesplit)\n",
      "\u001b[1;31mNameError\u001b[0m: name 'month_split' is not defined"
     ]
    }
   ],
   "source": [
    "datesplit= month_split[1].split('_') #synthax is to split[position, if applicable].split(split where)\n",
    "print (datesplit)\n"
   ]
  },
  {
   "attachments": {},
   "cell_type": "markdown",
   "id": "bc024d10",
   "metadata": {},
   "source": [
    "# 8 Deleting stuff"
   ]
  },
  {
   "cell_type": "code",
   "execution_count": null,
   "id": "e516b28d-2c2b-412a-b9a2-cb9be6e7e367",
   "metadata": {},
   "outputs": [],
   "source": [
    "os.remove('people/Ringo/imgs/sp2273_logo.png') #remove file\n",
    "os.rmdir('people/Ringo') #remove dictionary\n",
    "shutil.rmtree('people/Ringo') #removes files in directory with shutil"
   ]
  }
 ],
 "metadata": {
  "kernelspec": {
   "display_name": "Python 3 (ipykernel)",
   "language": "python",
   "name": "python3"
  },
  "language_info": {
   "codemirror_mode": {
    "name": "ipython",
    "version": 3
   },
   "file_extension": ".py",
   "mimetype": "text/x-python",
   "name": "python",
   "nbconvert_exporter": "python",
   "pygments_lexer": "ipython3",
   "version": "3.12.3"
  },
  "toc": {
   "base_numbering": 1,
   "nav_menu": {},
   "number_sections": true,
   "sideBar": true,
   "skip_h1_title": false,
   "title_cell": "Table of Contents",
   "title_sidebar": "Contents",
   "toc_cell": false,
   "toc_position": {},
   "toc_section_display": true,
   "toc_window_display": false
  },
  "vscode": {
   "interpreter": {
    "hash": "31f2aee4e71d21fbe5cf8b01ff0e069b9275f58929596ceb00d14d90e3e16cd6"
   }
  }
 },
 "nbformat": 4,
 "nbformat_minor": 5
}
