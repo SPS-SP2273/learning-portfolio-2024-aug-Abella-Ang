{
 "cells": [
  {
   "attachments": {},
   "cell_type": "markdown",
   "id": "123456",
   "metadata": {},
   "source": [
    "<div style=\"text-align:left;font-size:2em\"><span style=\"font-weight:bolder;font-size:1.25em\">SP2273 | Learning Portfolio</span><br><br><span style=\"font-weight:bold;color:darkred\">Loops (Good) Exercises</span></div>"
   ]
  },
  {
   "cell_type": "markdown",
   "id": "4c283c84-3b8d-4f08-a370-0507319a809c",
   "metadata": {},
   "source": [
    "## **Exercise 1** ##"
   ]
  },
  {
   "cell_type": "code",
   "execution_count": 1,
   "id": "d5d7f13f-b68d-4940-af68-a63685875374",
   "metadata": {},
   "outputs": [
    {
     "name": "stdout",
     "output_type": "stream",
     "text": [
      "1\n",
      "9\n",
      "25\n",
      "49\n",
      "81\n"
     ]
    }
   ],
   "source": [
    "for number in range(10):\n",
    "    if number % 2 == 0:  # Go back to the start of the loop if the remainder is zero (don't print)\n",
    "        continue\n",
    "    squares = number**2\n",
    "    print(squares)"
   ]
  },
  {
   "cell_type": "markdown",
   "id": "261bde31-f222-43b3-a8d3-82f61cfe1e6a",
   "metadata": {},
   "source": [
    "## **Exercise 2** ##"
   ]
  },
  {
   "cell_type": "code",
   "execution_count": 2,
   "id": "6388bf01-59d7-4c35-9b7b-a007a6340b07",
   "metadata": {},
   "outputs": [
    {
     "data": {
      "text/plain": [
       "[1, 9, 25, 49, 81]"
      ]
     },
     "execution_count": 2,
     "metadata": {},
     "output_type": "execute_result"
    }
   ],
   "source": [
    "[number**2 for number in range(10) if number % 2 ==1]"
   ]
  },
  {
   "cell_type": "markdown",
   "id": "62c74eec-7455-4a54-81ea-7b587fccd267",
   "metadata": {},
   "source": [
    "## **Exercise 3** ##"
   ]
  },
  {
   "cell_type": "code",
   "execution_count": 6,
   "id": "4870f085-0c29-4fac-83f6-5cdb32153684",
   "metadata": {},
   "outputs": [
    {
     "name": "stdout",
     "output_type": "stream",
     "text": [
      "518 ns ± 1.53 ns per loop (mean ± std. dev. of 7 runs, 1,000,000 loops each)\n"
     ]
    }
   ],
   "source": [
    "%%timeit\n",
    "for number in range(10):\n",
    "    if number % 2 == 0:  # Go back to the start of the loop if the remainder is zero (don't print)\n",
    "        continue\n",
    "    squares = number**2"
   ]
  },
  {
   "cell_type": "code",
   "execution_count": 5,
   "id": "6a762947-684d-457c-8beb-b24f92163984",
   "metadata": {},
   "outputs": [
    {
     "name": "stdout",
     "output_type": "stream",
     "text": [
      "594 ns ± 13 ns per loop (mean ± std. dev. of 7 runs, 1,000,000 loops each)\n"
     ]
    }
   ],
   "source": [
    "%%timeit\n",
    "[number**2 for number in range(10) if number % 2 ==1]"
   ]
  },
  {
   "cell_type": "markdown",
   "id": "814dee6e-ec02-448c-b047-13e729748678",
   "metadata": {},
   "source": [
    "Theoretically, 'list comprehension' is faster than a 'loop' because the code ran in a single line. However, it could be that the range (10) is too small to observe the difference."
   ]
  },
  {
   "cell_type": "markdown",
   "id": "b25ec4a2-07f0-488d-b591-5202be8b28e9",
   "metadata": {},
   "source": [
    "## **Exercise 4** ##"
   ]
  },
  {
   "cell_type": "code",
   "execution_count": 22,
   "id": "e5ed2838-02c5-4e75-abf4-ecf0516f82a9",
   "metadata": {},
   "outputs": [
    {
     "name": "stdout",
     "output_type": "stream",
     "text": [
      "100\n",
      "95.0\n",
      "90.25\n",
      "85.7375\n",
      "81.45062499999999\n",
      "77.37809374999999\n",
      "73.50918906249998\n",
      "69.83372960937498\n",
      "66.34204312890623\n",
      "63.02494097246091\n",
      "59.87369392383786\n",
      "56.880009227645964\n",
      "54.03600876626366\n",
      "51.33420832795048\n",
      "The half life of the decomposition reaction is 14 years\n"
     ]
    }
   ],
   "source": [
    "number=100\n",
    "rows=0\n",
    "while True:\n",
    "    print(number)\n",
    "    number *= 0.95 \n",
    "    rows += 1\n",
    "    if number < 50: break\n",
    "\n",
    "print(f'The half life of the decomposition reaction is {rows} years' )\n"
   ]
  },
  {
   "cell_type": "markdown",
   "id": "356c5aad-3eaf-4a6e-b039-f9af657873c6",
   "metadata": {},
   "source": [
    "## **Exercise 5** ##"
   ]
  },
  {
   "cell_type": "code",
   "execution_count": 57,
   "id": "7c2c01b9-8d21-4b40-a27c-cfdbb487fda9",
   "metadata": {},
   "outputs": [
    {
     "name": "stdout",
     "output_type": "stream",
     "text": [
      "Year: 2016\n",
      "Change in CO2 concentration: 3.41ppm\n"
     ]
    }
   ],
   "source": [
    "co2_data= [(2000, 369.55), (2001, 371.14), (2002, 373.28), \n",
    "    (2003, 375.80), (2004, 377.52), (2005, 379.80), \n",
    "    (2006, 381.90), (2007, 383.79), (2008, 385.60), \n",
    "    (2009, 387.43), (2010, 389.90), (2011, 391.65), \n",
    "    (2012, 393.85), (2013, 396.52), (2014, 398.65),\n",
    "    (2015, 400.83), (2016, 404.24), (2017, 406.55), \n",
    "    (2018, 408.52), (2019, 411.44), (2020, 414.24)]\n",
    "for i in range(1,len(co2_data)): \n",
    "    conc = co2_data[i][1] #conc = every position's 2nd index\n",
    "    previous_conc = co2_data[i-1][1]\n",
    "    change = conc-previous_conc\n",
    "    if change <3:\n",
    "        continue\n",
    "    print(f'Year: {co2_data[i][0]}\\nChange in CO2 concentration: {change:.2f}ppm')"
   ]
  },
  {
   "cell_type": "code",
   "execution_count": null,
   "id": "89be1c3d-6d3b-4ec2-b6d7-d8141d4e37c6",
   "metadata": {},
   "outputs": [],
   "source": []
  }
 ],
 "metadata": {
  "kernelspec": {
   "display_name": "Python 3 (ipykernel)",
   "language": "python",
   "name": "python3"
  },
  "language_info": {
   "codemirror_mode": {
    "name": "ipython",
    "version": 3
   },
   "file_extension": ".py",
   "mimetype": "text/x-python",
   "name": "python",
   "nbconvert_exporter": "python",
   "pygments_lexer": "ipython3",
   "version": "3.12.3"
  },
  "toc": {
   "base_numbering": 1,
   "nav_menu": {},
   "number_sections": true,
   "sideBar": true,
   "skip_h1_title": false,
   "title_cell": "Table of Contents",
   "title_sidebar": "Contents",
   "toc_cell": false,
   "toc_position": {},
   "toc_section_display": true,
   "toc_window_display": false
  },
  "vscode": {
   "interpreter": {
    "hash": "31f2aee4e71d21fbe5cf8b01ff0e069b9275f58929596ceb00d14d90e3e16cd6"
   }
  }
 },
 "nbformat": 4,
 "nbformat_minor": 5
}
