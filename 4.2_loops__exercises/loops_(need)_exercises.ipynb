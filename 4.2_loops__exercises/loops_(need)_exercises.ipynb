{
 "cells": [
  {
   "cell_type": "markdown",
   "id": "1ab9b1cd-be1f-45cb-90d2-979034506aeb",
   "metadata": {},
   "source": [
    "<div style=\"text-align:left;font-size:2em\"><span style=\"font-weight:bolder;font-size:1.25em\">SP2273 | Learning Portfolio</span><br><br><span style=\"font-weight:bold;color:darkred\">Loops (Need) Exercises</span></div>"
   ]
  },
  {
   "cell_type": "markdown",
   "id": "a1d87fc9-79c5-4621-ac2d-2688d02dfa9a",
   "metadata": {},
   "source": [
    "## **Exercise 1** ##"
   ]
  },
  {
   "cell_type": "code",
   "execution_count": 23,
   "id": "1a606a7b-803f-4da5-a7ac-8985758a8717",
   "metadata": {},
   "outputs": [
    {
     "name": "stdout",
     "output_type": "stream",
     "text": [
      "0° is 32.0°F\n",
      "5° is 41.0°F\n",
      "10° is 50.0°F\n",
      "15° is 59.0°F\n",
      "20° is 68.0°F\n",
      "25° is 77.0°F\n",
      "30° is 86.0°F\n",
      "35° is 95.0°F\n",
      "40° is 104.0°F\n",
      "45° is 113.0°F\n",
      "50° is 122.0°F\n"
     ]
    }
   ],
   "source": [
    "import numpy as np\n",
    "temperatures_celsius = [0, 5, 10, 15, 20, 25,30, 35, 40, 45, 50]\n",
    "temperatures_celsius_array = np.array(temperatures_celsius)\n",
    "temperatures_fahrenheit = (temperatures_celsius_array*1.8)+32\n",
    "\n",
    "for index, c in enumerate(temperatures_celsius):\n",
    "    f = temperatures_fahrenheit[index] #looped to call out each position in temperatures_fahrenheit. we are storing each value in respective fs\n",
    "    print(f'{c}° is {f}°F')"
   ]
  },
  {
   "cell_type": "markdown",
   "id": "30c34fee-795b-45ff-bf23-79231eb636e5",
   "metadata": {},
   "source": [
    "## **Exercise 2** ##"
   ]
  },
  {
   "cell_type": "code",
   "execution_count": 24,
   "id": "9b68c076-f35a-4906-bc93-fd25d3f8c7c0",
   "metadata": {},
   "outputs": [
    {
     "name": "stdout",
     "output_type": "stream",
     "text": [
      "A1\tA2\tA3\t\n",
      "\n",
      "B1\tB2\tB3\t\n",
      "\n",
      "C1\tC2\tC3\t\n",
      "\n"
     ]
    }
   ],
   "source": [
    "for letter in ['A', 'B', 'C']:\n",
    "    for number in [1, 2, 3]:\n",
    "        print(f'{letter}{number}', end='\\t') #cycles through each number with letter A and separates the output with a tab\n",
    "    print('\\n') #new line after every combination"
   ]
  },
  {
   "cell_type": "markdown",
   "id": "6f1107c8-919e-43dd-8edc-66e627f74cae",
   "metadata": {},
   "source": [
    "#### **Task** ###"
   ]
  },
  {
   "cell_type": "code",
   "execution_count": 14,
   "id": "85e71b75-61af-4d25-aded-492418c22d1e",
   "metadata": {},
   "outputs": [
    {
     "name": "stdout",
     "output_type": "stream",
     "text": [
      "1:\t1\t2\t3\t4\t5\t\n",
      "\n",
      "2:\t2\t4\t6\t8\t10\t\n",
      "\n",
      "3:\t3\t6\t9\t12\t15\t\n",
      "\n",
      "4:\t4\t8\t12\t16\t20\t\n",
      "\n",
      "5:\t5\t10\t15\t20\t25\t\n",
      "\n"
     ]
    }
   ],
   "source": [
    "for number in range(1,6):\n",
    "    print(f'{number}:', end='\\t') #printing this here adds to the next print because they are in the same loop\n",
    "    for multiplier in [1, 2, 3, 4, 5]:\n",
    "        multiplication= number*multiplier    \n",
    "        print(f'{multiplication}', end='\\t')\n",
    "    print('\\n')"
   ]
  },
  {
   "cell_type": "code",
   "execution_count": null,
   "id": "6c925a54-50f3-449b-8edf-0dafebcf55ef",
   "metadata": {},
   "outputs": [],
   "source": [
    "#Corrections: used range(1,6)) in line 3 instead of listing the numbers, fixthe width between numbers as 4 characters apart"
   ]
  },
  {
   "cell_type": "code",
   "execution_count": 12,
   "id": "4de0410c-15e5-403a-b9e7-7f32c7d7d736",
   "metadata": {},
   "outputs": [
    {
     "name": "stdout",
     "output_type": "stream",
     "text": [
      "1:\t1   \t2   \t3   \t4   \t5   \t\n",
      "\n",
      "2:\t2   \t4   \t6   \t8   \t10  \t\n",
      "\n",
      "3:\t3   \t6   \t9   \t12  \t15  \t\n",
      "\n",
      "4:\t4   \t8   \t12  \t16  \t20  \t\n",
      "\n",
      "5:\t5   \t10  \t15  \t20  \t25  \t\n",
      "\n"
     ]
    }
   ],
   "source": [
    "for number in range(1,6):\n",
    "    print(f'{number}:', end='\\t') #printing this here adds to the next print because they are in the same loop\n",
    "    for multiplier in range(1,6): \n",
    "        multiplication= number*multiplier    \n",
    "        print(f'{multiplication:<4}', end='\\t')\n",
    "    print('\\n')"
   ]
  },
  {
   "cell_type": "code",
   "execution_count": 16,
   "id": "6a29a894-316f-48ae-90ef-8c6753d0e38f",
   "metadata": {},
   "outputs": [
    {
     "name": "stdout",
     "output_type": "stream",
     "text": [
      "1:\t1   \t2   \t3   \t4   \t5   \t2:\t2   \t4   \t6   \t8   \t10  \t3:\t3   \t6   \t9   \t12  \t15  \t4:\t4   \t8   \t12  \t16  \t20  \t5:\t5   \t10  \t15  \t20  \t25  \t"
     ]
    }
   ],
   "source": [
    "\n",
    "    "
   ]
  },
  {
   "cell_type": "markdown",
   "id": "6e3569fa-8034-45b3-b075-12f1b50126d8",
   "metadata": {},
   "source": [
    "## **Exercise 3** ##"
   ]
  },
  {
   "cell_type": "code",
   "execution_count": 4,
   "id": "18291840-08b6-45a6-af13-227ba96eb6a3",
   "metadata": {},
   "outputs": [
    {
     "name": "stdout",
     "output_type": "stream",
     "text": [
      "[0.80150955 0.65426027 0.15373223 0.77134293 0.03622495 0.66770591\n",
      " 0.25874262 0.74989522 0.21367274 0.73341149]\n",
      "[0.65740833 0.19058872 0.80024045 0.27408824 0.74928215 0.9240708\n",
      " 0.24395315 0.88735618 0.41696853 0.23852657]\n",
      "[0.75701507 0.83632948 0.84210091 0.20413925 0.30943963 0.17998576\n",
      " 0.51575012 0.11504926 0.79286212 0.57167109]\n",
      "[0.87054666 0.98414018 0.06729594 0.52415109 0.43585336 0.11594745\n",
      " 0.37191645 0.39455029 0.71628086 0.90735089]\n",
      "[0.01029656 0.36116447 0.87450961 0.91774834 0.95022226 0.08322273\n",
      " 0.31382903 0.34791642 0.85044985 0.42136085]\n",
      "[0.62565021 0.99040599 0.50924646 0.47914827 0.02054913 0.42312019\n",
      " 0.48480667 0.94679876 0.47074505 0.02377929]\n",
      "[0.12577645 0.68997965 0.03861167 0.45403598 0.68289432 0.65645555\n",
      " 0.948144   0.15213019 0.08381986 0.02609825]\n",
      "[0.08084959 0.24164543 0.43370718 0.93343224 0.81752391 0.18950505\n",
      " 0.57856989 0.55133803 0.30658363 0.67347689]\n",
      "[0.67752469 0.87060226 0.07731066 0.79177458 0.21015425 0.38294267\n",
      " 0.2251741  0.63918924 0.19219585 0.68219423]\n",
      "[0.51179259 0.54108735 0.50080737 0.05930965 0.35070083 0.96022834\n",
      " 0.78562279 0.46248052 0.49297835 0.22830647]\n"
     ]
    }
   ],
   "source": [
    "import numpy as np\n",
    "for experiment in range(1,11): #each experiment will have 10 random numbers generated, and the loop repeats from 1 to 11\n",
    "    print (np.random.rand(10)) \n"
   ]
  },
  {
   "cell_type": "code",
   "execution_count": 7,
   "id": "b8e03d0c-1e6c-4183-b37a-bda81d01af18",
   "metadata": {},
   "outputs": [
    {
     "name": "stdout",
     "output_type": "stream",
     "text": [
      "Experiment 1: No. of Heads: 5\n",
      "Experiment 2: No. of Heads: 2\n",
      "Experiment 3: No. of Heads: 4\n",
      "Experiment 4: No. of Heads: 5\n",
      "Experiment 5: No. of Heads: 5\n",
      "Experiment 6: No. of Heads: 5\n",
      "Experiment 7: No. of Heads: 2\n",
      "Experiment 8: No. of Heads: 7\n",
      "Experiment 9: No. of Heads: 3\n",
      "Experiment 10: No. of Heads: 3\n"
     ]
    }
   ],
   "source": [
    "import numpy as np\n",
    "\n",
    "for experiment in range (1,11): #no. of experiments\n",
    "    \n",
    "    flips= np.random.rand(10) #each experiment will generate 10 random numbers\n",
    "    heads = 0 \n",
    "    for i in range(1,10): #such that for each flip  \n",
    "    \n",
    "        if flips[i] > 0.5: #if the elements (denoted by i) are more than 0.5, \n",
    "        \n",
    "            heads = heads +1 #counts heads\n",
    "    print(f'Experiment {experiment}: No. of Heads: {heads}' )\n",
    "     \n",
    "        \n",
    "\n",
    "    "
   ]
  },
  {
   "cell_type": "code",
   "execution_count": 19,
   "id": "18b61549-ddd6-4455-9ac9-756f00a30d42",
   "metadata": {},
   "outputs": [],
   "source": [
    "#Corrections: removed indexing in line 7 so that code becomes more versatile to change, added alighnment in line 12"
   ]
  },
  {
   "cell_type": "code",
   "execution_count": 18,
   "id": "bb002291-1550-4b43-871c-e56ff20bee93",
   "metadata": {},
   "outputs": [
    {
     "name": "stdout",
     "output_type": "stream",
     "text": [
      "Experiment  1: No. of Heads = 4 \n",
      "Experiment  2: No. of Heads = 8 \n",
      "Experiment  3: No. of Heads = 6 \n",
      "Experiment  4: No. of Heads = 5 \n",
      "Experiment  5: No. of Heads = 2 \n",
      "Experiment  6: No. of Heads = 6 \n",
      "Experiment  7: No. of Heads = 5 \n",
      "Experiment  8: No. of Heads = 6 \n",
      "Experiment  9: No. of Heads = 4 \n",
      "Experiment 10: No. of Heads = 8 \n"
     ]
    }
   ],
   "source": [
    "import numpy as np\n",
    "\n",
    "for experiment in range (1,11): #no. of experiments\n",
    "    \n",
    "    flips= np.random.rand(10) #each experiment will generate 10 random numbers\n",
    "    heads = 0 \n",
    "    for flip in flips: #such that for each flip  \n",
    "    \n",
    "        if flip > 0.5: #if the flip is are more than 0.5, \n",
    "        \n",
    "            heads = heads +1 #counts heads\n",
    "    print(f'Experiment {experiment:>2}: No. of Heads = {heads:<2}' )\n",
    "     "
   ]
  },
  {
   "cell_type": "code",
   "execution_count": null,
   "id": "3603e470-cb7e-47dc-9df7-70c07dc8c3d2",
   "metadata": {},
   "outputs": [],
   "source": []
  }
 ],
 "metadata": {
  "kernelspec": {
   "display_name": "Python 3 (ipykernel)",
   "language": "python",
   "name": "python3"
  },
  "language_info": {
   "codemirror_mode": {
    "name": "ipython",
    "version": 3
   },
   "file_extension": ".py",
   "mimetype": "text/x-python",
   "name": "python",
   "nbconvert_exporter": "python",
   "pygments_lexer": "ipython3",
   "version": "3.12.3"
  },
  "toc": {
   "base_numbering": 1,
   "nav_menu": {},
   "number_sections": true,
   "sideBar": true,
   "skip_h1_title": false,
   "title_cell": "Table of Contents",
   "title_sidebar": "Contents",
   "toc_cell": false,
   "toc_position": {},
   "toc_section_display": true,
   "toc_window_display": false
  },
  "vscode": {
   "interpreter": {
    "hash": "31f2aee4e71d21fbe5cf8b01ff0e069b9275f58929596ceb00d14d90e3e16cd6"
   }
  }
 },
 "nbformat": 4,
 "nbformat_minor": 5
}
