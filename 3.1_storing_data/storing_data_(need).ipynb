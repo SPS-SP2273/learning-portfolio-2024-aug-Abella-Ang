{
 "cells": [
  {
   "attachments": {},
   "cell_type": "markdown",
   "id": "123456",
   "metadata": {},
   "source": [
    "<div style=\"text-align:left;font-size:2em\"><span style=\"font-weight:bolder;font-size:1.25em\">SP2273 | Learning Portfolio</span><br><br><span style=\"font-weight:bold;color:darkred\">Storing Data (Need)</span></div>"
   ]
  },
  {
   "attachments": {},
   "cell_type": "markdown",
   "id": "f3a9b8d5",
   "metadata": {},
   "source": [
    "# What to expect in this chapter"
   ]
  },
  {
   "attachments": {},
   "cell_type": "markdown",
   "id": "37e95373",
   "metadata": {},
   "source": [
    "# 1 Lists, Arrays & Dictionaries"
   ]
  },
  {
   "cell_type": "code",
   "execution_count": null,
   "id": "c2140473-d4fa-4aaf-95d9-2e3f5d4a2778",
   "metadata": {},
   "outputs": [],
   "source": [
    "#3 ways to store data (list, arrays and dictionary) depends on the users comfort\n",
    "#Its always python lists and numpy arrays\n",
    "#Python uses indexes (positions) to locate something in a list ie [a,b,c,d,e] corresponds to [0,1,2,3,4]\n"
   ]
  },
  {
   "cell_type": "code",
   "execution_count": 3,
   "id": "7c9b7c8b-651a-4842-abcd-efe4988b2108",
   "metadata": {},
   "outputs": [],
   "source": [
    "import numpy as np\n",
    "#this is a variable stored in a numpy array\n",
    "variable = np.array(['index0','index1','index3']) # np.array() and [what's inside the array]"
   ]
  },
  {
   "cell_type": "code",
   "execution_count": 1,
   "id": "eb639470-b31d-42ba-85ca-5b31aebba9b1",
   "metadata": {},
   "outputs": [],
   "source": [
    "import numpy as np"
   ]
  },
  {
   "cell_type": "code",
   "execution_count": 5,
   "id": "d1f7fd5b-3f98-4f5c-94d9-ef2bdfbb2561",
   "metadata": {},
   "outputs": [],
   "source": [
    "np_super_names = np.array([\"Black Widow\", \"Iron Man\", \"Doctor Strange\"])\n",
    "np_real_names = np.array([\"Natasha Romanoff\", \"Tony Stark\", \"Stephen Strange\"])"
   ]
  },
  {
   "cell_type": "code",
   "execution_count": 8,
   "id": "1dad04c7-aa5f-46c2-a911-632da2ee7706",
   "metadata": {},
   "outputs": [
    {
     "data": {
      "text/plain": [
       "np.str_('Tony Stark')"
      ]
     },
     "execution_count": 8,
     "metadata": {},
     "output_type": "execute_result"
    }
   ],
   "source": [
    "np_real_names [1] "
   ]
  },
  {
   "cell_type": "code",
   "execution_count": 6,
   "id": "5ef8c77b-614b-4a21-97b3-56dbb6428645",
   "metadata": {},
   "outputs": [
    {
     "data": {
      "text/plain": [
       "np.str_('Stephen Strange')"
      ]
     },
     "execution_count": 6,
     "metadata": {},
     "output_type": "execute_result"
    }
   ],
   "source": [
    "#reverse indexing counts from the back of the list: negative 1 gives the last element\n",
    "np_real_names [-1] "
   ]
  },
  {
   "attachments": {},
   "cell_type": "markdown",
   "id": "065293b8",
   "metadata": {},
   "source": [
    "## 1.1 Let’s compare"
   ]
  },
  {
   "attachments": {},
   "cell_type": "markdown",
   "id": "c270d90d",
   "metadata": {},
   "source": [
    "## 1.2 Accessing data from a list (or array)"
   ]
  },
  {
   "attachments": {},
   "cell_type": "markdown",
   "id": "2559526c",
   "metadata": {},
   "source": [
    "## 1.3 Accessing data from a dictionary"
   ]
  },
  {
   "cell_type": "code",
   "execution_count": 8,
   "id": "cf0b46d9-929b-46e3-8dad-4c049ecaebf7",
   "metadata": {},
   "outputs": [],
   "source": [
    "#dictionary uses keys and values instead of indexing\n",
    "superhero_info = {\n",
    "    \"Natasha Romanoff\": \"Black Widow\",\n",
    "    \"Tony Stark\": \"Iron Man\",\n",
    "    \"Stephen Strange\": \"Doctor Strange\"\n",
    "}"
   ]
  },
  {
   "cell_type": "code",
   "execution_count": 9,
   "id": "7446d2c3-897a-4c4d-b1ad-bb7a5be4f523",
   "metadata": {},
   "outputs": [
    {
     "data": {
      "text/plain": [
       "'Black Widow'"
      ]
     },
     "execution_count": 9,
     "metadata": {},
     "output_type": "execute_result"
    }
   ],
   "source": [
    "superhero_info['Natasha Romanoff'] #accessing the value using the key (like a lock and key)"
   ]
  },
  {
   "attachments": {},
   "cell_type": "markdown",
   "id": "b5061d51",
   "metadata": {},
   "source": [
    "## 1.4 Higher dimensional lists"
   ]
  },
  {
   "cell_type": "code",
   "execution_count": 12,
   "id": "46c61a0c-6229-4795-865e-8feadeb39b2b",
   "metadata": {},
   "outputs": [],
   "source": [
    "#Dictionary uses : to separate the information\n",
    "superhero_info = {\n",
    "    \"Natasha Romanoff\": \"Black Widow\",\n",
    "    \"Tony Stark\": \"Iron Man\",\n",
    "    \"Stephen Strange\": \"Doctor Strange\"\n",
    "}                  "
   ]
  },
  {
   "cell_type": "code",
   "execution_count": 13,
   "id": "a38e3d60-b1be-4f9e-a0d1-32e40259a7c2",
   "metadata": {},
   "outputs": [],
   "source": [
    "#2d list uses brackets in a brackets\n",
    "py_superhero_info = [['Natasha Romanoff', 'Black Widow'],\n",
    "                     ['Tony Stark', 'Iron Man'],\n",
    "                     ['Stephen Strange', 'Doctor Strange']]"
   ]
  },
  {
   "attachments": {},
   "cell_type": "markdown",
   "id": "eeb87330",
   "metadata": {},
   "source": [
    "# 2 Lists vs. Arrays"
   ]
  },
  {
   "attachments": {},
   "cell_type": "markdown",
   "id": "b8aa63f6",
   "metadata": {},
   "source": [
    "## 2.1 Size"
   ]
  },
  {
   "cell_type": "code",
   "execution_count": 14,
   "id": "f11c88ee-6f6b-4abd-bef0-8fd7928b872e",
   "metadata": {},
   "outputs": [],
   "source": [
    "py_list_2d = [[1, \"A\"], [2, \"B\"], [3, \"C\"], [4, \"D\"],\n",
    "              [5, \"E\"], [6, \"F\"], [7, \"G\"], [8, \"H\"],\n",
    "              [9, \"I\"], [10, \"J\"]]\n",
    "\n",
    "np_array_2d = np.array(py_list_2d)      # Reusing the Python list \n",
    "                                        # to create a NEW\n",
    "                                        # NumPy array"
   ]
  },
  {
   "cell_type": "code",
   "execution_count": 20,
   "id": "941319f0-de87-456c-bfab-0d30cdf12a59",
   "metadata": {},
   "outputs": [
    {
     "data": {
      "text/plain": [
       "10"
      ]
     },
     "execution_count": 20,
     "metadata": {},
     "output_type": "execute_result"
    }
   ],
   "source": [
    "#len() finds the size of the list/array\n",
    "len(py_list_2d) \n",
    "#the output will show that there are 10 rows, but in actual fact there are 20 elements\""
   ]
  },
  {
   "cell_type": "code",
   "execution_count": 23,
   "id": "e8f02566-da44-4841-a23b-e6b706a94334",
   "metadata": {
    "scrolled": true
   },
   "outputs": [
    {
     "ename": "AttributeError",
     "evalue": "'list' object has no attribute 'shape'",
     "output_type": "error",
     "traceback": [
      "\u001b[1;31m---------------------------------------------------------------------------\u001b[0m",
      "\u001b[1;31mAttributeError\u001b[0m                            Traceback (most recent call last)",
      "Cell \u001b[1;32mIn[23], line 1\u001b[0m\n\u001b[1;32m----> 1\u001b[0m \u001b[43mpy_list_2d\u001b[49m\u001b[38;5;241;43m.\u001b[39;49m\u001b[43mshape\u001b[49m \u001b[38;5;66;03m#there is no such attribute in lists\u001b[39;00m\n",
      "\u001b[1;31mAttributeError\u001b[0m: 'list' object has no attribute 'shape'"
     ]
    }
   ],
   "source": [
    "py_list_2d.shape #there is no such attribute in lists"
   ]
  },
  {
   "cell_type": "code",
   "execution_count": 17,
   "id": "568026a2-cafb-4e76-ad9b-e470187fe2d1",
   "metadata": {
    "scrolled": true
   },
   "outputs": [
    {
     "data": {
      "text/plain": [
       "10"
      ]
     },
     "execution_count": 17,
     "metadata": {},
     "output_type": "execute_result"
    }
   ],
   "source": [
    "len(np_array_2d) "
   ]
  },
  {
   "cell_type": "code",
   "execution_count": 19,
   "id": "2127b36f-5072-4b08-8fc0-2bbe2873820c",
   "metadata": {},
   "outputs": [
    {
     "data": {
      "text/plain": [
       "(10, 2)"
      ]
     },
     "execution_count": 19,
     "metadata": {},
     "output_type": "execute_result"
    }
   ],
   "source": [
    "np_array_2d.shape #there are no brackets after shape because shape is an attribute and not a function"
   ]
  },
  {
   "cell_type": "code",
   "execution_count": 18,
   "id": "144c3e15-2ea4-4088-8e17-42bc8af27f05",
   "metadata": {},
   "outputs": [
    {
     "data": {
      "text/plain": [
       "(10, 2)"
      ]
     },
     "execution_count": 18,
     "metadata": {},
     "output_type": "execute_result"
    }
   ],
   "source": [
    "len(np_array_2d) \n",
    "np_array_2d.shape"
   ]
  },
  {
   "cell_type": "code",
   "execution_count": 17,
   "id": "f95caa61-0b78-49df-a469-b84fd5d5098b",
   "metadata": {},
   "outputs": [
    {
     "data": {
      "text/plain": [
       "10"
      ]
     },
     "execution_count": 17,
     "metadata": {},
     "output_type": "execute_result"
    }
   ],
   "source": [
    "len(py_list_2d) #len asks for the size of the list but python lists can only determine the 1d size (row)\n",
    "#2d lists have rows and columns like a table(the list above has 10 rows and 2 columns and therefore 20 \"objects\""
   ]
  },
  {
   "attachments": {},
   "cell_type": "markdown",
   "id": "987c150f",
   "metadata": {},
   "source": [
    "## 2.2 Arrays are fussy about type"
   ]
  },
  {
   "cell_type": "code",
   "execution_count": 24,
   "id": "860f5ff7-a70e-4733-8e00-9c306c693b33",
   "metadata": {},
   "outputs": [],
   "source": [
    "#notice how a list allows for integers but numpy is more fussy about types\n",
    "#all numpy arrays must have the same type"
   ]
  },
  {
   "cell_type": "code",
   "execution_count": 26,
   "id": "1bd86abf-3414-42ab-8972-443ea0093ecd",
   "metadata": {},
   "outputs": [],
   "source": [
    "py_list = [1, 1.5, 'A']\n",
    "np_array = np.array(py_list)"
   ]
  },
  {
   "cell_type": "code",
   "execution_count": 27,
   "id": "c27499c8-8cf8-4f86-8b45-7b54565cace5",
   "metadata": {},
   "outputs": [
    {
     "data": {
      "text/plain": [
       "[1, 1.5, 'A']"
      ]
     },
     "execution_count": 27,
     "metadata": {},
     "output_type": "execute_result"
    }
   ],
   "source": [
    "py_list #calling out the elements in the python list will give you the elements just fine\n"
   ]
  },
  {
   "cell_type": "code",
   "execution_count": 26,
   "id": "44e71f1a-ef76-4f4b-be4c-babc321b10a0",
   "metadata": {},
   "outputs": [
    {
     "data": {
      "text/plain": [
       "array(['1', '1.5', 'A'], dtype='<U32')"
      ]
     },
     "execution_count": 26,
     "metadata": {},
     "output_type": "execute_result"
    }
   ],
   "source": [
    "np_array #calling out the elements in the array. dtype='<U32' refers to the cata type in the array. this just ensures that each element in the string can be stored such that there is enough space for 32 characters"
   ]
  },
  {
   "cell_type": "code",
   "execution_count": 16,
   "id": "0a3400f5-d59e-4015-93bd-116f658fb5a3",
   "metadata": {},
   "outputs": [
    {
     "data": {
      "text/plain": [
       "[[1, 'A'],\n",
       " [2, 'B'],\n",
       " [3, 'C'],\n",
       " [4, 'D'],\n",
       " [5, 'E'],\n",
       " [6, 'F'],\n",
       " [7, 'G'],\n",
       " [8, 'H'],\n",
       " [9, 'I'],\n",
       " [10, 'J']]"
      ]
     },
     "execution_count": 16,
     "metadata": {},
     "output_type": "execute_result"
    }
   ],
   "source": [
    "#just like how you can convert and int to a float, you can convert a list to an array\n",
    "\n",
    "py_list_2d = [[1, \"A\"], [2, \"B\"], [3, \"C\"], [4, \"D\"],\n",
    "              [5, \"E\"], [6, \"F\"], [7, \"G\"], [8, \"H\"],\n",
    "              [9, \"I\"], [10, \"J\"]]\n",
    "\n",
    "py_list_2d"
   ]
  },
  {
   "attachments": {},
   "cell_type": "markdown",
   "id": "9f16c165",
   "metadata": {},
   "source": [
    "## 2.3 Adding a number"
   ]
  },
  {
   "cell_type": "code",
   "execution_count": 28,
   "id": "5b93807d-22a2-4478-905c-0b1d5ab2847b",
   "metadata": {},
   "outputs": [],
   "source": [
    "py_list = [1, 2, 3, 4, 5]\n",
    "np_array = np.array(py_list)         # Reusing the Python list\n",
    "                                     # to create a NEW\n",
    "                                     # NumPy array"
   ]
  },
  {
   "cell_type": "code",
   "execution_count": 31,
   "id": "84b84bc7-0e19-43c6-9f18-c3b48b375338",
   "metadata": {},
   "outputs": [
    {
     "ename": "TypeError",
     "evalue": "can only concatenate list (not \"int\") to list",
     "output_type": "error",
     "traceback": [
      "\u001b[1;31m---------------------------------------------------------------------------\u001b[0m",
      "\u001b[1;31mTypeError\u001b[0m                                 Traceback (most recent call last)",
      "Cell \u001b[1;32mIn[31], line 1\u001b[0m\n\u001b[1;32m----> 1\u001b[0m \u001b[43mpy_list\u001b[49m\u001b[38;5;241;43m+\u001b[39;49m\u001b[38;5;241;43m10\u001b[39;49m \u001b[38;5;66;03m#doesnt do anything (python is confused) this is different from adding 10 to the list\u001b[39;00m\n",
      "\u001b[1;31mTypeError\u001b[0m: can only concatenate list (not \"int\") to list"
     ]
    }
   ],
   "source": [
    "py_list+10 #doesnt do anything (python is confused) this is different from adding 10 to the list"
   ]
  },
  {
   "cell_type": "code",
   "execution_count": 29,
   "id": "ae6fbe85-a06b-4f05-ab2f-39e98e259870",
   "metadata": {},
   "outputs": [
    {
     "data": {
      "text/plain": [
       "array([11, 12, 13, 14, 15])"
      ]
     },
     "execution_count": 29,
     "metadata": {},
     "output_type": "execute_result"
    }
   ],
   "source": [
    "np_array+10 #understands to add 10 to every position"
   ]
  },
  {
   "attachments": {},
   "cell_type": "markdown",
   "id": "877f6586",
   "metadata": {},
   "source": [
    "## 2.4 Adding another list"
   ]
  },
  {
   "attachments": {},
   "cell_type": "markdown",
   "id": "40e74bad",
   "metadata": {},
   "source": [
    "## 2.5 Multiplying by a Number"
   ]
  },
  {
   "cell_type": "code",
   "execution_count": 34,
   "id": "36b7099b-bd04-4ed1-979f-b5565774c01a",
   "metadata": {},
   "outputs": [
    {
     "data": {
      "text/plain": [
       "[1,\n",
       " 2,\n",
       " 3,\n",
       " 4,\n",
       " 5,\n",
       " 1,\n",
       " 2,\n",
       " 3,\n",
       " 4,\n",
       " 5,\n",
       " 1,\n",
       " 2,\n",
       " 3,\n",
       " 4,\n",
       " 5,\n",
       " 1,\n",
       " 2,\n",
       " 3,\n",
       " 4,\n",
       " 5,\n",
       " 1,\n",
       " 2,\n",
       " 3,\n",
       " 4,\n",
       " 5,\n",
       " 1,\n",
       " 2,\n",
       " 3,\n",
       " 4,\n",
       " 5,\n",
       " 1,\n",
       " 2,\n",
       " 3,\n",
       " 4,\n",
       " 5,\n",
       " 1,\n",
       " 2,\n",
       " 3,\n",
       " 4,\n",
       " 5,\n",
       " 1,\n",
       " 2,\n",
       " 3,\n",
       " 4,\n",
       " 5,\n",
       " 1,\n",
       " 2,\n",
       " 3,\n",
       " 4,\n",
       " 5]"
      ]
     },
     "execution_count": 34,
     "metadata": {},
     "output_type": "execute_result"
    }
   ],
   "source": [
    "py_list*10 #it just slaps in the list 10 times"
   ]
  },
  {
   "cell_type": "code",
   "execution_count": 35,
   "id": "72a63bfa-1627-43a6-993f-500bbdc0ea5b",
   "metadata": {},
   "outputs": [
    {
     "data": {
      "text/plain": [
       "array([10, 20, 30, 40, 50])"
      ]
     },
     "execution_count": 35,
     "metadata": {},
     "output_type": "execute_result"
    }
   ],
   "source": [
    "np_array*10 #actually multiplies the number in each list by 10\n"
   ]
  },
  {
   "attachments": {},
   "cell_type": "markdown",
   "id": "71752bd8",
   "metadata": {},
   "source": [
    "## 2.6 Squaring"
   ]
  },
  {
   "cell_type": "code",
   "execution_count": 37,
   "id": "e12016d8-cc34-43be-a47b-9921e87b863c",
   "metadata": {},
   "outputs": [
    {
     "ename": "TypeError",
     "evalue": "unsupported operand type(s) for ** or pow(): 'list' and 'int'",
     "output_type": "error",
     "traceback": [
      "\u001b[1;31m---------------------------------------------------------------------------\u001b[0m",
      "\u001b[1;31mTypeError\u001b[0m                                 Traceback (most recent call last)",
      "Cell \u001b[1;32mIn[37], line 1\u001b[0m\n\u001b[1;32m----> 1\u001b[0m \u001b[43mpy_list\u001b[49m\u001b[38;5;241;43m*\u001b[39;49m\u001b[38;5;241;43m*\u001b[39;49m\u001b[38;5;241;43m2\u001b[39;49m \u001b[38;5;66;03m#lists does math to the list as a whole\u001b[39;00m\n",
      "\u001b[1;31mTypeError\u001b[0m: unsupported operand type(s) for ** or pow(): 'list' and 'int'"
     ]
    }
   ],
   "source": [
    "py_list**2 #lists does math to the list as a whole"
   ]
  },
  {
   "cell_type": "code",
   "execution_count": 36,
   "id": "a7270fc1-f69c-4870-9cd0-39fb2a9bf14a",
   "metadata": {},
   "outputs": [
    {
     "data": {
      "text/plain": [
       "array([ 1,  4,  9, 16, 25])"
      ]
     },
     "execution_count": 36,
     "metadata": {},
     "output_type": "execute_result"
    }
   ],
   "source": [
    "np_array**2 #array does math to each element (element wise operation)"
   ]
  },
  {
   "attachments": {},
   "cell_type": "markdown",
   "id": "e0d91e45",
   "metadata": {},
   "source": [
    "## 2.7 Asking questions"
   ]
  },
  {
   "cell_type": "code",
   "execution_count": null,
   "id": "5b99ea0d-b795-4140-9f38-7403030ff9bd",
   "metadata": {},
   "outputs": [],
   "source": [
    "py_list = [1, 2, 3, 4, 5]\n",
    "np_array = np.array(py_list)         "
   ]
  },
  {
   "cell_type": "code",
   "execution_count": 38,
   "id": "7a6eae77-3df0-4833-9f24-5cfb6e3fed2d",
   "metadata": {},
   "outputs": [
    {
     "data": {
      "text/plain": [
       "False"
      ]
     },
     "execution_count": 38,
     "metadata": {},
     "output_type": "execute_result"
    }
   ],
   "source": [
    "py_list == 3     #is the list equals to 3?"
   ]
  },
  {
   "cell_type": "code",
   "execution_count": 40,
   "id": "13dbfda3-eae2-450b-9997-21fca1a6b504",
   "metadata": {},
   "outputs": [
    {
     "data": {
      "text/plain": [
       "array([False, False,  True, False, False])"
      ]
     },
     "execution_count": 40,
     "metadata": {},
     "output_type": "execute_result"
    }
   ],
   "source": [
    "np_array == 3  #are the elements equals to 3? (looks at each element)\n"
   ]
  },
  {
   "cell_type": "code",
   "execution_count": 41,
   "id": "25d20e13-ccf9-4083-8d0d-6695ec1d30d8",
   "metadata": {},
   "outputs": [
    {
     "data": {
      "text/plain": [
       "array([False, False, False,  True,  True])"
      ]
     },
     "execution_count": 41,
     "metadata": {},
     "output_type": "execute_result"
    }
   ],
   "source": [
    "np_array > 3  #are the elements more than 3 (looks at each element)"
   ]
  },
  {
   "cell_type": "code",
   "execution_count": 42,
   "id": "8aea275a-faee-4050-9554-dad8760e0759",
   "metadata": {},
   "outputs": [],
   "source": [
    "# arrays are better at math operations"
   ]
  },
  {
   "attachments": {},
   "cell_type": "markdown",
   "id": "48e7cd85",
   "metadata": {},
   "source": [
    "## 2.8 Mathematics"
   ]
  },
  {
   "cell_type": "code",
   "execution_count": 29,
   "id": "43553ad0-2d0e-4bd7-b024-2f1db991d856",
   "metadata": {},
   "outputs": [],
   "source": [
    "py_list = [1, 2, 3, 4, 5]\n",
    "np_array = np.array(py_list)"
   ]
  },
  {
   "cell_type": "code",
   "execution_count": 30,
   "id": "faf375f8-7cc1-4af9-bf69-66c01a3003a0",
   "metadata": {},
   "outputs": [
    {
     "data": {
      "text/plain": [
       "1"
      ]
     },
     "execution_count": 30,
     "metadata": {},
     "output_type": "execute_result"
    }
   ],
   "source": [
    "sum(py_list)     # sum() is a base Python function\n",
    "max(py_list)     # max() is a base Python function\n",
    "min(py_list)     # min() is a base Python function"
   ]
  },
  {
   "cell_type": "code",
   "execution_count": 48,
   "id": "357ec382-15b8-4023-8223-9fea857d11f0",
   "metadata": {},
   "outputs": [],
   "source": [
    "#notice how jupyter only shows the last result. To display all results you have to print all results"
   ]
  },
  {
   "cell_type": "code",
   "execution_count": 47,
   "id": "6c61aa51-1c3a-4bab-aac4-b50e781294ba",
   "metadata": {},
   "outputs": [
    {
     "name": "stdout",
     "output_type": "stream",
     "text": [
      "15\n",
      "5\n",
      "1\n"
     ]
    }
   ],
   "source": [
    "print(sum(py_list))   #hold ctr and click where you want to edit to edit things simultaneously\n",
    "print(max(py_list))  \n",
    "print(min(py_list))   "
   ]
  },
  {
   "cell_type": "code",
   "execution_count": 32,
   "id": "fa32a7d7-adf3-4c57-9e74-933ad22b7589",
   "metadata": {},
   "outputs": [
    {
     "data": {
      "text/plain": [
       "np.int64(15)"
      ]
     },
     "execution_count": 32,
     "metadata": {},
     "output_type": "execute_result"
    }
   ],
   "source": [
    "np_array.sum()\n"
   ]
  },
  {
   "cell_type": "code",
   "execution_count": 33,
   "id": "c85e78d4-e4bd-4f26-a022-5c72ec42dd56",
   "metadata": {},
   "outputs": [
    {
     "ename": "TypeError",
     "evalue": "'builtin_function_or_method' object is not iterable",
     "output_type": "error",
     "traceback": [
      "\u001b[1;31m---------------------------------------------------------------------------\u001b[0m",
      "\u001b[1;31mTypeError\u001b[0m                                 Traceback (most recent call last)",
      "Cell \u001b[1;32mIn[33], line 1\u001b[0m\n\u001b[1;32m----> 1\u001b[0m \u001b[38;5;28;43msum\u001b[39;49m\u001b[43m(\u001b[49m\u001b[43mnp\u001b[49m\u001b[38;5;241;43m.\u001b[39;49m\u001b[43marray\u001b[49m\u001b[43m)\u001b[49m\n",
      "\u001b[1;31mTypeError\u001b[0m: 'builtin_function_or_method' object is not iterable"
     ]
    }
   ],
   "source": [
    "sum(np.array)"
   ]
  },
  {
   "cell_type": "code",
   "execution_count": 54,
   "id": "149a14ce-fa77-4dd3-b522-2a8b5e7d3294",
   "metadata": {},
   "outputs": [],
   "source": [
    "#python cannot find the sum of a 2d list\n",
    "py_list = [[1,1],[2,1],[3,1],[4,1],[5,1]]\n"
   ]
  },
  {
   "cell_type": "code",
   "execution_count": 55,
   "id": "4c758da0-7b62-4d57-bef4-58cd97219a70",
   "metadata": {},
   "outputs": [
    {
     "ename": "TypeError",
     "evalue": "unsupported operand type(s) for +: 'int' and 'list'",
     "output_type": "error",
     "traceback": [
      "\u001b[1;31m---------------------------------------------------------------------------\u001b[0m",
      "\u001b[1;31mTypeError\u001b[0m                                 Traceback (most recent call last)",
      "Cell \u001b[1;32mIn[55], line 1\u001b[0m\n\u001b[1;32m----> 1\u001b[0m \u001b[38;5;28;43msum\u001b[39;49m\u001b[43m(\u001b[49m\u001b[43mpy_list\u001b[49m\u001b[43m)\u001b[49m\n",
      "\u001b[1;31mTypeError\u001b[0m: unsupported operand type(s) for +: 'int' and 'list'"
     ]
    }
   ],
   "source": [
    "sum(py_list)"
   ]
  },
  {
   "cell_type": "code",
   "execution_count": 57,
   "id": "bb8795de-c22e-4197-9077-4c49c90f3e75",
   "metadata": {},
   "outputs": [],
   "source": [
    "np_array=np.array(py_list)"
   ]
  },
  {
   "cell_type": "code",
   "execution_count": 59,
   "id": "b861fbc9-fafe-4d6a-a871-8572a110070d",
   "metadata": {},
   "outputs": [],
   "source": [
    "#you can specify which rows/columns to add in numpy. "
   ]
  },
  {
   "cell_type": "code",
   "execution_count": 58,
   "id": "41381185-5769-45e5-a9f4-502cab508e7f",
   "metadata": {},
   "outputs": [
    {
     "data": {
      "text/plain": [
       "array([2, 3, 4, 5, 6])"
      ]
     },
     "execution_count": 58,
     "metadata": {},
     "output_type": "execute_result"
    }
   ],
   "source": [
    "np_array.sum(axis=1)"
   ]
  },
  {
   "cell_type": "code",
   "execution_count": 49,
   "id": "1e762578-fd4b-4e1a-b366-63b2f17967c9",
   "metadata": {},
   "outputs": [
    {
     "data": {
      "text/plain": [
       "np.float64(1.4142135623730951)"
      ]
     },
     "execution_count": 49,
     "metadata": {},
     "output_type": "execute_result"
    }
   ],
   "source": [
    "np_array.sum()\n",
    "np_array.max()\n",
    "np_array.min()\n",
    "np_array.mean()\n",
    "np_array.std()"
   ]
  },
  {
   "attachments": {},
   "cell_type": "markdown",
   "id": "54d5c1d7",
   "metadata": {},
   "source": [
    "## Footnotes"
   ]
  }
 ],
 "metadata": {
  "kernelspec": {
   "display_name": "Python 3 (ipykernel)",
   "language": "python",
   "name": "python3"
  },
  "language_info": {
   "codemirror_mode": {
    "name": "ipython",
    "version": 3
   },
   "file_extension": ".py",
   "mimetype": "text/x-python",
   "name": "python",
   "nbconvert_exporter": "python",
   "pygments_lexer": "ipython3",
   "version": "3.12.3"
  },
  "toc": {
   "base_numbering": 1,
   "nav_menu": {},
   "number_sections": true,
   "sideBar": true,
   "skip_h1_title": false,
   "title_cell": "Table of Contents",
   "title_sidebar": "Contents",
   "toc_cell": false,
   "toc_position": {},
   "toc_section_display": true,
   "toc_window_display": false
  },
  "vscode": {
   "interpreter": {
    "hash": "31f2aee4e71d21fbe5cf8b01ff0e069b9275f58929596ceb00d14d90e3e16cd6"
   }
  }
 },
 "nbformat": 4,
 "nbformat_minor": 5
}
