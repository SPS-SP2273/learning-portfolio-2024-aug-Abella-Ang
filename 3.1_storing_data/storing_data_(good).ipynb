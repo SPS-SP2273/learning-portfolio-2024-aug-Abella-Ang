{
 "cells": [
  {
   "attachments": {},
   "cell_type": "markdown",
   "id": "123456",
   "metadata": {},
   "source": [
    "<div style=\"text-align:left;font-size:2em\"><span style=\"font-weight:bolder;font-size:1.25em\">SP2273 | Learning Portfolio</span><br><br><span style=\"font-weight:bold;color:darkred\">Storing Data (Good)</span></div>"
   ]
  },
  {
   "attachments": {},
   "cell_type": "markdown",
   "id": "1c225cb9",
   "metadata": {},
   "source": [
    "# What to expect in this chapter"
   ]
  },
  {
   "attachments": {},
   "cell_type": "markdown",
   "id": "e478f991",
   "metadata": {},
   "source": [
    "# 1 Subsetting: Indexing and Slicing"
   ]
  },
  {
   "cell_type": "code",
   "execution_count": 3,
   "id": "ee4a4dc8-460c-4bbb-a883-5fd446b371b8",
   "metadata": {},
   "outputs": [],
   "source": [
    "import numpy as np#every notebook has its own kernal and therefore you have to import numpy again"
   ]
  },
  {
   "cell_type": "code",
   "execution_count": 4,
   "id": "132aa0be-f99b-48d7-8ff3-74ed63ac51de",
   "metadata": {},
   "outputs": [],
   "source": [
    "py_list=[\"a1\", \"b2\", \"c3\", \"d4\", \"e5\",\n",
    "         \"f6\", \"g7\", \"h8\", \"i9\", \"j10\"]\n",
    "np_array=np.array(py_list)\n",
    "\n",
    "# Pick one\n",
    "x = py_list  # OR\n",
    "x = np_array"
   ]
  },
  {
   "cell_type": "code",
   "execution_count": 5,
   "id": "5889b17d-e156-457f-8600-8951268562e1",
   "metadata": {},
   "outputs": [
    {
     "data": {
      "text/plain": [
       "np.str_('a1')"
      ]
     },
     "execution_count": 5,
     "metadata": {},
     "output_type": "execute_result"
    }
   ],
   "source": [
    "#indexing locates 1 element\n",
    "x[0]"
   ]
  },
  {
   "cell_type": "code",
   "execution_count": 8,
   "id": "e7a1ce2e-df3d-47e7-87fd-5f6ebda0de9a",
   "metadata": {},
   "outputs": [
    {
     "data": {
      "text/plain": [
       "array(['c3', 'd4'], dtype='<U3')"
      ]
     },
     "execution_count": 8,
     "metadata": {},
     "output_type": "execute_result"
    }
   ],
   "source": [
    "#splicing selects a range of elements\n",
    "x[2:4] #slice starts from 2 and ends at 4-1 = 3\n",
    "        #list the elements c3, d4 because the close bracket will always exclude the last element\n",
    "        #4-2 = 2, meaning that you will get 2 elements\n"
   ]
  },
  {
   "cell_type": "code",
   "execution_count": 10,
   "id": "14d1c29a-8585-4320-b6dc-5b7d7e087c39",
   "metadata": {},
   "outputs": [
    {
     "data": {
      "text/plain": [
       "array(['b2', 'd4', 'f6'], dtype='<U3')"
      ]
     },
     "execution_count": 10,
     "metadata": {},
     "output_type": "execute_result"
    }
   ],
   "source": [
    "x[1:6:2] #slice starts at 1, ends at 5, and the elements are listed in every 2 steps"
   ]
  },
  {
   "attachments": {},
   "cell_type": "markdown",
   "id": "7b227cc4",
   "metadata": {},
   "source": [
    "## 1.1 Lists & Arrays in 1D | Subsetting & Indexing"
   ]
  },
  {
   "attachments": {},
   "cell_type": "markdown",
   "id": "88b3909a",
   "metadata": {},
   "source": [
    "## 1.2 Arrays only | Subsetting by masking"
   ]
  },
  {
   "cell_type": "code",
   "execution_count": 11,
   "id": "698d3077-9a59-466b-aed4-6d45d1c63246",
   "metadata": {},
   "outputs": [
    {
     "data": {
      "text/plain": [
       "array([4, 5, 6, 7])"
      ]
     },
     "execution_count": 11,
     "metadata": {},
     "output_type": "execute_result"
    }
   ],
   "source": [
    "#masking sets a criteria and displays elements that are true for that criteria\n",
    "np_array = np.array([1, 2, 3, 4, 5, 6, 7, 8, 9, 10])\n",
    "my_mask = (np_array > 3) & (np_array<8) #I want elements that are more than 3 and less than 8\n",
    "#the action is not masking actually its just calling out what you want because its not like you are asking it to mask elements that are more than3 and less than 8\n",
    "np_array[my_mask]  "
   ]
  },
  {
   "cell_type": "code",
   "execution_count": 15,
   "id": "3b58f728-ca3a-4f03-86eb-856fbf8c3a68",
   "metadata": {},
   "outputs": [
    {
     "data": {
      "text/plain": [
       "np.int64(4)"
      ]
     },
     "execution_count": 15,
     "metadata": {},
     "output_type": "execute_result"
    }
   ],
   "source": [
    "my_mask.sum()"
   ]
  },
  {
   "cell_type": "code",
   "execution_count": null,
   "id": "f5aeb04d-85d8-40e8-b15b-ca46f574eed4",
   "metadata": {},
   "outputs": [],
   "source": []
  },
  {
   "attachments": {},
   "cell_type": "markdown",
   "id": "e455aa72",
   "metadata": {},
   "source": [
    "## 1.3 Lists & Arrays in 2D | Indexing & Slicing"
   ]
  },
  {
   "cell_type": "code",
   "execution_count": 12,
   "id": "47d2a047-d229-471d-bc37-76df726ffe5e",
   "metadata": {},
   "outputs": [],
   "source": [
    "py_list_2d = [[1, \"A\"], [2, \"B\"], [3, \"C\"], [4, \"D\"],\n",
    "              [5, \"E\"], [6, \"F\"], [7, \"G\"], [8, \"H\"],\n",
    "              [9, \"I\"], [10, \"J\"]]\n",
    "\n",
    "np_array_2d = np.array(py_list_2d)"
   ]
  },
  {
   "cell_type": "code",
   "execution_count": 15,
   "id": "04beec48-8349-48fb-9095-26b92c6dd677",
   "metadata": {},
   "outputs": [
    {
     "data": {
      "text/plain": [
       "[2, 'B']"
      ]
     },
     "execution_count": 15,
     "metadata": {},
     "output_type": "execute_result"
    }
   ],
   "source": [
    "#Synthax for calling out elements in a 2d list\n",
    "\n",
    "#to call out the element, use []\n",
    "(py_list_2d[1])"
   ]
  },
  {
   "cell_type": "code",
   "execution_count": 19,
   "id": "53737363-bedb-4bca-9eea-4e44bfc1b7a3",
   "metadata": {},
   "outputs": [
    {
     "data": {
      "text/plain": [
       "array(['2', 'B'], dtype='<U21')"
      ]
     },
     "execution_count": 19,
     "metadata": {},
     "output_type": "execute_result"
    }
   ],
   "source": [
    "#to call out the element, use []\n",
    "np_array_2d[1]"
   ]
  },
  {
   "cell_type": "code",
   "execution_count": 20,
   "id": "9f68baed-6314-463a-97b5-16bbaa6df0e7",
   "metadata": {},
   "outputs": [
    {
     "data": {
      "text/plain": [
       "np.str_('4')"
      ]
     },
     "execution_count": 20,
     "metadata": {},
     "output_type": "execute_result"
    }
   ],
   "source": [
    "#to call out the first element in the 2d list/array, use brackets or commas to list [position, which element in that position]\n",
    "np_array_2d[3, 0]"
   ]
  },
  {
   "cell_type": "code",
   "execution_count": null,
   "id": "0a536912-a0f3-4e0d-9372-03c35edde439",
   "metadata": {},
   "outputs": [],
   "source": []
  },
  {
   "attachments": {},
   "cell_type": "markdown",
   "id": "5dc31e43",
   "metadata": {},
   "source": [
    "## 1.4 Growing lists"
   ]
  },
  {
   "attachments": {},
   "cell_type": "markdown",
   "id": "b404f1a9",
   "metadata": {},
   "source": [
    "# Some loose ends"
   ]
  },
  {
   "attachments": {},
   "cell_type": "markdown",
   "id": "e0d69463",
   "metadata": {},
   "source": [
    "## 1.5 Tuples"
   ]
  },
  {
   "attachments": {},
   "cell_type": "markdown",
   "id": "f1828819",
   "metadata": {},
   "source": [
    "## 1.6 Be VERY careful when copying"
   ]
  },
  {
   "attachments": {},
   "cell_type": "markdown",
   "id": "84cd1aa4",
   "metadata": {},
   "source": [
    "## Footnotes"
   ]
  }
 ],
 "metadata": {
  "kernelspec": {
   "display_name": "Python 3 (ipykernel)",
   "language": "python",
   "name": "python3"
  },
  "language_info": {
   "codemirror_mode": {
    "name": "ipython",
    "version": 3
   },
   "file_extension": ".py",
   "mimetype": "text/x-python",
   "name": "python",
   "nbconvert_exporter": "python",
   "pygments_lexer": "ipython3",
   "version": "3.12.3"
  },
  "toc": {
   "base_numbering": 1,
   "nav_menu": {},
   "number_sections": true,
   "sideBar": true,
   "skip_h1_title": false,
   "title_cell": "Table of Contents",
   "title_sidebar": "Contents",
   "toc_cell": false,
   "toc_position": {},
   "toc_section_display": true,
   "toc_window_display": false
  },
  "vscode": {
   "interpreter": {
    "hash": "31f2aee4e71d21fbe5cf8b01ff0e069b9275f58929596ceb00d14d90e3e16cd6"
   }
  }
 },
 "nbformat": 4,
 "nbformat_minor": 5
}
