{
 "cells": [
  {
   "attachments": {},
   "cell_type": "markdown",
   "id": "123456",
   "metadata": {},
   "source": [
    "<div style=\"text-align:left;font-size:2em\"><span style=\"font-weight:bolder;font-size:1.25em\">SP2273 | Learning Portfolio</span><br><br><span style=\"font-weight:bold;color:darkred\">Files, Folders & OS (Need) Exercises</span></div>"
   ]
  },
  {
   "cell_type": "markdown",
   "id": "e760a41d-1e05-473b-a5a0-57280b523b45",
   "metadata": {},
   "source": [
    "## **Task 1** ##"
   ]
  },
  {
   "cell_type": "code",
   "execution_count": 1,
   "id": "5f73830d-29e0-45e6-b6f2-5b640f826d40",
   "metadata": {},
   "outputs": [
    {
     "data": {
      "text/plain": [
       "['oct', '08_singapore.txt']"
      ]
     },
     "execution_count": 1,
     "metadata": {},
     "output_type": "execute_result"
    }
   ],
   "source": [
    "old_file_name='oct-08_singapore.txt'\n",
    "old_file_name.split('-') #splits based on delimiter (removes delimiter)"
   ]
  },
  {
   "cell_type": "code",
   "execution_count": 2,
   "id": "134d1c85-df40-4448-9d46-6d9d6ecd0a8e",
   "metadata": {},
   "outputs": [],
   "source": [
    "month_split=old_file_name.split('-')"
   ]
  },
  {
   "cell_type": "code",
   "execution_count": 3,
   "id": "7a987284-c945-4b72-8bcd-b4ddea378f26",
   "metadata": {},
   "outputs": [
    {
     "name": "stdout",
     "output_type": "stream",
     "text": [
      "10\n"
     ]
    }
   ],
   "source": [
    "month = month_split[0] #october is found in index 0 of month_split\n",
    "\n",
    "dictionary = {\n",
    "'jan': '01', 'feb': '02', 'mar': '03',\n",
    "'apr': '04', 'may': '05', 'jun': '06',\n",
    "'jul': '07', 'aug': '08', 'sep': '09',\n",
    "'oct': '10', 'nov': '11', 'dec': '12'\n",
    "}\n",
    "\n",
    "month_number=dictionary[month] #locate the month number in dictionary based on [month]\n",
    "print(month_number)"
   ]
  },
  {
   "cell_type": "code",
   "execution_count": 4,
   "id": "7f565a38-6fbb-47dd-9fa5-c8c5dd083f48",
   "metadata": {},
   "outputs": [
    {
     "name": "stdout",
     "output_type": "stream",
     "text": [
      "['08', 'singapore.txt']\n"
     ]
    }
   ],
   "source": [
    "datesplit= month_split[1].split('_') \n",
    "print (datesplit)\n",
    "\n",
    "date = datesplit[0]\n",
    "city = datesplit[1]\n"
   ]
  },
  {
   "cell_type": "code",
   "execution_count": 5,
   "id": "2a1914cc-00b4-4d77-9668-5030c85d7aa4",
   "metadata": {},
   "outputs": [
    {
     "name": "stdout",
     "output_type": "stream",
     "text": [
      "10-08-singapore.txt\n"
     ]
    }
   ],
   "source": [
    "new_file_name = f'{month_number}-{date}-{city}'\n",
    "print(new_file_name)"
   ]
  },
  {
   "cell_type": "markdown",
   "id": "ab643d0e-0ce7-44b0-a326-16fa72db6e40",
   "metadata": {},
   "source": [
    "## **Task 2 and 3** ##"
   ]
  },
  {
   "cell_type": "code",
   "execution_count": 27,
   "id": "10788260-2eb8-4233-be63-cf64658e727b",
   "metadata": {},
   "outputs": [
    {
     "name": "stdout",
     "output_type": "stream",
     "text": [
      "oct-08_singapore.txt ----> 10-08-singapore.txt\n",
      "jul-10_cairo.txt ----> 07-10-cairo.txt\n",
      "may-15_dhaka.txt ----> 05-15-dhaka.txt\n",
      "may-13_cairo.txt ----> 05-13-cairo.txt\n",
      "oct-21_cairo.txt ----> 10-21-cairo.txt\n",
      "jan-10_singapore.txt ----> 01-10-singapore.txt\n",
      "jun-20_tokyo.txt ----> 06-20-tokyo.txt\n",
      "aug-06_jakarta.txt ----> 08-06-jakarta.txt\n",
      "dec-21_karachi.txt ----> 12-21-karachi.txt\n",
      "jan-01_tokyo.txt ----> 01-01-tokyo.txt\n"
     ]
    }
   ],
   "source": [
    "old_file_name= ['oct-08_singapore.txt', 'jul-10_cairo.txt', 'may-15_dhaka.txt',\n",
    " 'may-13_cairo.txt', 'oct-21_cairo.txt', 'jan-10_singapore.txt',\n",
    " 'jun-20_tokyo.txt', 'aug-06_jakarta.txt', 'dec-21_karachi.txt',\n",
    " 'jan-01_tokyo.txt']\n",
    "\n",
    "dictionary = {\n",
    "'jan': '01', 'feb': '02', 'mar': '03',\n",
    "'apr': '04', 'may': '05', 'jun': '06',\n",
    "'jul': '07', 'aug': '08', 'sep': '09',\n",
    "'oct': '10', 'nov': '11', 'dec': '12'\n",
    "}\n",
    "\n",
    "def rename_my_file(old_file_name): \n",
    "    #for i in range(0,len(old_file_name)): why don't i need this\n",
    "        for old_name in old_file_name: #refers to individual file name\n",
    "            month_split=old_name.split('-') #because you cannot split a list\n",
    "            month = month_split[0] \n",
    "            month_number=dictionary[month]\n",
    "            \n",
    "            datesplit= month_split[1].split('_') \n",
    "            date = datesplit[0]\n",
    "            city = datesplit[1]\n",
    "        \n",
    "            new_file_name = f'{month_number}-{date}-{city}'\n",
    "            \n",
    "            print(f'{old_name} ----> {new_file_name}')\n",
    "        \n",
    "rename_my_file(old_file_name)"
   ]
  },
  {
   "cell_type": "markdown",
   "id": "1635ca95-7549-4f0d-ba50-52401ff8befe",
   "metadata": {},
   "source": [
    "## **Task 4** ##"
   ]
  },
  {
   "cell_type": "code",
   "execution_count": 29,
   "id": "c4def728-7a61-4d4e-a34d-2c55aa0f8142",
   "metadata": {},
   "outputs": [],
   "source": [
    "import os\n",
    "import glob\n"
   ]
  },
  {
   "cell_type": "code",
   "execution_count": 32,
   "id": "56c889e3-95d2-4071-a469-f08f82e6b218",
   "metadata": {},
   "outputs": [
    {
     "name": "stdout",
     "output_type": "stream",
     "text": [
      ".\\Users\\calis\\Downloads\\os-collaboration-exercise-data\n"
     ]
    }
   ],
   "source": [
    "path = os.path.join('.', 'Users', 'calis', 'Downloads','os-collaboration-exercise-data')\n",
    "print(path)"
   ]
  },
  {
   "cell_type": "code",
   "execution_count": null,
   "id": "0113cd94-c71c-45ef-8972-e801b6058d28",
   "metadata": {},
   "outputs": [],
   "source": [
    "txt_files = glob.glob(\"*.txt\") # Generate the new file name using rename_my_fil\n",
    "for old_file_name in txt_files:\n",
    "    new_file_name = rename_my_file(old_file_name) \n",
    "    \n",
    "    # Rename the file using os.rename\n",
    "    os.rename(old_file_name, new_file_name)\n",
    "    \n",
    "    # Print the result\n",
    "    print(f\"Renamed: {old_file_name} ----> {new_file_name}\")"
   ]
  }
 ],
 "metadata": {
  "kernelspec": {
   "display_name": "Python 3 (ipykernel)",
   "language": "python",
   "name": "python3"
  },
  "language_info": {
   "codemirror_mode": {
    "name": "ipython",
    "version": 3
   },
   "file_extension": ".py",
   "mimetype": "text/x-python",
   "name": "python",
   "nbconvert_exporter": "python",
   "pygments_lexer": "ipython3",
   "version": "3.12.3"
  },
  "toc": {
   "base_numbering": 1,
   "nav_menu": {},
   "number_sections": true,
   "sideBar": true,
   "skip_h1_title": false,
   "title_cell": "Table of Contents",
   "title_sidebar": "Contents",
   "toc_cell": false,
   "toc_position": {},
   "toc_section_display": true,
   "toc_window_display": false
  },
  "vscode": {
   "interpreter": {
    "hash": "31f2aee4e71d21fbe5cf8b01ff0e069b9275f58929596ceb00d14d90e3e16cd6"
   }
  }
 },
 "nbformat": 4,
 "nbformat_minor": 5
}
