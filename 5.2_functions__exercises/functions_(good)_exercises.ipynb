{
 "cells": [
  {
   "attachments": {},
   "cell_type": "markdown",
   "id": "123456",
   "metadata": {},
   "source": [
    "<div style=\"text-align:left;font-size:2em\"><span style=\"font-weight:bolder;font-size:1.25em\">SP2273 | Learning Portfolio</span><br><br><span style=\"font-weight:bold;color:darkred\">Functions (Good) Exercises</span></div>"
   ]
  },
  {
   "cell_type": "markdown",
   "id": "47bb8fc6-cb17-430f-9ffa-c3969bb74184",
   "metadata": {},
   "source": [
    "## **Exercise 1** ##"
   ]
  },
  {
   "cell_type": "code",
   "execution_count": 3,
   "id": "3e5846e7-5cc1-41d5-9706-d700abff900b",
   "metadata": {},
   "outputs": [
    {
     "name": "stdin",
     "output_type": "stream",
     "text": [
      "Temperature value in °C: 25\n",
      "Fahrenheit(F) or Kelvin (K)?:  k\n"
     ]
    },
    {
     "data": {
      "text/plain": [
       "'298.15K'"
      ]
     },
     "execution_count": 3,
     "metadata": {},
     "output_type": "execute_result"
    }
   ],
   "source": [
    "temperature_celsius=float(input('Temperature value in °C:'))\n",
    "target_scale=input('Fahrenheit(F) or Kelvin (K)?: ').upper()\n",
    "\n",
    "def convert_celcius(temperature_celsius,target_scale='Fahrenheit'):#passes both arguments to the function, and make 'Fahrenheit' the default value in target_scale\n",
    "    if target_scale == 'K':\n",
    "        K = temperature_celsius+273.15\n",
    "        return f'{K}K'\n",
    "        \n",
    "    else:\n",
    "        F = (temperature_celsius*1.8)+32\n",
    "        return f'{F}°F'\n",
    "\n",
    "convert_celcius(temperature_celsius,target_scale)"
   ]
  },
  {
   "cell_type": "markdown",
   "id": "24657f42-4957-44e5-b453-8823e70be08d",
   "metadata": {},
   "source": [
    "## **Exercise 2** ##"
   ]
  },
  {
   "cell_type": "code",
   "execution_count": 6,
   "id": "c08f164b-c1a5-4110-bf05-106bd03340a6",
   "metadata": {},
   "outputs": [
    {
     "name": "stdin",
     "output_type": "stream",
     "text": [
      "Temperature value in °F: 32\n",
      "Celcius(C) or Kelvin (K)?:  k\n"
     ]
    },
    {
     "data": {
      "text/plain": [
       "'273.15K'"
      ]
     },
     "execution_count": 6,
     "metadata": {},
     "output_type": "execute_result"
    }
   ],
   "source": [
    "temperature_fahrenheit=float(input('Temperature value in °F:'))\n",
    "target_scale=input('Celcius(C) or Kelvin (K)?: ').upper()\n",
    "\n",
    "def convert_fahrenheit(temperature_fahrenheit,target_scale='Celcius'):\n",
    "    if target_scale == 'K':\n",
    "        K = (temperature_fahrenheit-32)*5/9+ 273.15\n",
    "        return f'{K}K'\n",
    "        \n",
    "    else:\n",
    "        C = (temperature_fahrenheit-32)*5/9\n",
    "        return f'{C}°C'\n",
    "\n",
    "convert_fahrenheit(temperature_fahrenheit,target_scale)"
   ]
  },
  {
   "cell_type": "markdown",
   "id": "f83d9a2d-d2f7-43c0-8a78-c051760b6492",
   "metadata": {},
   "source": [
    "## **Exercise 3** ##"
   ]
  },
  {
   "cell_type": "code",
   "execution_count": 78,
   "id": "edbd8f29-825a-4f7f-aca1-15a2e2c185f7",
   "metadata": {},
   "outputs": [
    {
     "name": "stdin",
     "output_type": "stream",
     "text": [
      "Temperature value: 25\n",
      "Scale? (Celcius/Fahrenheit/Kelvin): celcius\n",
      "Converted to? (C/F/K): k\n"
     ]
    },
    {
     "data": {
      "text/plain": [
       "'298.15K'"
      ]
     },
     "execution_count": 78,
     "metadata": {},
     "output_type": "execute_result"
    }
   ],
   "source": [
    "temperature=float(input('Temperature value:'))\n",
    "source_scale = input('Scale? (Celcius/Fahrenheit/Kelvin):').capitalize()\n",
    "target_scale=input('Converted to? (C/F/K):').upper()\n",
    "\n",
    "def convert_temperature(temperature,source_scale,target_scale):\n",
    "    if source_scale == 'Celcius':\n",
    "            \n",
    "        if target_scale == 'F':\n",
    "            F = (temperature*1.8)+32\n",
    "            return f'{F}°F'\n",
    "            \n",
    "        else:\n",
    "            target_scale == 'K'\n",
    "            K = temperature+273.15\n",
    "            return f'{K}K'\n",
    "            \n",
    "            \n",
    "    elif source_scale == 'Fahrenheit':\n",
    "        \n",
    "        if target_scale == 'C':\n",
    "            C = (temperature-32)*5/9\n",
    "            return f'{C}°C'\n",
    "            \n",
    "        else:\n",
    "            K = (temperature-32)*5/9+ 273.15\n",
    "            return f'{K}K'\n",
    "\n",
    "    \n",
    "    else:\n",
    "        \n",
    "        if target_scale == 'C':\n",
    "            C = temperature-273.15\n",
    "            return f'{C}°C'\n",
    "                \n",
    "        else:\n",
    "             F = (temperature-273.15)*1.8+32\n",
    "             return f'{F}K' \n",
    "                \n",
    "convert_temperature(temperature,source_scale,target_scale)"
   ]
  },
  {
   "cell_type": "code",
   "execution_count": null,
   "id": "1b6cdc63-3d27-4f8e-92e1-db7d6add5d27",
   "metadata": {},
   "outputs": [],
   "source": [
    "#Corrections: Make individual conversions, then put them in a convert"
   ]
  },
  {
   "cell_type": "code",
   "execution_count": 18,
   "id": "840afa06-cd20-49fc-ba6e-97c2b99a56e3",
   "metadata": {},
   "outputs": [
    {
     "data": {
      "text/plain": [
       "25.0"
      ]
     },
     "execution_count": 18,
     "metadata": {},
     "output_type": "execute_result"
    }
   ],
   "source": [
    "def convert_kelvin(temperature, target_scale):\n",
    "    if target_scale == 'Celcius':\n",
    "        return temperature - 273.15\n",
    "    elif target_scale == 'Fahrenheit':\n",
    "        return (temperature - 273.15) * 9/5 + 32\n",
    "    else:\n",
    "        raise ValueError(f\"{target_scale} is not a supported target scale\")\n",
    "\n",
    "convert_kelvin(298.15,'Celcius') #passing the value to arguments using their positional order."
   ]
  },
  {
   "cell_type": "code",
   "execution_count": 25,
   "id": "67848f2a-5913-4ac5-936c-8094d80216d5",
   "metadata": {},
   "outputs": [
    {
     "data": {
      "text/plain": [
       "77.0"
      ]
     },
     "execution_count": 25,
     "metadata": {},
     "output_type": "execute_result"
    }
   ],
   "source": [
    "def convert_celsius(temperature, target_scale):\n",
    "    if target_scale == 'Fahrenheit':\n",
    "        return (temperature * 9/5) + 32\n",
    "    elif target_scale == 'Kelvin':\n",
    "        return temperature + 273.15\n",
    "    else:\n",
    "        raise ValueError(f\"{target_scale} is not a supported target scale\")\n",
    "\n",
    "convert_celsius(temperature=25, target_scale='Fahrenheit') #passing the value to arguments using keywords"
   ]
  },
  {
   "cell_type": "code",
   "execution_count": 32,
   "id": "b6527229-c14f-4b69-812a-b5685478ee5a",
   "metadata": {},
   "outputs": [
    {
     "ename": "ValueError",
     "evalue": "fahrenheit is not a supported target scale",
     "output_type": "error",
     "traceback": [
      "\u001b[1;31m---------------------------------------------------------------------------\u001b[0m",
      "\u001b[1;31mValueError\u001b[0m                                Traceback (most recent call last)",
      "Cell \u001b[1;32mIn[32], line 9\u001b[0m\n\u001b[0;32m      6\u001b[0m     \u001b[38;5;28;01melse\u001b[39;00m:\n\u001b[0;32m      7\u001b[0m         \u001b[38;5;28;01mraise\u001b[39;00m \u001b[38;5;167;01mValueError\u001b[39;00m(\u001b[38;5;124mf\u001b[39m\u001b[38;5;124m\"\u001b[39m\u001b[38;5;132;01m{\u001b[39;00mtarget_scale\u001b[38;5;132;01m}\u001b[39;00m\u001b[38;5;124m is not a supported target scale\u001b[39m\u001b[38;5;124m\"\u001b[39m)\n\u001b[1;32m----> 9\u001b[0m \u001b[43mconvert_fahrenheit\u001b[49m\u001b[43m(\u001b[49m\u001b[38;5;241;43m77\u001b[39;49m\u001b[43m,\u001b[49m\u001b[43m \u001b[49m\u001b[43mtarget_scale\u001b[49m\u001b[38;5;241;43m=\u001b[39;49m\u001b[38;5;124;43m'\u001b[39;49m\u001b[38;5;124;43mfahrenheit\u001b[39;49m\u001b[38;5;124;43m'\u001b[39;49m\u001b[43m)\u001b[49m \u001b[38;5;66;03m#positional, keyword (keyword, positional does not work)\u001b[39;00m\n",
      "Cell \u001b[1;32mIn[32], line 7\u001b[0m, in \u001b[0;36mconvert_fahrenheit\u001b[1;34m(temperature, target_scale)\u001b[0m\n\u001b[0;32m      5\u001b[0m     \u001b[38;5;28;01mreturn\u001b[39;00m (temperature \u001b[38;5;241m-\u001b[39m \u001b[38;5;241m32\u001b[39m) \u001b[38;5;241m*\u001b[39m \u001b[38;5;241m5\u001b[39m\u001b[38;5;241m/\u001b[39m\u001b[38;5;241m9\u001b[39m \u001b[38;5;241m+\u001b[39m \u001b[38;5;241m273.15\u001b[39m\n\u001b[0;32m      6\u001b[0m \u001b[38;5;28;01melse\u001b[39;00m:\n\u001b[1;32m----> 7\u001b[0m     \u001b[38;5;28;01mraise\u001b[39;00m \u001b[38;5;167;01mValueError\u001b[39;00m(\u001b[38;5;124mf\u001b[39m\u001b[38;5;124m\"\u001b[39m\u001b[38;5;132;01m{\u001b[39;00mtarget_scale\u001b[38;5;132;01m}\u001b[39;00m\u001b[38;5;124m is not a supported target scale\u001b[39m\u001b[38;5;124m\"\u001b[39m)\n",
      "\u001b[1;31mValueError\u001b[0m: fahrenheit is not a supported target scale"
     ]
    }
   ],
   "source": [
    "def convert_fahrenheit(temperature, target_scale): #default arguments should be at the back\n",
    "    if target_scale == 'Celsius':\n",
    "        return (temperature - 32) * 5/9\n",
    "    elif target_scale == 'Kelvin':\n",
    "        return (temperature - 32) * 5/9 + 273.15\n",
    "    else:\n",
    "        raise ValueError(f\"{target_scale} is not a supported target scale\")\n",
    "\n",
    "convert_fahrenheit(77, target_scale='fahrenheit') #positional, keyword (keyword, positional does not work)"
   ]
  },
  {
   "cell_type": "code",
   "execution_count": 35,
   "id": "54239686-ac85-4e93-a84a-a859a45e2f51",
   "metadata": {},
   "outputs": [
    {
     "data": {
      "text/plain": [
       "298.15"
      ]
     },
     "execution_count": 35,
     "metadata": {},
     "output_type": "execute_result"
    }
   ],
   "source": [
    "def convert_temperature(temperature, source_scale, target_scale):\n",
    "    # Convert from Celsius\n",
    "    if source_scale == 'Celsius':\n",
    "        return convert_celsius(temperature, target_scale)\n",
    "    \n",
    "    # Convert from Fahrenheit\n",
    "    elif source_scale == 'Fahrenheit':\n",
    "        return convert_fahrenheit(temperature, target_scale)\n",
    "    \n",
    "    # Convert from Kelvin\n",
    "    elif source_scale == 'Kelvin':\n",
    "        return convert_kelvin(temperature, target_scale)\n",
    "    \n",
    "    else:\n",
    "        raise ValueError(f\"{source_scale} is not a supported source scale\")\n",
    "\n",
    "convert_temperature(25, 'Celsius', 'Kelvin')"
   ]
  },
  {
   "cell_type": "code",
   "execution_count": null,
   "id": "89bfba6f-8242-4f5e-8ea0-5a7cba2f85b8",
   "metadata": {},
   "outputs": [],
   "source": []
  },
  {
   "cell_type": "markdown",
   "id": "8ca3c006-f192-4c74-9eb7-9a8e2d086581",
   "metadata": {},
   "source": [
    " "
   ]
  }
 ],
 "metadata": {
  "kernelspec": {
   "display_name": "Python 3 (ipykernel)",
   "language": "python",
   "name": "python3"
  },
  "language_info": {
   "codemirror_mode": {
    "name": "ipython",
    "version": 3
   },
   "file_extension": ".py",
   "mimetype": "text/x-python",
   "name": "python",
   "nbconvert_exporter": "python",
   "pygments_lexer": "ipython3",
   "version": "3.12.3"
  },
  "toc": {
   "base_numbering": 1,
   "nav_menu": {},
   "number_sections": true,
   "sideBar": true,
   "skip_h1_title": false,
   "title_cell": "Table of Contents",
   "title_sidebar": "Contents",
   "toc_cell": false,
   "toc_position": {},
   "toc_section_display": true,
   "toc_window_display": false
  },
  "vscode": {
   "interpreter": {
    "hash": "31f2aee4e71d21fbe5cf8b01ff0e069b9275f58929596ceb00d14d90e3e16cd6"
   }
  }
 },
 "nbformat": 4,
 "nbformat_minor": 5
}
