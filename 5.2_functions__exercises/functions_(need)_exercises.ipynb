{
 "cells": [
  {
   "attachments": {},
   "cell_type": "markdown",
   "id": "123456",
   "metadata": {},
   "source": [
    "<div style=\"text-align:left;font-size:2em\"><span style=\"font-weight:bolder;font-size:1.25em\">SP2273 | Learning Portfolio</span><br><br><span style=\"font-weight:bold;color:darkred\">Functions (Need) Exercises</span></div>"
   ]
  },
  {
   "cell_type": "markdown",
   "id": "1d887fca-84bb-422f-bd97-1a90bda62621",
   "metadata": {},
   "source": [
    "## **Exercise 1** ##"
   ]
  },
  {
   "cell_type": "code",
   "execution_count": 3,
   "id": "667d8403-f855-48dd-93a9-2749d713d955",
   "metadata": {},
   "outputs": [
    {
     "data": {
      "text/plain": [
       "'Hello atman!'"
      ]
     },
     "execution_count": 3,
     "metadata": {},
     "output_type": "execute_result"
    }
   ],
   "source": [
    "def greeting(name):\n",
    "    if name == 'Batman':\n",
    "        return 'Hello Batman! So, nice to meet you!'\n",
    "    return f'Hello {name}!'\n",
    "\n",
    "greeting ('atman')"
   ]
  },
  {
   "cell_type": "markdown",
   "id": "e17d85c1-e860-4070-97aa-81f1a3a6476d",
   "metadata": {},
   "source": [
    "The code works because of the 'return' statement. The second return function returns a value if the 'if' condition is not met. "
   ]
  },
  {
   "cell_type": "markdown",
   "id": "ad5316b6-270f-45cb-a7bc-71486270e5a3",
   "metadata": {},
   "source": [
    "## **Exercise 2** ##"
   ]
  },
  {
   "cell_type": "code",
   "execution_count": 14,
   "id": "28f3d604-8d24-4835-9497-42ba48122b79",
   "metadata": {},
   "outputs": [
    {
     "name": "stdin",
     "output_type": "stream",
     "text": [
      "Please input Weight in kg? 45\n"
     ]
    },
    {
     "name": "stdout",
     "output_type": "stream",
     "text": [
      "weight=45.0kg\n"
     ]
    },
    {
     "name": "stdin",
     "output_type": "stream",
     "text": [
      "Please input height in m? 1.55\n"
     ]
    },
    {
     "name": "stdout",
     "output_type": "stream",
     "text": [
      "height=1.55m\n",
      "BMI=18.73\n"
     ]
    },
    {
     "data": {
      "text/plain": [
       "'Catergory: Normal Weight'"
      ]
     },
     "execution_count": 14,
     "metadata": {},
     "output_type": "execute_result"
    }
   ],
   "source": [
    "weight = float(input('Please input Weight in kg?'))\n",
    "print(f'weight={weight}kg')\n",
    "\n",
    "height = float(input('Please input height in m?'))\n",
    "print(f'height={height}m')\n",
    "\n",
    "BMI = weight / (height ** 2)\n",
    "print(f'BMI={BMI:.2f}')\n",
    "\n",
    "def calculate_bmi(BMI):\n",
    "    if BMI <18.5:\n",
    "        return 'Catergory: Underweight'\n",
    "    elif  18.5 <= BMI <= 24.9:\n",
    "        return 'Catergory: Normal Weight'\n",
    "    elif  25 <= BMI <= 29.9:\n",
    "        return 'Catergory: Overweight'\n",
    "    elif BMI >30:\n",
    "        return 'Catergory: Obese'\n",
    "    else:\n",
    "        return 'Invalid'\n",
    "\n",
    "calculate_bmi(BMI)"
   ]
  },
  {
   "cell_type": "markdown",
   "id": "8d42d475-8737-46c2-b761-b0a30a66c6f0",
   "metadata": {},
   "source": [
    "## **Exercise 3** ##"
   ]
  },
  {
   "cell_type": "code",
   "execution_count": 21,
   "id": "72a55381-dd17-4fb2-900b-f2125e53b3ff",
   "metadata": {},
   "outputs": [
    {
     "name": "stdin",
     "output_type": "stream",
     "text": [
      "Please provide me with an integer 5\n"
     ]
    },
    {
     "data": {
      "text/plain": [
       "120"
      ]
     },
     "execution_count": 21,
     "metadata": {},
     "output_type": "execute_result"
    }
   ],
   "source": [
    "n = int(input('Please provide me with an integer:'))\n",
    "\n",
    "def factorial(n): \n",
    "    if n<0: \n",
    "        return \"Invalid input\" \n",
    "    elif n == 0: \n",
    "        return 1\n",
    "    else:\n",
    "        result = 1\n",
    "        for number in range(1, n+1): \n",
    "            result *= number\n",
    "        return result\n",
    "\n",
    "factorial(n)  "
   ]
  },
  {
   "cell_type": "code",
   "execution_count": null,
   "id": "e8c2b3b4-7b23-47b1-8338-39faabb2f9c0",
   "metadata": {},
   "outputs": [],
   "source": []
  }
 ],
 "metadata": {
  "kernelspec": {
   "display_name": "Python 3 (ipykernel)",
   "language": "python",
   "name": "python3"
  },
  "language_info": {
   "codemirror_mode": {
    "name": "ipython",
    "version": 3
   },
   "file_extension": ".py",
   "mimetype": "text/x-python",
   "name": "python",
   "nbconvert_exporter": "python",
   "pygments_lexer": "ipython3",
   "version": "3.12.3"
  },
  "toc": {
   "base_numbering": 1,
   "nav_menu": {},
   "number_sections": true,
   "sideBar": true,
   "skip_h1_title": false,
   "title_cell": "Table of Contents",
   "title_sidebar": "Contents",
   "toc_cell": false,
   "toc_position": {},
   "toc_section_display": true,
   "toc_window_display": false
  },
  "vscode": {
   "interpreter": {
    "hash": "31f2aee4e71d21fbe5cf8b01ff0e069b9275f58929596ceb00d14d90e3e16cd6"
   }
  }
 },
 "nbformat": 4,
 "nbformat_minor": 5
}
