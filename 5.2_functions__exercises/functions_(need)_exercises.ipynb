{
 "cells": [
  {
   "attachments": {},
   "cell_type": "markdown",
   "id": "123456",
   "metadata": {},
   "source": [
    "<div style=\"text-align:left;font-size:2em\"><span style=\"font-weight:bolder;font-size:1.25em\">SP2273 | Learning Portfolio</span><br><br><span style=\"font-weight:bold;color:darkred\">Functions (Need) Exercises</span></div>"
   ]
  },
  {
   "cell_type": "markdown",
   "id": "1d887fca-84bb-422f-bd97-1a90bda62621",
   "metadata": {},
   "source": [
    "## **Exercise 1** ##"
   ]
  },
  {
   "cell_type": "code",
   "execution_count": 3,
   "id": "820c6ff3-1461-40cb-8e8d-f77a24cb9cd1",
   "metadata": {},
   "outputs": [],
   "source": [
    "def greeting(name):\n",
    "    if name == 'Batman':\n",
    "        return 'Hello Batman! So, nice to meet you!'\n",
    "    return f'Hello {name}!' #indentation makes it such that is like an else statement. "
   ]
  },
  {
   "cell_type": "code",
   "execution_count": 4,
   "id": "759686a3-6b1d-4459-86d7-31810e472c93",
   "metadata": {},
   "outputs": [
    {
     "data": {
      "text/plain": [
       "'Hello abella!'"
      ]
     },
     "execution_count": 4,
     "metadata": {},
     "output_type": "execute_result"
    }
   ],
   "source": [
    "greeting('abella')"
   ]
  },
  {
   "cell_type": "code",
   "execution_count": 5,
   "id": "938cab02-a4cc-430c-a632-cb1c80766ea4",
   "metadata": {},
   "outputs": [
    {
     "ename": "SyntaxError",
     "evalue": "'return' outside function (1627440555.py, line 4)",
     "output_type": "error",
     "traceback": [
      "\u001b[1;36m  Cell \u001b[1;32mIn[5], line 4\u001b[1;36m\u001b[0m\n\u001b[1;33m    return f'Hello {name}!'\u001b[0m\n\u001b[1;37m    ^\u001b[0m\n\u001b[1;31mSyntaxError\u001b[0m\u001b[1;31m:\u001b[0m 'return' outside function\n"
     ]
    }
   ],
   "source": [
    "def greeting(name):\n",
    "    if name == 'Batman':\n",
    "        return 'Hello Batman! So, nice to meet you!'\n",
    "return f'Hello {name}!' #doesnt work anymore because return was not inside the function."
   ]
  },
  {
   "cell_type": "code",
   "execution_count": 2,
   "id": "3139fe96-45d5-42dc-8869-1496cb225caf",
   "metadata": {},
   "outputs": [
    {
     "ename": "TypeError",
     "evalue": "greeting() missing 1 required positional argument: 'name'",
     "output_type": "error",
     "traceback": [
      "\u001b[1;31m---------------------------------------------------------------------------\u001b[0m",
      "\u001b[1;31mTypeError\u001b[0m                                 Traceback (most recent call last)",
      "Cell \u001b[1;32mIn[2], line 1\u001b[0m\n\u001b[1;32m----> 1\u001b[0m \u001b[43mgreeting\u001b[49m\u001b[43m(\u001b[49m\u001b[43m)\u001b[49m\n",
      "\u001b[1;31mTypeError\u001b[0m: greeting() missing 1 required positional argument: 'name'"
     ]
    }
   ],
   "source": [
    "greeting() #not an optional arguement"
   ]
  },
  {
   "cell_type": "markdown",
   "id": "e17d85c1-e860-4070-97aa-81f1a3a6476d",
   "metadata": {},
   "source": [
    "The code works because of the 'return' statement. The second return function returns a value if the 'if' condition is not met. "
   ]
  },
  {
   "cell_type": "markdown",
   "id": "9385b2f0-6834-4c4e-a898-ea645cb47376",
   "metadata": {},
   "source": [
    "Corrections:\n",
    "The next statement return (f'Hello {name}!') is effectively like an else statement. However, python naturally moves to the next line of code when the condition is not met. Since name == 'Batman' is False, the 'if 'block is skipped and the next statement \"return (f'Hello {name}!')\" is executed.  \n",
    "\n",
    "The same applies with 'print', just that with 'print', the value is not stored. "
   ]
  },
  {
   "cell_type": "code",
   "execution_count": 4,
   "id": "667d8403-f855-48dd-93a9-2749d713d955",
   "metadata": {},
   "outputs": [
    {
     "data": {
      "text/plain": [
       "'Hello atman!'"
      ]
     },
     "execution_count": 4,
     "metadata": {},
     "output_type": "execute_result"
    }
   ],
   "source": [
    "def greeting(name):\n",
    "    if name == 'Batman':\n",
    "        return 'Hello Batman! So, nice to meet you!'\n",
    "    return (f'Hello {name}!')\n",
    "\n",
    "greeting ('atman')"
   ]
  },
  {
   "cell_type": "code",
   "execution_count": 22,
   "id": "c3cbaf98-cf81-4cf2-984e-a4170abb8f17",
   "metadata": {},
   "outputs": [],
   "source": [
    "x= greeting('me')"
   ]
  },
  {
   "cell_type": "code",
   "execution_count": 23,
   "id": "2c882743-6105-4f22-ac9e-8f183fa6d46b",
   "metadata": {},
   "outputs": [
    {
     "data": {
      "text/plain": [
       "'Hello me!'"
      ]
     },
     "execution_count": 23,
     "metadata": {},
     "output_type": "execute_result"
    }
   ],
   "source": [
    "x"
   ]
  },
  {
   "cell_type": "code",
   "execution_count": 24,
   "id": "dac82f45-d442-48a6-9ac9-aef7c1dd7687",
   "metadata": {},
   "outputs": [
    {
     "name": "stdout",
     "output_type": "stream",
     "text": [
      "Hello atman!\n"
     ]
    }
   ],
   "source": [
    "def greeting(name):\n",
    "    if name == 'Batman':\n",
    "        return 'Hello Batman! So, nice to meet you!'\n",
    "    print (f'Hello {name}!')\n",
    "\n",
    "greeting ('atman')"
   ]
  },
  {
   "cell_type": "code",
   "execution_count": 25,
   "id": "899532cd-2f01-4ec8-bd4e-9b8318ef3d85",
   "metadata": {},
   "outputs": [
    {
     "name": "stdout",
     "output_type": "stream",
     "text": [
      "Hello me!\n"
     ]
    }
   ],
   "source": [
    "x= greeting('me')"
   ]
  },
  {
   "cell_type": "code",
   "execution_count": 26,
   "id": "7d947a25-746f-4730-8ac7-513d6f4182c6",
   "metadata": {},
   "outputs": [],
   "source": [
    "x"
   ]
  },
  {
   "cell_type": "markdown",
   "id": "ad5316b6-270f-45cb-a7bc-71486270e5a3",
   "metadata": {},
   "source": [
    "## **Exercise 2** ##"
   ]
  },
  {
   "cell_type": "code",
   "execution_count": 14,
   "id": "28f3d604-8d24-4835-9497-42ba48122b79",
   "metadata": {},
   "outputs": [
    {
     "name": "stdin",
     "output_type": "stream",
     "text": [
      "Please input Weight in kg? 45\n"
     ]
    },
    {
     "name": "stdout",
     "output_type": "stream",
     "text": [
      "weight=45.0kg\n"
     ]
    },
    {
     "name": "stdin",
     "output_type": "stream",
     "text": [
      "Please input height in m? 1.55\n"
     ]
    },
    {
     "name": "stdout",
     "output_type": "stream",
     "text": [
      "height=1.55m\n",
      "BMI=18.73\n"
     ]
    },
    {
     "data": {
      "text/plain": [
       "'Catergory: Normal Weight'"
      ]
     },
     "execution_count": 14,
     "metadata": {},
     "output_type": "execute_result"
    }
   ],
   "source": [
    "weight = float(input('Please input Weight in kg?'))\n",
    "print(f'weight={weight}kg')\n",
    "\n",
    "height = float(input('Please input height in m?'))\n",
    "print(f'height={height}m')\n",
    "\n",
    "BMI = weight / (height ** 2)\n",
    "print(f'BMI={BMI:.2f}')\n",
    "\n",
    "def calculate_bmi(BMI):\n",
    "    if BMI <18.5:\n",
    "        return 'Catergory: Underweight'\n",
    "    elif  18.5 <= BMI <= 24.9:\n",
    "        return 'Catergory: Normal Weight'\n",
    "    elif  25 <= BMI <= 29.9:\n",
    "        return 'Catergory: Overweight'\n",
    "    elif BMI >=30:\n",
    "        return 'Catergory: Obese'\n",
    "    else:\n",
    "        return 'Invalid'\n",
    "\n",
    "calculate_bmi(BMI)"
   ]
  },
  {
   "cell_type": "code",
   "execution_count": 16,
   "id": "230a6900-1380-4145-9976-38077ac0ed36",
   "metadata": {},
   "outputs": [],
   "source": [
    "#Corrections: calculate_bmi now takes in both parameters, and can handle 0 and negative inputs"
   ]
  },
  {
   "cell_type": "code",
   "execution_count": 15,
   "id": "5cb7e02b-e3f0-4eb9-9ea8-e728355d5972",
   "metadata": {},
   "outputs": [
    {
     "data": {
      "text/plain": [
       "'Invalid input: weight and height must be greater than 0.'"
      ]
     },
     "execution_count": 15,
     "metadata": {},
     "output_type": "execute_result"
    }
   ],
   "source": [
    "def calculate_bmi(weight, height):\n",
    "    if weight <= 0 or height <= 0:\n",
    "        return 'Invalid input: weight and height must be greater than 0.'\n",
    "    \n",
    "    BMI = weight / (height ** 2)\n",
    "    print(BMI)\n",
    "    \n",
    "    if BMI <18.5:\n",
    "        return 'Category: Underweight'\n",
    "    elif  18.5 <= BMI <= 24.9:\n",
    "        return 'Category: Normal Weight'\n",
    "    elif  25 <= BMI <= 29.9:\n",
    "        return 'Category: Overweight'\n",
    "    elif BMI >=30:\n",
    "        return 'Category: Obese'\n",
    "    else:\n",
    "        return 'Invalid'\n",
    "\n",
    "calculate_bmi(0,1.54)\n"
   ]
  },
  {
   "cell_type": "markdown",
   "id": "8d42d475-8737-46c2-b761-b0a30a66c6f0",
   "metadata": {},
   "source": [
    "## **Exercise 3** ##"
   ]
  },
  {
   "cell_type": "code",
   "execution_count": 21,
   "id": "72a55381-dd17-4fb2-900b-f2125e53b3ff",
   "metadata": {},
   "outputs": [
    {
     "name": "stdin",
     "output_type": "stream",
     "text": [
      "Please provide me with an integer 5\n"
     ]
    },
    {
     "data": {
      "text/plain": [
       "120"
      ]
     },
     "execution_count": 21,
     "metadata": {},
     "output_type": "execute_result"
    }
   ],
   "source": [
    "n = int(input('Please provide me with an integer:'))\n",
    "\n",
    "def factorial(n): \n",
    "    if n<0: \n",
    "        return \"Invalid input\" \n",
    "    elif n == 0: \n",
    "        return 1\n",
    "    else:\n",
    "        result = 1\n",
    "        for number in range(1, n+1): \n",
    "            result *= number\n",
    "        return result\n",
    "\n",
    "factorial(n)  "
   ]
  },
  {
   "cell_type": "code",
   "execution_count": 17,
   "id": "e8c2b3b4-7b23-47b1-8338-39faabb2f9c0",
   "metadata": {},
   "outputs": [],
   "source": [
    "#'print' would be a better choice here as we are not required 'store' the output and 'use' it again. "
   ]
  },
  {
   "cell_type": "markdown",
   "id": "73628990-b27d-4d9d-b7ab-e68563bdc73c",
   "metadata": {},
   "source": [
    "Differences\n",
    "1) return only\n",
    "- produces an output, stores the output and can be used subsequently\n",
    "2) print only\n",
    "- produces an output without storing it\n",
    "3) return print\n",
    "- produces and output and returns it, ie storing it. However the output will be 'None' as printing the output does not store it. \n",
    "4) print return\n",
    "- when a value is returned, it stops executing the function, and therefore the print will not work. "
   ]
  },
  {
   "cell_type": "code",
   "execution_count": null,
   "id": "099e4526-31b8-47b2-8aa9-e343cbced618",
   "metadata": {},
   "outputs": [],
   "source": []
  }
 ],
 "metadata": {
  "kernelspec": {
   "display_name": "Python 3 (ipykernel)",
   "language": "python",
   "name": "python3"
  },
  "language_info": {
   "codemirror_mode": {
    "name": "ipython",
    "version": 3
   },
   "file_extension": ".py",
   "mimetype": "text/x-python",
   "name": "python",
   "nbconvert_exporter": "python",
   "pygments_lexer": "ipython3",
   "version": "3.12.3"
  },
  "toc": {
   "base_numbering": 1,
   "nav_menu": {},
   "number_sections": true,
   "sideBar": true,
   "skip_h1_title": false,
   "title_cell": "Table of Contents",
   "title_sidebar": "Contents",
   "toc_cell": false,
   "toc_position": {},
   "toc_section_display": true,
   "toc_window_display": false
  },
  "vscode": {
   "interpreter": {
    "hash": "31f2aee4e71d21fbe5cf8b01ff0e069b9275f58929596ceb00d14d90e3e16cd6"
   }
  }
 },
 "nbformat": 4,
 "nbformat_minor": 5
}
