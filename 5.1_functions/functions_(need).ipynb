{
 "cells": [
  {
   "attachments": {},
   "cell_type": "markdown",
   "id": "123456",
   "metadata": {},
   "source": [
    "<div style=\"text-align:left;font-size:2em\"><span style=\"font-weight:bolder;font-size:1.25em\">SP2273 | Learning Portfolio</span><br><br><span style=\"font-weight:bold;color:darkred\">Functions (Need)</span></div>"
   ]
  },
  {
   "attachments": {},
   "cell_type": "markdown",
   "id": "21db1259",
   "metadata": {},
   "source": [
    "# What to expect in this chapter"
   ]
  },
  {
   "attachments": {},
   "cell_type": "markdown",
   "id": "d9f373c7",
   "metadata": {},
   "source": [
    "# 1 User-defined functions"
   ]
  },
  {
   "cell_type": "code",
   "execution_count": 1,
   "id": "093f7d38-cfea-45bd-9161-9c85c36348e5",
   "metadata": {},
   "outputs": [],
   "source": [
    "#internal functions vs user defined functions"
   ]
  },
  {
   "attachments": {},
   "cell_type": "markdown",
   "id": "82c32a55",
   "metadata": {},
   "source": [
    "## 1.1 Named Functions"
   ]
  },
  {
   "cell_type": "code",
   "execution_count": 18,
   "id": "ab8aa5c6-5791-4b76-83b6-01725cbfad04",
   "metadata": {},
   "outputs": [
    {
     "data": {
      "text/plain": [
       "'I am 5 years old!'"
      ]
     },
     "execution_count": 18,
     "metadata": {},
     "output_type": "execute_result"
    }
   ],
   "source": [
    "def greeting(age):\n",
    "    if age == '5':\n",
    "        return 'I am 5 years old!'\n",
    "    else:\n",
    "        return f'I am {age} years old!'\n",
    "age = 5 #accepts interger\n",
    "greeting(age)"
   ]
  },
  {
   "cell_type": "code",
   "execution_count": 21,
   "id": "b9ee5bfe-f5d4-43bb-8e60-8feddddc044d",
   "metadata": {},
   "outputs": [
    {
     "data": {
      "text/plain": [
       "'I am 6 years old!'"
      ]
     },
     "execution_count": 21,
     "metadata": {},
     "output_type": "execute_result"
    }
   ],
   "source": [
    "def greeting(age):\n",
    "    if age == '5':\n",
    "        return 'I am 5 years old!'\n",
    "    else:\n",
    "        return f'I am {age} years old!'\n",
    "age = 6 #accepts interger\n",
    "greeting(age)"
   ]
  },
  {
   "cell_type": "code",
   "execution_count": 19,
   "id": "2f99072d-a0a4-415b-bbb4-dab547c484df",
   "metadata": {},
   "outputs": [
    {
     "data": {
      "text/plain": [
       "'I am six years old!'"
      ]
     },
     "execution_count": 19,
     "metadata": {},
     "output_type": "execute_result"
    }
   ],
   "source": [
    "def greeting(age):\n",
    "    if age == '5':\n",
    "        return 'I am 5 years old!'\n",
    "    else:\n",
    "        return f'I am {age} years old!'\n",
    "age = 'six' #accepts string\n",
    "greeting(age)\n"
   ]
  },
  {
   "cell_type": "code",
   "execution_count": 22,
   "id": "956b481b-7a90-47f0-aef8-e8d2018f8e97",
   "metadata": {},
   "outputs": [
    {
     "ename": "NameError",
     "evalue": "name 'six' is not defined",
     "output_type": "error",
     "traceback": [
      "\u001b[1;31m---------------------------------------------------------------------------\u001b[0m",
      "\u001b[1;31mNameError\u001b[0m                                 Traceback (most recent call last)",
      "Cell \u001b[1;32mIn[22], line 6\u001b[0m\n\u001b[0;32m      4\u001b[0m     \u001b[38;5;28;01melse\u001b[39;00m:\n\u001b[0;32m      5\u001b[0m         \u001b[38;5;28;01mreturn\u001b[39;00m \u001b[38;5;124mf\u001b[39m\u001b[38;5;124m'\u001b[39m\u001b[38;5;124mI am \u001b[39m\u001b[38;5;132;01m{\u001b[39;00mage\u001b[38;5;132;01m}\u001b[39;00m\u001b[38;5;124m years old!\u001b[39m\u001b[38;5;124m'\u001b[39m\n\u001b[1;32m----> 6\u001b[0m age \u001b[38;5;241m=\u001b[39m \u001b[43msix\u001b[49m \u001b[38;5;66;03m#doesnt work because it is taking it as a varible\u001b[39;00m\n\u001b[0;32m      7\u001b[0m greeting(age)\n",
      "\u001b[1;31mNameError\u001b[0m: name 'six' is not defined"
     ]
    }
   ],
   "source": [
    "def greeting(age):\n",
    "    if age == '5':\n",
    "        return 'I am 5 years old!'\n",
    "    else:\n",
    "        return f'I am {age} years old!'\n",
    "age = six #doesnt work because it is taking it as a variable\n",
    "greeting(age)\n"
   ]
  },
  {
   "attachments": {},
   "cell_type": "markdown",
   "id": "a9e1b18d",
   "metadata": {},
   "source": [
    "### Named functions that return"
   ]
  },
  {
   "cell_type": "code",
   "execution_count": 26,
   "id": "58bcf824-29cc-4615-94a6-899101dc6ed5",
   "metadata": {},
   "outputs": [],
   "source": [
    "def greet():\n",
    "    return \"Hello!\"\n",
    "#function is not called  yet \n"
   ]
  },
  {
   "cell_type": "code",
   "execution_count": 27,
   "id": "f3c7b2b4-98c1-4c73-8bd4-205086e55cad",
   "metadata": {},
   "outputs": [
    {
     "data": {
      "text/plain": [
       "'Hello!'"
      ]
     },
     "execution_count": 27,
     "metadata": {},
     "output_type": "execute_result"
    }
   ],
   "source": [
    "greet() #function is called "
   ]
  },
  {
   "cell_type": "code",
   "execution_count": 31,
   "id": "4b59f55a-0e6f-4af9-8db6-1853acb4e630",
   "metadata": {},
   "outputs": [],
   "source": [
    "def greet():\n",
    "    return \"Hello!\" #return is written within the function (it generates an output)\n",
    "    greet()"
   ]
  },
  {
   "cell_type": "code",
   "execution_count": 33,
   "id": "23c4ba6f-f2ea-4436-ad90-08cb57517559",
   "metadata": {},
   "outputs": [
    {
     "data": {
      "text/plain": [
       "'Hello!'"
      ]
     },
     "execution_count": 33,
     "metadata": {},
     "output_type": "execute_result"
    }
   ],
   "source": [
    "def greet():\n",
    "    return \"Hello!\"\n",
    "greet() # function is 'called' but it is written outside the function"
   ]
  },
  {
   "cell_type": "code",
   "execution_count": 23,
   "id": "06e077cc",
   "metadata": {},
   "outputs": [
    {
     "data": {
      "text/plain": [
       "'Hello Clara!'"
      ]
     },
     "execution_count": 23,
     "metadata": {},
     "output_type": "execute_result"
    }
   ],
   "source": [
    "def greeting(name): #how do you greet a name? \n",
    "    if name == 'Batman':\n",
    "        return 'Hello Batman! So, nice to meet you!'\n",
    "    else:\n",
    "        return f'Hello {name}!'\n",
    "\n",
    "greeting('Clara')"
   ]
  },
  {
   "cell_type": "code",
   "execution_count": 9,
   "id": "0dae41f9-c961-4aa2-a609-b5f840ccca50",
   "metadata": {},
   "outputs": [
    {
     "ename": "UFuncTypeError",
     "evalue": "ufunc 'minimum' did not contain a loop with signature matching types (dtype('<U1'), dtype('<U1')) -> None",
     "output_type": "error",
     "traceback": [
      "\u001b[1;31m---------------------------------------------------------------------------\u001b[0m",
      "\u001b[1;31mUFuncTypeError\u001b[0m                            Traceback (most recent call last)",
      "Cell \u001b[1;32mIn[9], line 9\u001b[0m\n\u001b[0;32m      6\u001b[0m     my_mean \u001b[38;5;241m=\u001b[39m np_numbers\u001b[38;5;241m.\u001b[39mmean()\n\u001b[0;32m      7\u001b[0m     \u001b[38;5;28;01mreturn\u001b[39;00m my_max, my_min, my_mean\n\u001b[1;32m----> 9\u001b[0m \u001b[43mbasic_stats\u001b[49m\u001b[43m(\u001b[49m\u001b[38;5;124;43m'\u001b[39;49m\u001b[38;5;124;43m1\u001b[39;49m\u001b[38;5;124;43m'\u001b[39;49m\u001b[43m)\u001b[49m\n",
      "Cell \u001b[1;32mIn[9], line 4\u001b[0m, in \u001b[0;36mbasic_stats\u001b[1;34m(numbers)\u001b[0m\n\u001b[0;32m      2\u001b[0m \u001b[38;5;28;01mdef\u001b[39;00m \u001b[38;5;21mbasic_stats\u001b[39m(numbers):\n\u001b[0;32m      3\u001b[0m     np_numbers \u001b[38;5;241m=\u001b[39m np\u001b[38;5;241m.\u001b[39marray(numbers)\n\u001b[1;32m----> 4\u001b[0m     my_min \u001b[38;5;241m=\u001b[39m \u001b[43mnp_numbers\u001b[49m\u001b[38;5;241;43m.\u001b[39;49m\u001b[43mmin\u001b[49m\u001b[43m(\u001b[49m\u001b[43m)\u001b[49m\n\u001b[0;32m      5\u001b[0m     my_max \u001b[38;5;241m=\u001b[39m np_numbers\u001b[38;5;241m.\u001b[39mmax()\n\u001b[0;32m      6\u001b[0m     my_mean \u001b[38;5;241m=\u001b[39m np_numbers\u001b[38;5;241m.\u001b[39mmean()\n",
      "File \u001b[1;32m~\\miniconda3\\Lib\\site-packages\\numpy\\_core\\_methods.py:48\u001b[0m, in \u001b[0;36m_amin\u001b[1;34m(a, axis, out, keepdims, initial, where)\u001b[0m\n\u001b[0;32m     46\u001b[0m \u001b[38;5;28;01mdef\u001b[39;00m \u001b[38;5;21m_amin\u001b[39m(a, axis\u001b[38;5;241m=\u001b[39m\u001b[38;5;28;01mNone\u001b[39;00m, out\u001b[38;5;241m=\u001b[39m\u001b[38;5;28;01mNone\u001b[39;00m, keepdims\u001b[38;5;241m=\u001b[39m\u001b[38;5;28;01mFalse\u001b[39;00m,\n\u001b[0;32m     47\u001b[0m           initial\u001b[38;5;241m=\u001b[39m_NoValue, where\u001b[38;5;241m=\u001b[39m\u001b[38;5;28;01mTrue\u001b[39;00m):\n\u001b[1;32m---> 48\u001b[0m     \u001b[38;5;28;01mreturn\u001b[39;00m \u001b[43mumr_minimum\u001b[49m\u001b[43m(\u001b[49m\u001b[43ma\u001b[49m\u001b[43m,\u001b[49m\u001b[43m \u001b[49m\u001b[43maxis\u001b[49m\u001b[43m,\u001b[49m\u001b[43m \u001b[49m\u001b[38;5;28;43;01mNone\u001b[39;49;00m\u001b[43m,\u001b[49m\u001b[43m \u001b[49m\u001b[43mout\u001b[49m\u001b[43m,\u001b[49m\u001b[43m \u001b[49m\u001b[43mkeepdims\u001b[49m\u001b[43m,\u001b[49m\u001b[43m \u001b[49m\u001b[43minitial\u001b[49m\u001b[43m,\u001b[49m\u001b[43m \u001b[49m\u001b[43mwhere\u001b[49m\u001b[43m)\u001b[49m\n",
      "\u001b[1;31mUFuncTypeError\u001b[0m: ufunc 'minimum' did not contain a loop with signature matching types (dtype('<U1'), dtype('<U1')) -> None"
     ]
    }
   ],
   "source": [
    "import numpy as np\n",
    "def basic_stats(numbers):\n",
    "    np_numbers = np.array(numbers)\n",
    "    my_min = np_numbers.min()\n",
    "    my_max = np_numbers.max()\n",
    "    my_mean = np_numbers.mean()\n",
    "    return my_max, my_min, my_mean\n",
    "\n",
    "basic_stats('1')\n",
    "    "
   ]
  },
  {
   "attachments": {},
   "cell_type": "markdown",
   "id": "d27cd6e9",
   "metadata": {},
   "source": [
    "### Named functions that don’t return"
   ]
  },
  {
   "cell_type": "code",
   "execution_count": 35,
   "id": "81538c49-6af4-4fb0-a254-a3b53c218fb0",
   "metadata": {},
   "outputs": [],
   "source": [
    "#write(), close(), append() ie to add on, print()\n",
    "#some functions modify something in the environment or perform a task but the value cannot be stored!"
   ]
  },
  {
   "cell_type": "code",
   "execution_count": 37,
   "id": "a1826288-1c7c-47c0-b974-4cb8da474faa",
   "metadata": {},
   "outputs": [
    {
     "name": "stdout",
     "output_type": "stream",
     "text": [
      "7\n"
     ]
    }
   ],
   "source": [
    "def add(a, b):\n",
    "    return a + b  # The function has a return part in its instruction. It returns the sum of a and b\n",
    "\n",
    "result = add(3, 4)  # add() calls the function. the returned value is stored. \n",
    "print(result)  "
   ]
  },
  {
   "cell_type": "code",
   "execution_count": 43,
   "id": "20a7fbb8-8405-4df1-be5b-1c238dfa18a3",
   "metadata": {},
   "outputs": [
    {
     "name": "stdout",
     "output_type": "stream",
     "text": [
      "Hello!\n",
      "Hello!\n",
      "None\n"
     ]
    }
   ],
   "source": [
    "def greet():\n",
    "    print(\"Hello!\")  # The function has no return part in its instruction. This function prints something but doesn't return a value\n",
    "\n",
    "greet() #calls the function, prints 'hello!\n",
    "message = greet()  # does the action but did not store the value\n",
    "print(message)  # Nothing was returned, so nothing can be stored in the variable 'message'"
   ]
  },
  {
   "attachments": {},
   "cell_type": "markdown",
   "id": "c9de20bc",
   "metadata": {},
   "source": [
    "## 1.2 Anonymous functions"
   ]
  },
  {
   "cell_type": "code",
   "execution_count": null,
   "id": "95234f87-aa3f-426d-8681-6fb1d0e294b2",
   "metadata": {},
   "outputs": [],
   "source": [
    "#functions that are short and usually used for one time purposes e.g lambda. It has a different syntax.\n",
    "#lambda arguments: expression\n"
   ]
  },
  {
   "attachments": {},
   "cell_type": "markdown",
   "id": "60083e72",
   "metadata": {},
   "source": [
    "## 1.3 Optional arguments"
   ]
  },
  {
   "cell_type": "code",
   "execution_count": 48,
   "id": "37e0c85d-3240-49cb-8a3e-a5b2f2d79a85",
   "metadata": {},
   "outputs": [],
   "source": [
    "#if you make certain arguments default in a function,\n",
    "#the next time you call it, you dont have to give it an argument (argument is optional) because python will use the assigned value. "
   ]
  },
  {
   "cell_type": "code",
   "execution_count": 52,
   "id": "332ee184-ea25-46e3-ba24-c0202011c02a",
   "metadata": {},
   "outputs": [
    {
     "data": {
      "text/plain": [
       "'Hello no one!'"
      ]
     },
     "execution_count": 52,
     "metadata": {},
     "output_type": "execute_result"
    }
   ],
   "source": [
    "def greeting(name='no one'):\n",
    "    if name == 'Batman':\n",
    "        return 'Hello Batman! So, nice to meet you!'\n",
    "    else:\n",
    "        return f'Hello {name}!'\n",
    "greeting() #if you dont provide a value, python will automatically use the assigned value, which is \"no one\"\n"
   ]
  },
  {
   "cell_type": "code",
   "execution_count": 51,
   "id": "da45a6ad-98cb-4f6f-abad-995c409ee16e",
   "metadata": {},
   "outputs": [
    {
     "data": {
      "text/plain": [
       "'Hello abella!'"
      ]
     },
     "execution_count": 51,
     "metadata": {},
     "output_type": "execute_result"
    }
   ],
   "source": [
    "def greeting(name='no one'):\n",
    "    if name == 'Batman':\n",
    "        return 'Hello Batman! So, nice to meet you!'\n",
    "    else:\n",
    "        return f'Hello {name}!'\n",
    "greeting() #if you dont provide a value, python will automatically use the assigned value, which is \"no one\"\n",
    "greeting('abella')"
   ]
  },
  {
   "attachments": {},
   "cell_type": "markdown",
   "id": "c525c5e9",
   "metadata": {},
   "source": [
    "## 1.4 The importance of functions?"
   ]
  },
  {
   "cell_type": "code",
   "execution_count": null,
   "id": "29643b5a-1933-496a-beb2-d095c5119098",
   "metadata": {},
   "outputs": [],
   "source": [
    "#Modularity,reusable\n",
    "#makes things less detailed for the user because you cna plonk stuff without knowing how the code outputs the data but still get what you want"
   ]
  },
  {
   "attachments": {},
   "cell_type": "markdown",
   "id": "668a4a30",
   "metadata": {},
   "source": [
    "### An argument for functions"
   ]
  },
  {
   "cell_type": "code",
   "execution_count": null,
   "id": "d004a21f",
   "metadata": {},
   "outputs": [],
   "source": [
    "\n",
    "# \n"
   ]
  },
  {
   "attachments": {},
   "cell_type": "markdown",
   "id": "82a5932a",
   "metadata": {},
   "source": [
    "### A word of caution"
   ]
  },
  {
   "cell_type": "code",
   "execution_count": null,
   "id": "6a8f323b",
   "metadata": {},
   "outputs": [],
   "source": [
    "\n",
    "# Your code here\n"
   ]
  }
 ],
 "metadata": {
  "kernelspec": {
   "display_name": "Python 3 (ipykernel)",
   "language": "python",
   "name": "python3"
  },
  "language_info": {
   "codemirror_mode": {
    "name": "ipython",
    "version": 3
   },
   "file_extension": ".py",
   "mimetype": "text/x-python",
   "name": "python",
   "nbconvert_exporter": "python",
   "pygments_lexer": "ipython3",
   "version": "3.12.3"
  },
  "toc": {
   "base_numbering": 1,
   "nav_menu": {},
   "number_sections": true,
   "sideBar": true,
   "skip_h1_title": false,
   "title_cell": "Table of Contents",
   "title_sidebar": "Contents",
   "toc_cell": false,
   "toc_position": {},
   "toc_section_display": true,
   "toc_window_display": false
  },
  "vscode": {
   "interpreter": {
    "hash": "31f2aee4e71d21fbe5cf8b01ff0e069b9275f58929596ceb00d14d90e3e16cd6"
   }
  }
 },
 "nbformat": 4,
 "nbformat_minor": 5
}
